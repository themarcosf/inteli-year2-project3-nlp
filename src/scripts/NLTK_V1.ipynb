{
  "nbformat": 4,
  "nbformat_minor": 0,
  "metadata": {
    "colab": {
      "provenance": []
    },
    "kernelspec": {
      "name": "python3",
      "display_name": "Python 3"
    },
    "language_info": {
      "name": "python"
    }
  },
  "cells": [
    {
      "cell_type": "markdown",
      "source": [
        "# 1.0. Introdução"
      ],
      "metadata": {
        "id": "kdrpO7LIFwcv"
      }
    },
    {
      "cell_type": "markdown",
      "source": [
        "Este arquivo contém um algorítimo responsável por realizar o pré-processamento de textos utilizando a biblioteca de processamento de linguagem natural NLTK. Esse tratamento textual será utilizado para formatar os textos buscados a partir de um WebCrawler, reorganizá-lo de modo a simplificar o entendimento dos assuntos abordados nesses textos e posteriormente alimentar a base de dados utilizada pelo assistente virtual Nexus. Sendo assim, espera-se que ao final de todo o processamento, os textos utilizados para alimentar a base de dados exprimam de maneira clara os principasi tópicos mais relvantes para aquele conteúdo e facilite o processo de busca por parte do Nexus."
      ],
      "metadata": {
        "id": "7pF7GN29FzaF"
      }
    },
    {
      "cell_type": "markdown",
      "source": [
        "# 2.0. Importação de dependências"
      ],
      "metadata": {
        "id": "gphfVyEwJM3E"
      }
    },
    {
      "cell_type": "markdown",
      "source": [
        "Primeiramente, é necessário realizar a instalação da biblioteca NLTK, responsável por fornecer funções que auxiliam no processamento dos textos por meio do uso de algumas ferramentas comumente utilizadas para o processamento de linguagem natural (PLN), como a geração de tokens (Tokenizing) e a derivação (Stemming). Dessa forma, na célula de código abaixo é possível visualizar a importação dessa biblioteca bem como outros recusros advindos dela que também serão importantes para o PLN. A importação dessa biblioteca e suas dependências pode ser vizualisada na célula de código abaixo:\n"
      ],
      "metadata": {
        "id": "8zczdptgJUBC"
      }
    },
    {
      "cell_type": "code",
      "execution_count": 133,
      "metadata": {
        "colab": {
          "base_uri": "https://localhost:8080/"
        },
        "id": "iCLFrMecms6E",
        "outputId": "0fefb8df-5c7b-4e18-8dd1-19ff79af1266"
      },
      "outputs": [
        {
          "output_type": "stream",
          "name": "stderr",
          "text": [
            "[nltk_data] Downloading package stopwords to /root/nltk_data...\n",
            "[nltk_data]   Package stopwords is already up-to-date!\n",
            "[nltk_data] Downloading collection 'popular'\n",
            "[nltk_data]    | \n",
            "[nltk_data]    | Downloading package cmudict to /root/nltk_data...\n",
            "[nltk_data]    |   Package cmudict is already up-to-date!\n",
            "[nltk_data]    | Downloading package gazetteers to /root/nltk_data...\n",
            "[nltk_data]    |   Package gazetteers is already up-to-date!\n",
            "[nltk_data]    | Downloading package genesis to /root/nltk_data...\n",
            "[nltk_data]    |   Package genesis is already up-to-date!\n",
            "[nltk_data]    | Downloading package gutenberg to /root/nltk_data...\n",
            "[nltk_data]    |   Package gutenberg is already up-to-date!\n",
            "[nltk_data]    | Downloading package inaugural to /root/nltk_data...\n",
            "[nltk_data]    |   Package inaugural is already up-to-date!\n",
            "[nltk_data]    | Downloading package movie_reviews to\n",
            "[nltk_data]    |     /root/nltk_data...\n",
            "[nltk_data]    |   Package movie_reviews is already up-to-date!\n",
            "[nltk_data]    | Downloading package names to /root/nltk_data...\n",
            "[nltk_data]    |   Package names is already up-to-date!\n",
            "[nltk_data]    | Downloading package shakespeare to /root/nltk_data...\n",
            "[nltk_data]    |   Package shakespeare is already up-to-date!\n",
            "[nltk_data]    | Downloading package stopwords to /root/nltk_data...\n",
            "[nltk_data]    |   Package stopwords is already up-to-date!\n",
            "[nltk_data]    | Downloading package treebank to /root/nltk_data...\n",
            "[nltk_data]    |   Package treebank is already up-to-date!\n",
            "[nltk_data]    | Downloading package twitter_samples to\n",
            "[nltk_data]    |     /root/nltk_data...\n",
            "[nltk_data]    |   Package twitter_samples is already up-to-date!\n",
            "[nltk_data]    | Downloading package omw to /root/nltk_data...\n",
            "[nltk_data]    |   Package omw is already up-to-date!\n",
            "[nltk_data]    | Downloading package omw-1.4 to /root/nltk_data...\n",
            "[nltk_data]    |   Package omw-1.4 is already up-to-date!\n",
            "[nltk_data]    | Downloading package wordnet to /root/nltk_data...\n",
            "[nltk_data]    |   Package wordnet is already up-to-date!\n",
            "[nltk_data]    | Downloading package wordnet2021 to /root/nltk_data...\n",
            "[nltk_data]    |   Package wordnet2021 is already up-to-date!\n",
            "[nltk_data]    | Downloading package wordnet31 to /root/nltk_data...\n",
            "[nltk_data]    |   Package wordnet31 is already up-to-date!\n",
            "[nltk_data]    | Downloading package wordnet_ic to /root/nltk_data...\n",
            "[nltk_data]    |   Package wordnet_ic is already up-to-date!\n",
            "[nltk_data]    | Downloading package words to /root/nltk_data...\n",
            "[nltk_data]    |   Package words is already up-to-date!\n",
            "[nltk_data]    | Downloading package maxent_ne_chunker to\n",
            "[nltk_data]    |     /root/nltk_data...\n",
            "[nltk_data]    |   Package maxent_ne_chunker is already up-to-date!\n",
            "[nltk_data]    | Downloading package punkt to /root/nltk_data...\n",
            "[nltk_data]    |   Package punkt is already up-to-date!\n",
            "[nltk_data]    | Downloading package snowball_data to\n",
            "[nltk_data]    |     /root/nltk_data...\n",
            "[nltk_data]    |   Package snowball_data is already up-to-date!\n",
            "[nltk_data]    | Downloading package averaged_perceptron_tagger to\n",
            "[nltk_data]    |     /root/nltk_data...\n",
            "[nltk_data]    |   Package averaged_perceptron_tagger is already up-\n",
            "[nltk_data]    |       to-date!\n",
            "[nltk_data]    | \n",
            "[nltk_data]  Done downloading collection popular\n",
            "[nltk_data] Downloading package rslp to /root/nltk_data...\n",
            "[nltk_data]   Package rslp is already up-to-date!\n"
          ]
        }
      ],
      "source": [
        "import nltk\n",
        "nltk.download(\"stopwords\")\n",
        "nltk.download(\"popular\")\n",
        "nltk.download('rslp')\n",
        "from nltk.corpus import stopwords\n",
        "from nltk.tokenize import sent_tokenize, word_tokenize"
      ]
    },
    {
      "cell_type": "markdown",
      "source": [
        "#3.0 Processamento de Linguagem Natural Utilizando o NLTK"
      ],
      "metadata": {
        "id": "gojFXN_BLnSZ"
      }
    },
    {
      "cell_type": "markdown",
      "source": [
        "## 3.1. Geração de Tokens e padronização de texos"
      ],
      "metadata": {
        "id": "3dQKRDICLyKp"
      }
    },
    {
      "cell_type": "markdown",
      "source": [
        "O primeiro passo a se fazer é separar cada uma das palavras contidas em um texto como tokens, visto que inicialmente todas as palavras lidas pelo algorítmo são uma única string sem qualquer conexão ou lógica entre os textos contidos dentri dela. Essa tokenização ocorre por meio da função `word_tokenize()`, nativa do NLTK."
      ],
      "metadata": {
        "id": "RKGRSkKiL6X5"
      }
    },
    {
      "cell_type": "markdown",
      "source": [
        "Em seguida, é necessário padronizar os texto recebidos para garantir o mínimo de variações não relevantes para o entendimento do algorítmo quanto ao significado do conteúdo do texto. Sendo assim, é necessário que todos os caracteres estejam escritos em letra minúscula para evitar que a mesma palavra escrita em minúsculo ou maiúsculo seja considerada duas palavras diferentes pelo algorítimo. Para isso, foi feita uma estrutura de repetição que percorre cada palavra tokenizada anteriormente e substitui por meio do método nativo da linguagem de programação Python `.lower()` todos os seus caracteres para letra minúscula. A execução desse processo pode ser visualizada na célula de código abaixo:"
      ],
      "metadata": {
        "id": "QaNCqhvzPBs_"
      }
    },
    {
      "cell_type": "code",
      "source": [
        "words = \"O rato roeu a ropa do rato\"\n",
        "tokenized_string = word_tokenize(words)\n",
        "lowercase_string = [\n",
        "    word.lower() for word in tokenized_string\n",
        "]\n",
        "teste1 = lowercase_string\n",
        "lowercase_string\n"
      ],
      "metadata": {
        "colab": {
          "base_uri": "https://localhost:8080/"
        },
        "id": "vaSQCO4qhTLg",
        "outputId": "479b8a79-2ff0-4d13-c9dc-6eba3be4dae7"
      },
      "execution_count": 134,
      "outputs": [
        {
          "output_type": "execute_result",
          "data": {
            "text/plain": [
              "['o', 'rato', 'roeu', 'a', 'ropa', 'do', 'rato']"
            ]
          },
          "metadata": {},
          "execution_count": 134
        }
      ]
    },
    {
      "cell_type": "markdown",
      "source": [
        "## 3.2. Retirada de Stopwords"
      ],
      "metadata": {
        "id": "PDJbYgyKShSp"
      }
    },
    {
      "cell_type": "markdown",
      "source": [
        "Outro fator que pode comprometer o entendimento do significado textual por parte do algorítimo é a presença de stopwords. Essas são palavras utilizadas somente para conectar estruturas sintáticas, sem apresentar de fato um significado relevante para o texto e portanto não devem ser levadas em consideração durante o aprendizado do algorítimo."
      ],
      "metadata": {
        "id": "olNHoajWSl4F"
      }
    },
    {
      "cell_type": "markdown",
      "source": [
        "A biblioteca NLTK possúi por padrão um agrupamento de palavras consideradas stopwords, sendo em sua maioria artigos, preposições e conjunções. Dessa forma, é criado uma estrutura de repetição que percorres cada um dos tokens gerados e os compara com as stopwords pré-definidas. Se esses tokens, representarem uma stopword, o algorítmo irá desconsiderá-lo e ele não entrará na lista de palavras filtradas nesse processo, que pode ser visualizado na célula de código abaixo:"
      ],
      "metadata": {
        "id": "axki7J8VTPNz"
      }
    },
    {
      "cell_type": "code",
      "source": [
        "stop_words = set(stopwords.words(\"portuguese\"))\n",
        "\n",
        "filtered_list = []\n",
        "\n",
        "filtered_list = [\n",
        "    word for word in lowercase_string if word.casefold() not in stop_words\n",
        "]\n",
        "teste2 = filtered_list\n",
        "filtered_list"
      ],
      "metadata": {
        "colab": {
          "base_uri": "https://localhost:8080/"
        },
        "id": "CcRLGZUMhvGc",
        "outputId": "042bd46b-4ee5-4004-8720-288c36fba7c2"
      },
      "execution_count": 135,
      "outputs": [
        {
          "output_type": "execute_result",
          "data": {
            "text/plain": [
              "['rato', 'roeu', 'ropa', 'rato']"
            ]
          },
          "metadata": {},
          "execution_count": 135
        }
      ]
    },
    {
      "cell_type": "markdown",
      "source": [
        "## 3.3. Derivação (Stemming)"
      ],
      "metadata": {
        "id": "LeLgGG7RUc3S"
      }
    },
    {
      "cell_type": "markdown",
      "source": [
        "Outro distrator durante o entendimento do texto por parte do algorítmo é a presença de palavras que contém o mesmo significado, mas possuem sintaxes diferentes. Dessa forma, palavras como \"construção\" e \"construir\" precisam ser convertidas ao mesmo radical para evitar a duplicação de significados dentro de um texto"
      ],
      "metadata": {
        "id": "mXV0pZ5nUuuu"
      }
    },
    {
      "cell_type": "markdown",
      "source": [
        "Para isso, foi utilizada a função nativa do NLTK `.steam()`, que irá percorrer dentro de uma estrutura de repetição cada palavra tokenizada e convertê-la ao radical que originou essa palavra. Esse processo pode ser visuzalizado na célula abaixo:"
      ],
      "metadata": {
        "id": "kVLT9D07VYgr"
      }
    },
    {
      "cell_type": "code",
      "source": [
        "\n",
        "stemmer = nltk.stem.RSLPStemmer()\n",
        "stemmer_list = [\n",
        "    stemmer.stem(word) for word in filtered_list\n",
        "]\n",
        "teste3=stemmer_list\n",
        "stemmer_list"
      ],
      "metadata": {
        "colab": {
          "base_uri": "https://localhost:8080/"
        },
        "id": "21-I-ab2hy8a",
        "outputId": "cbcc8b2a-0b26-4f90-8d46-64f5ef7aa907"
      },
      "execution_count": 136,
      "outputs": [
        {
          "output_type": "execute_result",
          "data": {
            "text/plain": [
              "['rat', 'roeu', 'rop', 'rat']"
            ]
          },
          "metadata": {},
          "execution_count": 136
        }
      ]
    },
    {
      "cell_type": "markdown",
      "source": [
        "# 4.0. Realização de Testes"
      ],
      "metadata": {
        "id": "kmJUcdKDWDS8"
      }
    },
    {
      "cell_type": "markdown",
      "source": [
        "Com a finalidade de garantir um melhor desempenho para o algorítmo e validar os processos realizados acima, foram realizados alguns testes unitários para averiguar o pleno funcionamento das funções descritas acima. A verificação de cada teste pode ser vizualizada na célula de código abaixo:"
      ],
      "metadata": {
        "id": "WFR_GoO8vd6t"
      }
    },
    {
      "cell_type": "code",
      "source": [
        "frase_teste = words\n",
        "#teste 1\n",
        "tokenized_string = word_tokenize(frase_teste)\n",
        "lowercase_string = [\n",
        "    word.lower() for word in tokenized_string\n",
        "]\n",
        "\n",
        "#teste 2\n",
        "stop_words = set(stopwords.words(\"portuguese\"))\n",
        "\n",
        "filtered_list = []\n",
        "\n",
        "filtered_list = [\n",
        "    word for word in lowercase_string if word.casefold() not in stop_words\n",
        "]\n",
        "\n",
        "#teste 3\n",
        "stemmer = nltk.stem.RSLPStemmer()\n",
        "\n",
        "stemmer_list = [\n",
        "    stemmer.stem(word) for word in filtered_list\n",
        "]\n",
        "\n",
        "\n",
        "if lowercase_string == teste1:\n",
        "  print(\"passou no teste 1\")\n",
        "else:\n",
        "  print(\"falhou no teste 1\")\n",
        "\n",
        "if filtered_list == teste2:\n",
        "  print(\"passou no teste 2\")\n",
        "else:\n",
        "  print(\"falhou no teste 2\")\n",
        "\n",
        "if stemmer_list == teste3:\n",
        "  print(\"passou no teste 3\")\n",
        "else:\n",
        "  print(\"falhou no teste 3\")"
      ],
      "metadata": {
        "colab": {
          "base_uri": "https://localhost:8080/"
        },
        "id": "ENEFi5qkqp3B",
        "outputId": "153036ec-e03f-4637-d823-047d282421f9"
      },
      "execution_count": 137,
      "outputs": [
        {
          "output_type": "stream",
          "name": "stdout",
          "text": [
            "passou no teste 1\n",
            "passou no teste 2\n",
            "passou no teste 3\n"
          ]
        }
      ]
    },
    {
      "cell_type": "markdown",
      "source": [
        "#5.0. Tratamento de dados"
      ],
      "metadata": {
        "id": "toly9xMue1f1"
      }
    },
    {
      "cell_type": "markdown",
      "source": [
        "A fim de demonstrar e compreender o funcionamento do algoritimo criado, foi realizado um *case* de exemplo no qual uma série de notícias retiradas do google serão submetidas ao pré processamento descrito em cada uma das funções e no final espera-se obter um comparativo entre essas noticias.\n"
      ],
      "metadata": {
        "id": "L1WiaQ3Xe5xw"
      }
    },
    {
      "cell_type": "markdown",
      "source": [
        "##5.1. Definição dos textos a serem utilizados"
      ],
      "metadata": {
        "id": "1JobfsDWe_DB"
      }
    },
    {
      "cell_type": "markdown",
      "source": [
        "Primeiramente, o conteúdo de cada uma das 10 noticias foi armazenado em uma variável."
      ],
      "metadata": {
        "id": "CdkzLNozfAO8"
      }
    },
    {
      "cell_type": "code",
      "source": [
        "news1= \"\"\"Acesse nossa plataforma a maior comunidade de TI do Brasil\n",
        "\n",
        "    Fóruns\n",
        "    Notícias\n",
        "    IT Forum Series\n",
        "    Colunas\n",
        "    Estudos\n",
        "    Vídeos\n",
        "    Podcasts\n",
        "    Revistas\n",
        "\n",
        "HIT\n",
        "\n",
        "Materiais educativos e gratuitos\n",
        "\n",
        "    iforum icon social Anuncie\n",
        "    iforum icon social Envie seu Release\n",
        "    iforum icon social Fale conosco\n",
        "    iforum icon social Revistas\n",
        "    iforum icon social Newsletter\n",
        "\n",
        "Logo IT\n",
        "IT Forum é um produto do grupo IT Mídia saiba mais\n",
        "IT Forum\n",
        "Email\n",
        "Realizado por:\n",
        "\n",
        "    Facebook\n",
        "    linkedin\n",
        "    twitter\n",
        "    telegram\n",
        "    whatsapp\n",
        "    msg\n",
        "\n",
        "    Home > Notícias > Computerworld Brasil > Bradesco amplia parceria com IBM...\n",
        "\n",
        "Bradesco amplia parceria com IBM para explorar criptografia pós-quântica\n",
        "Projeto piloto utilizará tecnologia da IBM que buscará por criptográficos e vulnerabilidades no Open Finance do banco\n",
        "Redação\n",
        "7:58 pm - 01 de agosto de 2023\n",
        "Bradesco\n",
        "Imagem: Shutterstock\n",
        "\n",
        "De olho no futuro da computação quântica, o Bradesco, por meio do seu ecossistema de inovação inovabra, anunciou que ampliará seu relacionamento com a IBM para explorar e avaliar o uso de criptografia quântica segura. Inicialmente, será utilizada a aplicação do Open Finance do banco como projeto piloto para implementar o IBM Quantum Safe.\n",
        "\n",
        "A tecnologia da IBM varre e localiza criptográficos, pendências e vulnerabilidades. Isso permitirá ao Bradesco criar um Inventário de Materiais Criptográficos (CBOM) para melhor planejar, implementar e aplicar na prática a tecnologia de criptografia pós-quântica.\n",
        "\n",
        "O Bradesco lembra que o setor financeiro já utiliza normalmente a criptografia para transações bancárias, certificados digitais, armazenamento dos dados, entre outros. Agora, os especialistas, por meio do IBM Quantum Safe Explorer, ajudarão o banco a identificar potenciais algoritmos criptográficos vulneráveis nos seus sistemas, auxiliando na identificação de aplicações sob risco de ataques usando computação quântica.\n",
        "\n",
        "Com base nessa avaliação, o Bradesco planeja criar uma metodologia para identificar outras aplicações que possam se beneficiar de tecnologias de criptografia pós-quânticas seguras e prepará-las para integrar os algoritmos resistentes a futuros computadores quânticos criptograficamente relevantes.\n",
        "\n",
        "Leia ainda: Totvs e Itaú Unibanco finalizam criação da Techfin\n",
        "\n",
        "“Uma das consequências da computação quântica em larga escala no futuro pode ser seu impacto nos sistemas de proteção de dados. Entendemos que nossa preparação é prioridade neste momento. Afinal, a segurança é inerente à nossa missão como banco”, afirma Cíntia Barcelos, diretora de tecnologia do Bradesco.\n",
        "\n",
        "O Bradesco também anunciou que agora integra o IBM Quantum Network para explorar as aplicações da indústria de computação quântica. Ao aderir à esta rede, o Bradesco passa a ter acesso à expertise e aos softwares quânticos da IBM.\n",
        "\n",
        "Com o movimento, o Bradesco busca ampliar as experimentações com a computação quântica, que vêm sendo realizadas desde 2021, incluindo experimentos em otimização, (distribuição de caixa e otimização de portfólio); forecasting (projeção de variáveis macroeconômicas) e simulação (precificação de derivativos e análise de risco)\n",
        "\n",
        "“À medida que as capacidades da computação quântica avançam, isso pode nos permitir um dia ver uma maior eficiência operacional e a resolução de problemas que atualmente são considerados difíceis para os computadores clássicos. Esperamos que a tecnologia possa ser amplamente utilizada em um período de 5 a 10 anos”, diz Cíntia.\n",
        "\n",
        "O banco também afirma estar investindo em treinamentos científicos para equipar seu time de TI e base de funcionários com o conhecimento necessário para iniciar o planejamento da integração da tecnologia quântica em suas operações.\n",
        "\n",
        "Siga o IT Forum no LinkedIn e fique por dentro de todas as notícias!\n",
        "Tags:\n",
        "Bradesco\n",
        "computação quântica\n",
        "criptografia\n",
        "IBM\n",
        "open finance\n",
        "EM ALTA NO IT FORUM\n",
        "Notícias\n",
        "People’s Choice: conheça os CEOs finalistas do prêmio Executivo de TI 2023\n",
        "Notícias\n",
        "Hackers burlam autenticação multifator e avançam contra contas de CEOs e CFOs\n",
        "Notícias\n",
        "Bruna Zamith revela como é ser cientista de dados na Amazon\n",
        "INSCREVA-SE NA NOSSA NEWSLETTER\n",
        "\n",
        "Notícias relacionadas\n",
        "Computerworld Brasil\n",
        "Conforme a adoção dos dispositivos de realidade virtual aumenta, questões de privacidade podem surgir\n",
        "Notícias\n",
        "TIM passa a oferecer atendimento a partir da busca do Google\n",
        "Notícias\n",
        "Dia da Informática: 6 empresas que marcaram a história da TI no Brasil\n",
        "Notícias\n",
        "CMOs apostam em IA generativa como vantagem competitiva, diz BCG\n",
        "Newsletter de tecnologia para você\n",
        "\n",
        "Os melhores conteúdos do IT Forum, ComputerWorld, CIO e CSO na sua caixa de entrada.\n",
        "\n",
        "IT Forum\n",
        "\n",
        "Fóruns\n",
        "\n",
        "    Todos os Fóruns\n",
        "\n",
        "Notícias\n",
        "\n",
        "    Todas as Notícias\n",
        "    Liderança\n",
        "    Carreira\n",
        "    Negócios\n",
        "    Tendências\n",
        "    Computerworld Brasil\n",
        "    CIO\n",
        "    CSO\n",
        "\n",
        "COLUNAS\n",
        "\n",
        "    Todas as Colunas\n",
        "\n",
        "ESTUDOS\n",
        "\n",
        "    Todos os Estudos\n",
        "\n",
        "VIDEOS\n",
        "\n",
        "    Assistir Vídeos\n",
        "\n",
        "PODCASTS\n",
        "\n",
        "    Escutar Podcasts\n",
        "\n",
        "HIT\n",
        "\n",
        "    Acessar HIT\n",
        "\n",
        "    itforum icon social Anuncie\n",
        "    itforum icon social Envie seu Release\n",
        "    itforum icon social Fale conosco\n",
        "    itforum icon social Revistas\n",
        "    itforum icon social Newsletter\n",
        "\n",
        "Política de privacidade\n",
        "Termos de Uso\n",
        "Copyright 2022 IT MIDIA - Todos os Direitos Reservados\"\"\""
      ],
      "metadata": {
        "id": "Vs2oo0PFa5aF"
      },
      "execution_count": 138,
      "outputs": []
    },
    {
      "cell_type": "code",
      "source": [
        "news2 = \"\"\"Trecho de adutora estoura e 250 mil moradores ficam sem água no Grande Recife, diz Compesa\n",
        "Suspensão do abastecimento afeta localidades do Cabo de Santo Agostinho e de Jaboatão dos Guararapes, desde a noite da segunda-feira (21), segundo a Compesa.\n",
        "Por g1 PE\n",
        "\n",
        "22/08/2023 16h44  Atualizado há 18 minutos\n",
        "\n",
        "Imagem de arquivo mostra pingo de água caindo de torneira — Foto: Alex Rocha/PMPA\n",
        "Imagem de arquivo mostra pingo de água caindo de torneira — Foto: Alex Rocha/PMPA\n",
        "\n",
        "\n",
        "Moradores de duas cidades do Grande Recife estão sem água desde as 23h da segunda-feira (21). Ao todo, são 250 mil pessoas afetadas pela suspensão do abastecimento, segundo a Companhia Pernambucana de Saneamento (Compesa).\n",
        "\n",
        "📲 Compartilhe no WhatsApp\n",
        "\n",
        "As localidades afetadas foram:\n",
        "\n",
        "Pontezinha (Cabo de Santo Agostinho);\n",
        "Curcurana, Guararapes, Barra de Jangada, Candeias e Piedade (Jaboatão dos Guararapes).\n",
        "O motivo foi o estouramento ocorrido em um trecho de 750 milímetros, em ferro fundido, da Adutora de Gurjau, na Avenida Conde da Boa Vista, no bairro de Pontezinha, no Cabo de Santo Agostinho, no Grande Recife.\n",
        "\n",
        "A expectativa inicial da Compesa é que os serviços durem 24 horas, podendo o prazo se estender a depender da complexidade das intervenções.\n",
        "\n",
        "\n",
        "Ainda de acordo com a Compesa, o fechamento dos registros para conter o fluxo da água é o primeiro procedimento para os serviços de reparo. Isso também permite o esvaziamento da adutora para que o conserto do problema seja efetivamente iniciado.\n",
        "\n",
        "A Compesa detalhou como são os serviços de reparo realizados no local:\n",
        "\n",
        "Por se tratar de uma tubulação de grande porte, técnicos mobilizaram equipamentos pesados, materiais e profissionais para recuperar esse trecho da adutora;\n",
        "Após montada a estrutura, os técnicos iniciaram a escavação até alcançar o trecho do tubo danificado e, assim, fechar o diagnóstico sobre os danos causados;\n",
        "O trabalho é acompanhado por técnicos de outras empresas prestadoras de serviço na área;\n",
        "O órgão municipal de trânsito do Cabo de Santo Agostinho foi acionado para ajudar no desvio disciplinar do trânsito;\n",
        "Foi mobilizada uma equipe social para realizar o levantamento dos danos materiais registrados na área por causa do estouramento, para as providências. \"\"\""
      ],
      "metadata": {
        "id": "vYaeHWK8bARd"
      },
      "execution_count": 139,
      "outputs": []
    },
    {
      "cell_type": "code",
      "source": [
        "news3 = \"\"\" Mizael Bispo é solto após Justiça conceder progressão para o regime aberto\n",
        "O ex-policial foi condenado a mais de 20 anos de prisão pela morte da ex-namorada Mércia Nakashima em 2010. Ele cumpria pena em um presidio em Tremembé, no interior de SP.\n",
        "Por g1 Vale do Paraíba e Região\n",
        "\n",
        "22/08/2023 16h45  Atualizado há 54 segundos\n",
        "\n",
        "Imagem de arquivo - Mizael Bispo, condenado por matar Mércia Nakashima. — Foto: Nelson Antoine/Fotoarena/Estadão Conteúdo\n",
        "Imagem de arquivo - Mizael Bispo, condenado por matar Mércia Nakashima. — Foto: Nelson Antoine/Fotoarena/Estadão Conteúdo\n",
        "\n",
        "\n",
        "Mizael Bispo, ex-policial condenado a mais de 20 anos de prisão pela morte da ex-namorada Mércia Nakashima, foi solto na tarde desta terça-feira (22), após a Justiça conceder progressão para o regime aberto (entenda mais abaixo). Ele cumpria pena há 13 anos e, atualmente, estava em um presídio em Tremembé, no interior de São Paulo.\n",
        "\n",
        "Compartilhe no Whatsapp\n",
        "Compartilhe no Telegram\n",
        "O g1 apurou que a decisão que concedeu progressão para o regime aberto foi expedida pela 2ª Vara de Execuções Criminais de Taubaté. Com a decisão, Bispo deixou a Penitenciária Dr. José Augusto Salgado, a P2, em Tremembé, por volta das 16h.\n",
        "\n",
        "\n",
        "A informação foi confirmado pelo advogado de defesa de Mizael. Ele informou que Bispo \"cumpriu tudo que a lei estabeleceu e lhe foi concedido a progressão de regime aberto\".\n",
        "\n",
        "Regime aberto\n",
        "No regime aberto, o condenado cumpre pena fora da prisão e pode trabalhar durante o dia. À noite, deve se recolher em endereço autorizado pela Justiça.\n",
        "\n",
        "A legislação determina que o preso se recolha no período noturno em uma casa de albergado - modelo prisional que abriga presos que estão no mesmo regime -, mas o Estado de São Paulo não dispõe desse tipo de unidade prisional. Por isso, na prática, os presos vão para casa.\n",
        "\n",
        "Para não perder o benefício, o condenado precisa seguir algumas regras, como:\n",
        "\n",
        "permanecer no endereço que for designado durante o repouso e nos dias de folga;\n",
        "cumprir os horários combinados para ir e voltar do trabalho;\n",
        "não pode se ausentar da cidade onde reside sem autorização judicial;\n",
        "quando determinado, deve comparecer em juízo, para informar e justificar suas atividades.\n",
        "Mesmo seguindo essas condições básicas, o juiz pode estabelecer outras condições especiais, de acordo com cada caso.\n",
        "\n",
        "O crime\n",
        "Mizael Bispo cumpria pena de 21 anos e 3 meses de prisão no regime semiaberto na Penitenciária 2, em Tremembé, no interior de São Paulo. O benefício do regime semiaberto foi concedido pela Justiça em 2022.\n",
        "\n",
        "\n",
        "Mércia estava desaparecida desde 23 de maio de 2010, quando foi vista pela última vez em Guarulhos, na Grande São Paulo. Seu carro e seu corpo foram encontrados pela Polícia Civil, respectivamente, em 10 e 11 de junho numa represa em Nazaré Paulista, na região metropolitana.\n",
        "\n",
        "Segundo a perícia, a advogada foi baleada e morreu afogada. A vítima tinha 28 anos. A investigação e o Ministério Público acusaram Mizael de matar Mércia por ciúmes e vingança por ela não ter reatado o namoro com ele. De acordo com a acusação, um homem chamado Evandro o ajudou a fugir do local.\n",
        "\n",
        "Mizael e Evandro foram condenados pelos crimes de homicídio doloso qualificado por motivo torpe, meio cruel e recurso que dificultou a defesa de Mércia. Em outras ocasiões, os dois sempre negaram os crimes e se disseram inocentes.\"\"\""
      ],
      "metadata": {
        "id": "tw8sqMjQbCVG"
      },
      "execution_count": 140,
      "outputs": []
    },
    {
      "cell_type": "code",
      "source": [
        "news4 = \"\"\"Acusados de matar jovem quando ele ia para casa da avó em Rio Branco são absolvidos\n",
        "Henrique Ferreira da Silva, de 20 anos, foi morto em 2016. Decisão foi publicada nesta terça-feira (22).\n",
        "Por g1 AC — Rio Branco\n",
        "\n",
        "22/08/2023 16h44  Atualizado há 21 minutos\n",
        "\n",
        "Acusados de matar jovem quando ele ia para casa da avó em Rio Branco são absolvidos  — Foto: Arquivo pessoal\n",
        "Acusados de matar jovem quando ele ia para casa da avó em Rio Branco são absolvidos — Foto: Arquivo pessoal\n",
        "\n",
        "\n",
        "O Conselho de Sentença do Tribunal do Júri absolveu Saymon Wallace Fonseca do Nascimento e Francisco Gabriel Bastos Velozo pela morte de Henrique Ferreira da Silva, de 20 anos, em 21 de dezembro de 2016. O jovem foi morto a tiros no bairro Bahia Velha, em Rio Branco, quando estava indo para a casa da avó e foi surpreendido por dois homens em uma motocicleta.\n",
        "\n",
        "Leia também:\n",
        "Jovem é executado a tiros quando ia para casa da avó em Rio Branco\n",
        "\"Ele estava a cerca de 10 metros da casa da avó quando foi surpreendido. Uma outra tia dele que estava na casa da avó, ouviu três disparos e tentou correr até lá, mas um primo do Henrique segurou ela. Tinham dois caras na moto, um deles desceu e atirou nas costas do meu sobrinho. Depois que minha irmã viu que eles foram embora, correu até lá e viu que era o Henrique caído no chão\", contou Eliane Silva, tia da vítima, na época do crime.\n",
        "\n",
        "\n",
        "No processo, Saymon Fonseca disse que não teve nenhuma participação nos fatos e que está sendo acusado porque terceiros falaram que foi o autor, mas é mentira. “Disse que o bairro estava em disputa de domínio pelas facções, que foi condenado por integrar facção. Que só ficou sabendo da morte do Henrique em 2020 quando foi acusado.”\n",
        "\n",
        "Já Francisco Velozo também disse que não havia nenhuma participação nos fatos, que conheceu o co-réu do bairro e a vítima do bairro. \"Que não sabia que a vítima colava com facção criminosa, que ficou sabendo aqui na audiência. Que não colava nem integrava facção criminosa. Que acredita que lhe envolveram neste crime porque já foi condenado por outro crime de homicídio. Que não tinha moto. Que a mãe da vítima sabe quem foi. Que escutou comentários que foram dois caras do bairro e um já morreu”, contou no processo. \"\"\""
      ],
      "metadata": {
        "id": "dzlD3WlCbEAe"
      },
      "execution_count": 141,
      "outputs": []
    },
    {
      "cell_type": "code",
      "source": [
        "news5= \"\"\"Guarda-vidas de Maricá resgatam pescador e cachorrinho após barco virar em Itaipuaçu\n",
        "Caso aconteceu na tarde de segunda-feira (21), na altura da rua 70. Ninguém ficou ferido.\n",
        "Por Bianca Chaqboudet, g1 — Maricá\n",
        "\n",
        "22/08/2023 16h42  Atualizado há 28 minutos\n",
        "\n",
        "Pescador foi atingido por onda e barco acabou virando em praia de Maricá, mas ele e o cachorrinho que o acompanha na embarcação foram salvos — Foto: Imagens cedida por Jimmy Lopez\n",
        "Pescador foi atingido por onda e barco acabou virando em praia de Maricá, mas ele e o cachorrinho que o acompanha na embarcação foram salvos — Foto: Imagens cedida por Jimmy Lopez\n",
        "\n",
        "\n",
        "Um pescador e o cachorrinho dele foram resgatados na tarde desta segunda-feira (21), em Maricá, na Região Metropolitana do Rio, depois do barco em que eles estavam virar.\n",
        "\n",
        "O acidente aconteceu na altura da rua 70, na Praia de Itaipuaçu.\n",
        "\n",
        "Segundo os guarda-vidas da Defesa Civil, que atuaram no local, o homem tentava entrar no mar quando foi atingido por uma grande onda lateral. Os agentes entraram na água e conseguiram retirar o senhor e o 'feijão', cachorrinho que estava no barco, sem ferimentos.\n",
        "\n",
        "Banhistas que estavam no local se juntaram aos guarda-vidas para resgatar a embarcação, que também não sofreu danos. \"\"\""
      ],
      "metadata": {
        "id": "LLJG4QrNbGBf"
      },
      "execution_count": 142,
      "outputs": []
    },
    {
      "cell_type": "code",
      "source": [
        "news6 = \"\"\"Casos de meningite crescem em AL; conheça os sintomas e saiba como se prevenir\n",
        "Especialista alerta que contágio por bactérias e vírus que causam a doença cresce durante o inverno. SUS oferece vacina gratuitamente nos postos de saúde para crianças, adolescentes e adultos.\n",
        "Por Vivi Leão e Heliana Gonçalves, g1 AL\n",
        "\n",
        "22/08/2023 16h40  Atualizado há 27 minutos\n",
        "\n",
        "Meningite bacteriana — Foto: Royalty Stock Photo/Science Photo Library/Arquivo AFP\n",
        "Meningite bacteriana — Foto: Royalty Stock Photo/Science Photo Library/Arquivo AFP\n",
        "\n",
        "\n",
        "Considerada uma doença endêmica no Brasil, a meningite pode ser confundida com a gripe e, na sua forma grave, pode até matar. Nos seis primeiros meses deste ano, Alagoas registrou 29 casos de meningite (sendo 21 na capital) e 5 mortes, números acima do que foi registrado no mesmo período anterior, quando foram 24 casos e 4 mortes, segundo a Secretaria de Estado da Saúde.\n",
        "\n",
        "📲 Clique aqui para se inscrever e receber no seu WhatsApp as notícias do g1\n",
        "\n",
        "Esse aumento de casos preocupa porque é no inverno que cresce o risco de contágio e essa sazonalidade pode refletir diretamente nos números do segundo semestre. O mais recente caso, ainda em investigação, é de uma criança que faleceu no domingo (20) em Arapiraca.\n",
        "\n",
        "\n",
        "\"O aumento dos casos se deve a vários fatores. Primeiro a variação sazonal, que de tempos em tempos a doença ganha força, todas as doenças infecciosas têm essa característica. Tanto os vírus quanto as bactérias têm momentos que elas se sobressaem e depois diminui a intensidade. Então nós estamos num momento de maior atividade das bactérias e dos vírus que causam meningite\", explicou o médico Fernando Maia, em entrevista ao g1.\n",
        "\n",
        "LEIA TAMBÉM\n",
        "\n",
        "Maceió registra em 6 meses mais da metade do total de casos de meningite de 2022\n",
        "As crianças são a faixa etária mais atingida, principalmente as menores de 5 anos. Dependendo do tipo de meningite, em apenas algumas horas após o início dos sintomas, a pessoa infectada pode apresentar um quadro de bastante gravidade. A meningite bacteriana é responsável pelos quadros mais fatais, como explica Maia.\n",
        "\n",
        "\"A doença meningocócica é um tipo específico de meningite bacteriana e é a mais grave, porque ela pode levar à forma fulminante, a pessoa pode morrer em 24 horas após o início da doença. Ela tem essa capacidade de fazer uma doença muito grave\", explicou o médico.\n",
        "Compartilhe no WhatsApp\n",
        "Compartilhe no Telegram\n",
        "Ao contrário da meningite bacteriana, a viral é mais benigna e pode ser até tratada em casa. Mas a dúvida que paira é como distinguir as duas.\n",
        "\n",
        "\n",
        "\"Os sintomas da meningite geralmente são febre alta e muita dor de cabeça. Isso é comum aos dois tipos. As meningites virais costumam ser mais leves, então a dor de cabeça é menos intensa, a febre não é tão alta e o paciente se recupera mais rápido. Na meningite bacteriana geralmente dá febre muito alta, rigidez da nuca, o pescoço fica meio travado e aparecem manchas escuras na pele\", afirma Maia\n",
        "\n",
        "Transmissão e diagnóstico\n",
        "A meningite é transmitida quando pequenas gotas de saliva da pessoa infectada entram em contato com as mucosas do nariz ou da boca de um indivíduo saudável, seja através do espirro ou da tosse.\n",
        "\n",
        "Na suspeita clínica da meningite, a indicação é a coleta do líquor, líquido que banha o sistema nervoso.\n",
        "\n",
        "Vacinando para prevenir\n",
        "Somente a vacinação pode salvar uma criança contra a meningite — Foto: Divulgação/Agência Brasil\n",
        "Somente a vacinação pode salvar uma criança contra a meningite — Foto: Divulgação/Agência Brasil\n",
        "\n",
        "\n",
        "O SUS oferece quatro tipos de vacina contra meningites bacterianas e qualquer pessoa pode se vacinar, criança, adolescente ou adulto. As vacinas estão disponíveis em todos os postos de saúde de Maceió a qualquer época do ano, não é preciso esperar a campanha nacional (veja lista mais abaixo).\n",
        "\n",
        "No Brasil, existem vacinas para todos os sorotipos de meningite, mas o sorotipo B está apenas no particular e custa, em média, R$ 500 a dose.\n",
        "\n",
        "Dados da Secretaria de Saúde de Maceió (SMS) apontam que a cobertura vacinal contra a meningite no primeiro semestre do ano na capital é de 78,96%, número abaixo da média estipulada pelo Ministério da Saúde, que é de 95%. Lembrando que o esquema vacinal compreende a vacinação em 3 doses: aos 3 meses de idade, aos 5 meses e com 1 ano (dose de reforço).\n",
        "\n",
        "\"Apesar de a vacina estar disponível nos postos de saúde, a gente ainda tem muitas crianças que não estão vacinadas, ou estão com a vacinação incompleta, já que nesse caso tem que ter duas doses para completar o esquema\", ressaltou Fernando Maia.\n",
        "\n",
        "Quais vacinas o SUS oferece?\n",
        "BCG: que protege contra a meningite turberculosa\n",
        "Pentavalente: protege contra as infecções invasivas, entre elas a meningite causada pelo Haemophilus influenzae sorotipo b\n",
        "Meningocócica C: protege contra a doença meningocócica causada pela Neisseria meningitidis sorogrupo C\n",
        "Pneumocócica 10: protege contra as infecções invasivas, entre elas a meningite causada por dez sorotipos do Streptococcus pneumoniae \"\"\""
      ],
      "metadata": {
        "id": "DvXcKBYibId3"
      },
      "execution_count": 143,
      "outputs": []
    },
    {
      "cell_type": "code",
      "source": [
        "news7 = \"\"\"Jornada Delegada de policiais e bombeiros reforça a Segurança Pública em Sorriso\n",
        "A jornada extra dos policiais militares e bombeiros não resulta em gastos extras ao Governo do Estado. Os valores são pagos pela Administração Municipal de Sorriso.\n",
        "TOPO\n",
        "Por Prefeitura de Sorriso\n",
        "\n",
        "22/08/2023 16h39  Atualizado há 32 minutos\n",
        "\n",
        "\n",
        "Para ar um reforço a mais na Segurança Pública, a Prefeitura Municipal de Sorriso firmou um Termo de Cooperação com o Governo do Estado de Mato Grosso, por meio da Secretaria de Estado de Segurança Pública para a implementação da Jornada Delegada, com o objetivo de ampliar o número de policiais e de bombeiros militares nas ruas. A iniciativa foi apresentada pelo Gabinete de Gestão Integrada (GGI), que conta com representantes de várias forças de segurança como a Polícia Militar (PM), Polícia Judiciária Civil (PJC), Centro Integrado de Operações Aéreas (Ciopaer), Polícia Rodoviária Federal (PRF), Secretaria de Segurança Municipal de Trânsito e Defesa Civil, Conselho Municipal de Segurança Pública (COMSEP), Guarda Municipal e Poder Judiciário de Sorriso.\n",
        "\n",
        "A Jornada Delegada já é realidade para policiais militares desde 2020 e neste ano de 2023 também foi implantada junto ao Corpo de Bombeiros, por meio do Termo de Cooperação 0055/2023. De acordo com a Lei 2.201, de maio de 2013, a jornada delegada pode ser viabilizada para apoio à fiscalização do comércio ilegal e irregular; combate à depredação do patrimônio público; apoio à fiscalização ambiental, de trânsito e licenças; e combate ao fogo. Pela regra, cada beneficiado não pode executar carga horária diária superior a 6 horas, nem tampouco carga horária mensal superior a 50 horas. A jornada extra dos policiais militares e bombeiros não resulta em gastos extras ao Governo do Estado. Os valores são pagos pela Administração Municipal de Sorriso, que conta com uma previsão orçamentária de R$ 700 mil para este ano de 2023.\n",
        "\n",
        "\n",
        "Para o prefeito de Sorriso, Ari Lafin, o aumento do efetivo tanto da Polícia Militar, quanto do Corpo de Bombeiros é um reforço significativo para o combate à criminalidade e no atendimento à população, no que diz respeito ao combate a queimadas e incêndios.\n",
        "\n",
        "A Jornada Delegada já é realidade para policiais militares desde 2020 — Foto: Assessoria\n",
        "A Jornada Delegada já é realidade para policiais militares desde 2020 — Foto: Assessoria\n",
        "\n",
        "O secretário Municipal de Segurança Pública, Trânsito e Defesa Civil, José Carlos Moura diz que a Prefeitura vem investindo recursos para auxiliar todas as forças de segurança do município “Estamos nos empenhando para dar todo aporte necessário, obviamente, que dentro da legalidade. Estamos investindo na Jornada Delegada, tanto para policiais militares, quanto para o Corpo de Bombeiros. Os militares que estão de folga, trabalham para o município e recebem o vencimento referente ao trabalho prestado, mensalmente, diretamente em suas contas-correntes. E isso tem gerado excelentes resultados”.\n",
        "\n",
        "Para o comandante da 10.ª CIBM de Sorriso, capitão Daniel Alves Moura e Silva, a Jornada Delegada representa um incentivo a mais para os integrantes da corporação. “Nos sentimos muito felizes em poder contribuir nas horas de folga e, com isso, receber um complemento de renda, por meio desta parceria com a Prefeitura. Diariamente são quatro militares de serviço, com a Jornada Delegada, conseguimos escalar mais dois militares por dia, ou seja, temos um aumento de 50% no efetivo”.\n",
        "\n",
        "A jornada extra dos policiais militares e bombeiros não resulta em gastos extras ao Governo do Estado. — Foto: Assessoria\n",
        "A jornada extra dos policiais militares e bombeiros não resulta em gastos extras ao Governo do Estado. — Foto: Assessoria\n",
        "\n",
        "De acordo com o comandante do 12º Batalhão da Polícia Militar de Sorriso, tenente-coronel Jorge Almeida, a Polícia Militar tem recebido investimentos tanto da Secretaria de Estado de Segurança Pública, quanto da Prefeitura de Sorriso, por meio de um termo de cooperação técnica para a Jornada Delegada, por meio da qual o município paga o policial militar no seu momento de folga que prestam serviço em ações que o município executa. “Por meio da Jornada Delegada é possível ampliar o quatro de policiais que atuam no dia a dia nas ruas da cidade e nos distritos de Primavera do Norte (Primaverinha), Caravággio e Boa Esperança para proporcionar maior sensação de segurança para nossa população. O município emprega esse valor para que o policial de folga, sirva e proteja nossa sociedade”.\n",
        "\n",
        "Além disso, de acordo com o secretário José Carlos Moura, a Prefeitura ajuda na manutenção das forças de segurança para melhoria do atendimento à população, por meio do COMSEP (Conselho Municipal de Segurança Pública). “Temos um orçamento de aproximadamente 2 milhões de reais do FUNSEP (Fundo Municipal de Segurança Pública) para dar apoio às forças de segurança, no que se refere a mobílias, manutenção de ar-condicionado, material de limpeza, material de expediente, cedência de servidores do município, manutenção de prédios, que muitas vezes pode demorar um pouco e o município faz esse repasse para buscar sanar essas necessidades e para melhor atender as famílias sorrisenses”.\"\"\""
      ],
      "metadata": {
        "id": "tPOhbjCfbKwX"
      },
      "execution_count": 144,
      "outputs": []
    },
    {
      "cell_type": "code",
      "source": [
        "news8 = \"\"\" Criança de 2 anos é picada na pálpebra por escorpião enquanto dormia no interior de SP\n",
        "Caso ocorreu no dia 14 de agosto, mas o g1 teve acesso à informação nesta terça-feira (22). Depois de receber atendimento médico, o menino foi liberado.\n",
        "Por g1 Rio Preto e Araçatuba\n",
        "\n",
        "22/08/2023 16h36  Atualizado há 37 minutos\n",
        "\n",
        "Escorpião picou pálpebra de criança em Rio Preto (SP) — Foto: Renata da Costa dos Reis/Arquivo pessoal\n",
        "Escorpião picou pálpebra de criança em Rio Preto (SP) — Foto: Renata da Costa dos Reis/Arquivo pessoal\n",
        "\n",
        "\n",
        "Uma criança de dois anos foi socorrida após ser picada por um escorpião enquanto dormia em São José do Rio Preto (SP). O caso ocorreu no dia 14 de agosto, mas a informação só foi divulgada nesta terça-feira (22).\n",
        "\n",
        "Conforme apurado pelo g1, a mãe acordou com o choro da criança, por volta das 4h, e, quando chegou ao quarto, viu o escorpião na parede.\n",
        "\n",
        "Hospital da Criança e Maternidade (HCM) de São José do Rio Preto (SP) — Foto: Foto: Divulgação\n",
        "Hospital da Criança e Maternidade (HCM) de São José do Rio Preto (SP) — Foto: Foto: Divulgação\n",
        "\n",
        "\n",
        "O menino foi picado na pálpebra. Ele foi socorrido e levado para a Unidade de Pronto Atendimento (UPA) e depois encaminhado ao Hospital da Criança e Maternidade (HCM).\n",
        "\n",
        "Depois de receber atendimento médico, a criança foi liberada e não teve a visão prejudicada. Conforme a assessoria do HCM, não foi necessária a aplicação do soro antiescorpiônico.\"\"\""
      ],
      "metadata": {
        "id": "jaDVqIrFbM1v"
      },
      "execution_count": 145,
      "outputs": []
    },
    {
      "cell_type": "code",
      "source": [
        "news9 = \"\"\" Inscrições para aulas de espanhol gratuitas na Fatec acabam nesta sexta-feira, em Presidente Prudente\n",
        "Ao todo, são 40 vagas para interessados a partir dos 16 anos, que participarão das aulas presenciais aos sábados, das 9h às 10h30.\n",
        "Por g1 Presidente Prudente\n",
        "\n",
        "22/08/2023 16h47  Atualizado há 27 minutos\n",
        "\n",
        "Inscrições para aulas de espanhol gratuitas na Fatec acabam nesta sexta-feira, em Presidente Prudente (SP) — Foto: Cedida/Secom\n",
        "Inscrições para aulas de espanhol gratuitas na Fatec acabam nesta sexta-feira, em Presidente Prudente (SP) — Foto: Cedida/Secom\n",
        "\n",
        "\n",
        "Seguem até sexta-feira (25) as inscrições para o curso gratuito de língua espanhola oferecido pela Faculdade de Tecnologia do Estado de São Paulo (Fatec), em Presidente Prudente (SP). Podem participar jovens e adultos a partir dos 16 anos.\n",
        "\n",
        "A iniciativa, promovida em parceria com a Coordenadoria Municipal da Juventude, oferece 40 vagas para os interessados, que devem preencher um formulário on-line. As vagas serão oferecidas por ordem de inscrição.\n",
        "\n",
        "O curso tem como objetivo auxiliar o desenvolvimento de competências exigidas pelo mercado de trabalho e em processos seletivos ou para quem deseja viajar e enriquecer o currículo, por meio de conteúdos de nível básico, como conversação, compreensão auditiva, escrita e leitura.\n",
        "\n",
        "\n",
        "As aulas presenciais serão ministradas na sede da Fatec, em Presidente Prudente, a partir deste sábado (26), das 9h às 10h30, pela professora de espanhol da unidade, Silmara Moscatelli.\n",
        "\n",
        "Serviço\n",
        "A Fatec de Presidente Prudente está localizada na Rua Teresina, nº 75, na Vila Paulo Roberto. Para mais informações, acesse o site.\"\"\""
      ],
      "metadata": {
        "id": "YPORPF1bbPwW"
      },
      "execution_count": 146,
      "outputs": []
    },
    {
      "cell_type": "code",
      "source": [
        "news10 = \"\"\"PF abre inquérito para investigar se houve sabotagem em apagão elétrico no país\n",
        "A pedido do governo, Polícia Federal vai investigar razões que levaram à interrupção do fornecimento de energia em todas as regiões brasileiras; investigação vai apurar se houve falha técnica ou humana\n",
        "\n",
        "Macapá no escuro após apagão que afetou estado do Amapá\n",
        "Macapá no escuro após apagão que afetou estado do Amapá\n",
        "Foto: Maksuel Martins/Fotoarena/Estadão Conteúdo (19.nov.2020)\n",
        "\n",
        "Basília Rodrigues\n",
        "\n",
        "22/08/2023 às 17:05\n",
        "Compartilhe:\n",
        "Facebook\n",
        "Twitter\n",
        "Linkedin\n",
        "WhatsApp\n",
        "flipboard\n",
        "Ouvir notícia\n",
        "\n",
        "A Polícia Federal abriu inquérito nesta terça-feira (22) para investigar as causas do apagão de energia elétrica que atingiu 25 estados e o Distrito Federal, na semana passada. A investigação seguirá em sigilo e vai apurar os crimes de sabotagem e atentado contra a segurança de serviço de utilidade pública.\n",
        "\n",
        "A PF atendeu a um pedido feito pelos ministérios da Justiça e de Minas e Energia. A investigação ficará a cargo da Diretoria de Inteligência Policial da PF (DIP), em Brasília.\n",
        "\n",
        "Vídeo: Falha que provocou apagão deve ter ocorrido por excesso de energia no sistema, dizem fontes\n",
        "\n",
        "\n",
        "Apagão: Falha deve ter ocorrido por excesso de energia no sistema, dizem fontes | CNN 360ºApagão: Falha deve ter ocorrido por excesso de energia no sistema, dizem fontes | CNN 360º\n",
        "A partir do inquérito, a polícia poderá ouvir pessoas do setor elétrico e do governo. Uma sobrecarga em linha operacionalizada pela Eletrobras, no Ceará, foi identificada como um dos motivos para o apagão.\n",
        "\n",
        "Entre as hipóteses, há desde a possibilidade de uma falha técnica à ação humana, incluindo a modalidade dolosa, quando há intenção de cometer o crime.\n",
        "\n",
        "De acordo com o governo federal, o ocorrido foi “extremamente raro”. A falha no Sistema Interligado Nacional foi registrada por volta de 8h30. Foi um fato que causou interrupção nas regiões Norte e Nordeste.\n",
        "\n",
        "Leia mais\n",
        "\n",
        "Há sobra de energia no país e apagão foi “erro técnico”, diz Rui Costa\n",
        "Há sobra de energia no país e apagão foi “erro técnico”, diz Rui Costa\n",
        "Apagão e reajuste ampliam artilharia política contra ministro de Minas e Energia, dizem fontes\n",
        "Apagão e reajuste ampliam artilharia política contra ministro de Minas e Energia, dizem fontes\n",
        "Após apagão, Janja faz post citando a privatização da Eletrobras\n",
        "Após apagão, Janja faz post citando a privatização da Eletrobras\n",
        "O apagão se espalhou pelo país devido a uma ação preventiva de proteção do sistema, em que o Operador Nacional do Sistema (ONS) minimizou a carga das regiões Sul, Sudeste e Centro-Oeste, para que não houvesse a interrupção total dessas regiões.\n",
        "\n",
        "O apagão prejudicou cerca de 29 milhões de residências e estabelecimentos comerciais. Em alguns lugares, a falta de luz durou dez minutos, em outros, mais de seis horas.\n",
        "\n",
        "Tópicos\n",
        "Tópicos \"\"\""
      ],
      "metadata": {
        "id": "JTq2O5RwbQgv"
      },
      "execution_count": 147,
      "outputs": []
    },
    {
      "cell_type": "markdown",
      "source": [
        "Em seguida, essas variáveis foram agrupadas em uma lista para facilitar a manipulação de todas elas"
      ],
      "metadata": {
        "id": "UoHXdMe6fZzA"
      }
    },
    {
      "cell_type": "code",
      "source": [
        "newsList = [news1,news2,news3,news4,news5,news6,news7,news8,news9,news10]"
      ],
      "metadata": {
        "id": "PuvOQNYFbUvW"
      },
      "execution_count": 148,
      "outputs": []
    },
    {
      "cell_type": "markdown",
      "source": [
        "##5.3 Criação de funções para aplicar no tratamento de dados"
      ],
      "metadata": {
        "id": "m0lA23kefcgY"
      }
    },
    {
      "cell_type": "markdown",
      "source": [
        "Primeiro temos uma função que agrupa as funções que foram apresentada na outra seção de codigo, isso foi feito para que consigamos rodar o codigo com mais facilidade."
      ],
      "metadata": {
        "id": "4kIABBTIfr8E"
      }
    },
    {
      "cell_type": "code",
      "source": [
        "def run_complete(text_):\n",
        "  tokenized_string = word_tokenize(text_)\n",
        "  lowercase_string = [\n",
        "      word.lower() for word in tokenized_string\n",
        "  ]\n",
        "\n",
        "\n",
        "  stop_words = set(stopwords.words(\"portuguese\"))\n",
        "\n",
        "  filtered_list = []\n",
        "\n",
        "  filtered_list = [\n",
        "      word for word in lowercase_string if word.casefold() not in stop_words\n",
        "  ]\n",
        "\n",
        "\n",
        "  stemmer = nltk.stem.RSLPStemmer()\n",
        "\n",
        "  stemmer_list = [\n",
        "      stemmer.stem(word) for word in filtered_list\n",
        "  ]\n",
        "  return stemmer_list"
      ],
      "metadata": {
        "id": "zUumaWbDZ-yV"
      },
      "execution_count": 149,
      "outputs": []
    },
    {
      "cell_type": "markdown",
      "source": [
        "A segunda função é responsavel por criar um dataframe do qual em sua primeira coluna estara presente todas as frases e na segunda coluna todas as frases tratadas."
      ],
      "metadata": {
        "id": "j5Ghn8_rgDvU"
      }
    },
    {
      "cell_type": "code",
      "source": [
        "import numpy as np\n",
        "import pandas as pd\n",
        "\n",
        "def pipeLine(newsList):\n",
        "    processed_list = [run_complete(item) for item in newsList]\n",
        "\n",
        "    array = np.array([[item, processed] for item, processed in zip(newsList, processed_list)], dtype=object)\n",
        "\n",
        "    nomes_colunas = ['Sentença', 'Sentença filtrada']\n",
        "    nomes_linhas = [f'Frase {i+1}' for i in range(len(newsList))]\n",
        "\n",
        "    df = pd.DataFrame(array, columns=nomes_colunas, index=nomes_linhas)\n",
        "\n",
        "    return df\n"
      ],
      "metadata": {
        "id": "IwkX0nf2YhtQ"
      },
      "execution_count": 150,
      "outputs": []
    },
    {
      "cell_type": "markdown",
      "source": [
        "##5.4 Aplicação"
      ],
      "metadata": {
        "id": "NwUa3cxFgU63"
      }
    },
    {
      "cell_type": "markdown",
      "source": [
        "Nessa parte aplicamos as funções nas 10 noticias coletadas e a partir disso conseguimos visualizar o data frame com as noticias originais e com elas processadas."
      ],
      "metadata": {
        "id": "Mo4pmtoKgZbY"
      }
    },
    {
      "cell_type": "code",
      "source": [
        "treatedNews = pipeLine(newsList)\n",
        "treatedNews"
      ],
      "metadata": {
        "colab": {
          "base_uri": "https://localhost:8080/",
          "height": 363
        },
        "id": "fZdrzTilbhjq",
        "outputId": "af00cd48-c8a6-4d07-b90f-8a12c9cce70e"
      },
      "execution_count": 151,
      "outputs": [
        {
          "output_type": "execute_result",
          "data": {
            "text/plain": [
              "                                                   Sentença  \\\n",
              "Frase 1   Acesse nossa plataforma a maior comunidade de ...   \n",
              "Frase 2   Trecho de adutora estoura e 250 mil moradores ...   \n",
              "Frase 3    Mizael Bispo é solto após Justiça conceder pr...   \n",
              "Frase 4   Acusados de matar jovem quando ele ia para cas...   \n",
              "Frase 5   Guarda-vidas de Maricá resgatam pescador e cac...   \n",
              "Frase 6   Casos de meningite crescem em AL; conheça os s...   \n",
              "Frase 7   Jornada Delegada de policiais e bombeiros refo...   \n",
              "Frase 8    Criança de 2 anos é picada na pálpebra por es...   \n",
              "Frase 9    Inscrições para aulas de espanhol gratuitas n...   \n",
              "Frase 10  PF abre inquérito para investigar se houve sab...   \n",
              "\n",
              "                                          Sentença filtrada  \n",
              "Frase 1   [acess, plataform, mai, comunidad, ti, brasil,...  \n",
              "Frase 2   [trech, adu, esto, 250, mil, mor, fic, águ, gr...  \n",
              "Frase 3   [mizael, bisp, solt, após, justiç, conced, pro...  \n",
              "Frase 4   [acus, mat, jov, ia, cas, avó, rio, branc, abs...  \n",
              "Frase 5   [guarda-v, maric, resgat, pesc, cachorr, após,...  \n",
              "Frase 6   [cas, meningit, cresc, al, ;, conheç, sintom, ...  \n",
              "Frase 7   [jorn, deleg, polic, bomb, reforç, seguranç, p...  \n",
              "Frase 8   [crianç, 2, ano, pic, pálpebr, escorp, enquant...  \n",
              "Frase 9   [inscr, aul, espanhol, gratuit, fatec, acab, n...  \n",
              "Frase 10  [pf, abr, inquérit, investig, sabot, apag, elé...  "
            ],
            "text/html": [
              "\n",
              "  <div id=\"df-f2082846-6d47-44f0-87d6-81902f5e35a8\" class=\"colab-df-container\">\n",
              "    <div>\n",
              "<style scoped>\n",
              "    .dataframe tbody tr th:only-of-type {\n",
              "        vertical-align: middle;\n",
              "    }\n",
              "\n",
              "    .dataframe tbody tr th {\n",
              "        vertical-align: top;\n",
              "    }\n",
              "\n",
              "    .dataframe thead th {\n",
              "        text-align: right;\n",
              "    }\n",
              "</style>\n",
              "<table border=\"1\" class=\"dataframe\">\n",
              "  <thead>\n",
              "    <tr style=\"text-align: right;\">\n",
              "      <th></th>\n",
              "      <th>Sentença</th>\n",
              "      <th>Sentença filtrada</th>\n",
              "    </tr>\n",
              "  </thead>\n",
              "  <tbody>\n",
              "    <tr>\n",
              "      <th>Frase 1</th>\n",
              "      <td>Acesse nossa plataforma a maior comunidade de ...</td>\n",
              "      <td>[acess, plataform, mai, comunidad, ti, brasil,...</td>\n",
              "    </tr>\n",
              "    <tr>\n",
              "      <th>Frase 2</th>\n",
              "      <td>Trecho de adutora estoura e 250 mil moradores ...</td>\n",
              "      <td>[trech, adu, esto, 250, mil, mor, fic, águ, gr...</td>\n",
              "    </tr>\n",
              "    <tr>\n",
              "      <th>Frase 3</th>\n",
              "      <td>Mizael Bispo é solto após Justiça conceder pr...</td>\n",
              "      <td>[mizael, bisp, solt, após, justiç, conced, pro...</td>\n",
              "    </tr>\n",
              "    <tr>\n",
              "      <th>Frase 4</th>\n",
              "      <td>Acusados de matar jovem quando ele ia para cas...</td>\n",
              "      <td>[acus, mat, jov, ia, cas, avó, rio, branc, abs...</td>\n",
              "    </tr>\n",
              "    <tr>\n",
              "      <th>Frase 5</th>\n",
              "      <td>Guarda-vidas de Maricá resgatam pescador e cac...</td>\n",
              "      <td>[guarda-v, maric, resgat, pesc, cachorr, após,...</td>\n",
              "    </tr>\n",
              "    <tr>\n",
              "      <th>Frase 6</th>\n",
              "      <td>Casos de meningite crescem em AL; conheça os s...</td>\n",
              "      <td>[cas, meningit, cresc, al, ;, conheç, sintom, ...</td>\n",
              "    </tr>\n",
              "    <tr>\n",
              "      <th>Frase 7</th>\n",
              "      <td>Jornada Delegada de policiais e bombeiros refo...</td>\n",
              "      <td>[jorn, deleg, polic, bomb, reforç, seguranç, p...</td>\n",
              "    </tr>\n",
              "    <tr>\n",
              "      <th>Frase 8</th>\n",
              "      <td>Criança de 2 anos é picada na pálpebra por es...</td>\n",
              "      <td>[crianç, 2, ano, pic, pálpebr, escorp, enquant...</td>\n",
              "    </tr>\n",
              "    <tr>\n",
              "      <th>Frase 9</th>\n",
              "      <td>Inscrições para aulas de espanhol gratuitas n...</td>\n",
              "      <td>[inscr, aul, espanhol, gratuit, fatec, acab, n...</td>\n",
              "    </tr>\n",
              "    <tr>\n",
              "      <th>Frase 10</th>\n",
              "      <td>PF abre inquérito para investigar se houve sab...</td>\n",
              "      <td>[pf, abr, inquérit, investig, sabot, apag, elé...</td>\n",
              "    </tr>\n",
              "  </tbody>\n",
              "</table>\n",
              "</div>\n",
              "    <div class=\"colab-df-buttons\">\n",
              "\n",
              "  <div class=\"colab-df-container\">\n",
              "    <button class=\"colab-df-convert\" onclick=\"convertToInteractive('df-f2082846-6d47-44f0-87d6-81902f5e35a8')\"\n",
              "            title=\"Convert this dataframe to an interactive table.\"\n",
              "            style=\"display:none;\">\n",
              "\n",
              "  <svg xmlns=\"http://www.w3.org/2000/svg\" height=\"24px\" viewBox=\"0 -960 960 960\">\n",
              "    <path d=\"M120-120v-720h720v720H120Zm60-500h600v-160H180v160Zm220 220h160v-160H400v160Zm0 220h160v-160H400v160ZM180-400h160v-160H180v160Zm440 0h160v-160H620v160ZM180-180h160v-160H180v160Zm440 0h160v-160H620v160Z\"/>\n",
              "  </svg>\n",
              "    </button>\n",
              "\n",
              "  <style>\n",
              "    .colab-df-container {\n",
              "      display:flex;\n",
              "      gap: 12px;\n",
              "    }\n",
              "\n",
              "    .colab-df-convert {\n",
              "      background-color: #E8F0FE;\n",
              "      border: none;\n",
              "      border-radius: 50%;\n",
              "      cursor: pointer;\n",
              "      display: none;\n",
              "      fill: #1967D2;\n",
              "      height: 32px;\n",
              "      padding: 0 0 0 0;\n",
              "      width: 32px;\n",
              "    }\n",
              "\n",
              "    .colab-df-convert:hover {\n",
              "      background-color: #E2EBFA;\n",
              "      box-shadow: 0px 1px 2px rgba(60, 64, 67, 0.3), 0px 1px 3px 1px rgba(60, 64, 67, 0.15);\n",
              "      fill: #174EA6;\n",
              "    }\n",
              "\n",
              "    .colab-df-buttons div {\n",
              "      margin-bottom: 4px;\n",
              "    }\n",
              "\n",
              "    [theme=dark] .colab-df-convert {\n",
              "      background-color: #3B4455;\n",
              "      fill: #D2E3FC;\n",
              "    }\n",
              "\n",
              "    [theme=dark] .colab-df-convert:hover {\n",
              "      background-color: #434B5C;\n",
              "      box-shadow: 0px 1px 3px 1px rgba(0, 0, 0, 0.15);\n",
              "      filter: drop-shadow(0px 1px 2px rgba(0, 0, 0, 0.3));\n",
              "      fill: #FFFFFF;\n",
              "    }\n",
              "  </style>\n",
              "\n",
              "    <script>\n",
              "      const buttonEl =\n",
              "        document.querySelector('#df-f2082846-6d47-44f0-87d6-81902f5e35a8 button.colab-df-convert');\n",
              "      buttonEl.style.display =\n",
              "        google.colab.kernel.accessAllowed ? 'block' : 'none';\n",
              "\n",
              "      async function convertToInteractive(key) {\n",
              "        const element = document.querySelector('#df-f2082846-6d47-44f0-87d6-81902f5e35a8');\n",
              "        const dataTable =\n",
              "          await google.colab.kernel.invokeFunction('convertToInteractive',\n",
              "                                                    [key], {});\n",
              "        if (!dataTable) return;\n",
              "\n",
              "        const docLinkHtml = 'Like what you see? Visit the ' +\n",
              "          '<a target=\"_blank\" href=https://colab.research.google.com/notebooks/data_table.ipynb>data table notebook</a>'\n",
              "          + ' to learn more about interactive tables.';\n",
              "        element.innerHTML = '';\n",
              "        dataTable['output_type'] = 'display_data';\n",
              "        await google.colab.output.renderOutput(dataTable, element);\n",
              "        const docLink = document.createElement('div');\n",
              "        docLink.innerHTML = docLinkHtml;\n",
              "        element.appendChild(docLink);\n",
              "      }\n",
              "    </script>\n",
              "  </div>\n",
              "\n",
              "\n",
              "<div id=\"df-0b3f6998-3590-4e9a-8415-bc6bb0de411d\">\n",
              "  <button class=\"colab-df-quickchart\" onclick=\"quickchart('df-0b3f6998-3590-4e9a-8415-bc6bb0de411d')\"\n",
              "            title=\"Suggest charts.\"\n",
              "            style=\"display:none;\">\n",
              "\n",
              "<svg xmlns=\"http://www.w3.org/2000/svg\" height=\"24px\"viewBox=\"0 0 24 24\"\n",
              "     width=\"24px\">\n",
              "    <g>\n",
              "        <path d=\"M19 3H5c-1.1 0-2 .9-2 2v14c0 1.1.9 2 2 2h14c1.1 0 2-.9 2-2V5c0-1.1-.9-2-2-2zM9 17H7v-7h2v7zm4 0h-2V7h2v10zm4 0h-2v-4h2v4z\"/>\n",
              "    </g>\n",
              "</svg>\n",
              "  </button>\n",
              "\n",
              "<style>\n",
              "  .colab-df-quickchart {\n",
              "    background-color: #E8F0FE;\n",
              "    border: none;\n",
              "    border-radius: 50%;\n",
              "    cursor: pointer;\n",
              "    display: none;\n",
              "    fill: #1967D2;\n",
              "    height: 32px;\n",
              "    padding: 0 0 0 0;\n",
              "    width: 32px;\n",
              "  }\n",
              "\n",
              "  .colab-df-quickchart:hover {\n",
              "    background-color: #E2EBFA;\n",
              "    box-shadow: 0px 1px 2px rgba(60, 64, 67, 0.3), 0px 1px 3px 1px rgba(60, 64, 67, 0.15);\n",
              "    fill: #174EA6;\n",
              "  }\n",
              "\n",
              "  [theme=dark] .colab-df-quickchart {\n",
              "    background-color: #3B4455;\n",
              "    fill: #D2E3FC;\n",
              "  }\n",
              "\n",
              "  [theme=dark] .colab-df-quickchart:hover {\n",
              "    background-color: #434B5C;\n",
              "    box-shadow: 0px 1px 3px 1px rgba(0, 0, 0, 0.15);\n",
              "    filter: drop-shadow(0px 1px 2px rgba(0, 0, 0, 0.3));\n",
              "    fill: #FFFFFF;\n",
              "  }\n",
              "</style>\n",
              "\n",
              "  <script>\n",
              "    async function quickchart(key) {\n",
              "      const charts = await google.colab.kernel.invokeFunction(\n",
              "          'suggestCharts', [key], {});\n",
              "    }\n",
              "    (() => {\n",
              "      let quickchartButtonEl =\n",
              "        document.querySelector('#df-0b3f6998-3590-4e9a-8415-bc6bb0de411d button');\n",
              "      quickchartButtonEl.style.display =\n",
              "        google.colab.kernel.accessAllowed ? 'block' : 'none';\n",
              "    })();\n",
              "  </script>\n",
              "</div>\n",
              "    </div>\n",
              "  </div>\n"
            ]
          },
          "metadata": {},
          "execution_count": 151
        }
      ]
    }
  ]
}