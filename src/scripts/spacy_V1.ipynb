{
  "nbformat": 4,
  "nbformat_minor": 0,
  "metadata": {
    "colab": {
      "provenance": []
    },
    "kernelspec": {
      "name": "python3",
      "display_name": "Python 3"
    },
    "language_info": {
      "name": "python"
    }
  },
  "cells": [
    {
      "cell_type": "markdown",
      "source": [
        "#1.0. Introdução"
      ],
      "metadata": {
        "id": "NokVYSDy0Hcy"
      }
    },
    {
      "cell_type": "markdown",
      "source": [
        "Este arquivo contém um algorítimo responsável por realizar o pré-processamento de textos utilizando a biblioteca de processamento de linguagem natural Spacy. Esse tratamento textual será utilizado para formatar os textos buscados a partir de um WebCrawler, reorganizá-lo de modo a simplificar o entendimento dos assuntos abordados nesses textos e posteriormente alimentar a base de dados utilizada pelo assistente virtual Nexus. Sendo assim, espera-se que ao final de todo o processamento, os textos utilizados para alimentar a base de dados exprimam de maneira clara os principasi tópicos mais relvantes para aquele conteúdo e facilite o processo de busca por parte do Nexus."
      ],
      "metadata": {
        "id": "G1vh9F4a1O2c"
      }
    },
    {
      "cell_type": "markdown",
      "source": [
        "#2.0. Importação de dependências"
      ],
      "metadata": {
        "id": "UIFC7GiI1aGL"
      }
    },
    {
      "cell_type": "markdown",
      "source": [
        "Primeiramente, é necessário realizar a instalação da biblioteca Spacy, responsável por fornecer funções que auxiliam no processamento dos textos por meio do uso de algumas ferramentas comumente utilizadas para o processamento de linguagem natural (PLN), como a geração de tokens (Tokenizing) e a remoção de stopwords. Dessa forma, na célula de código abaixo é possível visualizar a importação dessa biblioteca bem como outros recusros advindos dela que também serão importantes para o PLN.\n",
        "<br><br>\n",
        "Além disso, também foi importada a biblioteca Pandas e Numpy. O Pandas será utilizado para auxiliar na visualização dos dados tratados ao final do processo por meio de um dataframe gerado com o auxílio dessa dependência. Já o Numpy será utilizado para\n",
        "<br><br>\n",
        "A importação dessas bibliotecas e suas dependências pode ser vizualisada nas células de código abaixo:"
      ],
      "metadata": {
        "id": "_HhtEjnq1lwN"
      }
    },
    {
      "cell_type": "code",
      "source": [
        "!pip install spacy\n",
        "!pip install spacy-lang-pt\n"
      ],
      "metadata": {
        "colab": {
          "base_uri": "https://localhost:8080/"
        },
        "id": "M9SNpZUGsbGq",
        "outputId": "d5b0751b-6ba6-4cef-d7cd-4682e4d888a4"
      },
      "execution_count": 42,
      "outputs": [
        {
          "output_type": "stream",
          "name": "stdout",
          "text": [
            "Requirement already satisfied: spacy in /usr/local/lib/python3.10/dist-packages (3.6.1)\n",
            "Requirement already satisfied: spacy-legacy<3.1.0,>=3.0.11 in /usr/local/lib/python3.10/dist-packages (from spacy) (3.0.12)\n",
            "Requirement already satisfied: spacy-loggers<2.0.0,>=1.0.0 in /usr/local/lib/python3.10/dist-packages (from spacy) (1.0.4)\n",
            "Requirement already satisfied: murmurhash<1.1.0,>=0.28.0 in /usr/local/lib/python3.10/dist-packages (from spacy) (1.0.9)\n",
            "Requirement already satisfied: cymem<2.1.0,>=2.0.2 in /usr/local/lib/python3.10/dist-packages (from spacy) (2.0.7)\n",
            "Requirement already satisfied: preshed<3.1.0,>=3.0.2 in /usr/local/lib/python3.10/dist-packages (from spacy) (3.0.8)\n",
            "Requirement already satisfied: thinc<8.2.0,>=8.1.8 in /usr/local/lib/python3.10/dist-packages (from spacy) (8.1.12)\n",
            "Requirement already satisfied: wasabi<1.2.0,>=0.9.1 in /usr/local/lib/python3.10/dist-packages (from spacy) (1.1.2)\n",
            "Requirement already satisfied: srsly<3.0.0,>=2.4.3 in /usr/local/lib/python3.10/dist-packages (from spacy) (2.4.7)\n",
            "Requirement already satisfied: catalogue<2.1.0,>=2.0.6 in /usr/local/lib/python3.10/dist-packages (from spacy) (2.0.9)\n",
            "Requirement already satisfied: typer<0.10.0,>=0.3.0 in /usr/local/lib/python3.10/dist-packages (from spacy) (0.9.0)\n",
            "Requirement already satisfied: pathy>=0.10.0 in /usr/local/lib/python3.10/dist-packages (from spacy) (0.10.2)\n",
            "Requirement already satisfied: smart-open<7.0.0,>=5.2.1 in /usr/local/lib/python3.10/dist-packages (from spacy) (6.3.0)\n",
            "Requirement already satisfied: tqdm<5.0.0,>=4.38.0 in /usr/local/lib/python3.10/dist-packages (from spacy) (4.66.1)\n",
            "Requirement already satisfied: numpy>=1.15.0 in /usr/local/lib/python3.10/dist-packages (from spacy) (1.23.5)\n",
            "Requirement already satisfied: requests<3.0.0,>=2.13.0 in /usr/local/lib/python3.10/dist-packages (from spacy) (2.31.0)\n",
            "Requirement already satisfied: pydantic!=1.8,!=1.8.1,<3.0.0,>=1.7.4 in /usr/local/lib/python3.10/dist-packages (from spacy) (2.2.1)\n",
            "Requirement already satisfied: jinja2 in /usr/local/lib/python3.10/dist-packages (from spacy) (3.1.2)\n",
            "Requirement already satisfied: setuptools in /usr/local/lib/python3.10/dist-packages (from spacy) (67.7.2)\n",
            "Requirement already satisfied: packaging>=20.0 in /usr/local/lib/python3.10/dist-packages (from spacy) (23.1)\n",
            "Requirement already satisfied: langcodes<4.0.0,>=3.2.0 in /usr/local/lib/python3.10/dist-packages (from spacy) (3.3.0)\n",
            "Requirement already satisfied: annotated-types>=0.4.0 in /usr/local/lib/python3.10/dist-packages (from pydantic!=1.8,!=1.8.1,<3.0.0,>=1.7.4->spacy) (0.5.0)\n",
            "Requirement already satisfied: pydantic-core==2.6.1 in /usr/local/lib/python3.10/dist-packages (from pydantic!=1.8,!=1.8.1,<3.0.0,>=1.7.4->spacy) (2.6.1)\n",
            "Requirement already satisfied: typing-extensions>=4.6.1 in /usr/local/lib/python3.10/dist-packages (from pydantic!=1.8,!=1.8.1,<3.0.0,>=1.7.4->spacy) (4.7.1)\n",
            "Requirement already satisfied: charset-normalizer<4,>=2 in /usr/local/lib/python3.10/dist-packages (from requests<3.0.0,>=2.13.0->spacy) (3.2.0)\n",
            "Requirement already satisfied: idna<4,>=2.5 in /usr/local/lib/python3.10/dist-packages (from requests<3.0.0,>=2.13.0->spacy) (3.4)\n",
            "Requirement already satisfied: urllib3<3,>=1.21.1 in /usr/local/lib/python3.10/dist-packages (from requests<3.0.0,>=2.13.0->spacy) (2.0.4)\n",
            "Requirement already satisfied: certifi>=2017.4.17 in /usr/local/lib/python3.10/dist-packages (from requests<3.0.0,>=2.13.0->spacy) (2023.7.22)\n",
            "Requirement already satisfied: blis<0.8.0,>=0.7.8 in /usr/local/lib/python3.10/dist-packages (from thinc<8.2.0,>=8.1.8->spacy) (0.7.10)\n",
            "Requirement already satisfied: confection<1.0.0,>=0.0.1 in /usr/local/lib/python3.10/dist-packages (from thinc<8.2.0,>=8.1.8->spacy) (0.1.1)\n",
            "Requirement already satisfied: click<9.0.0,>=7.1.1 in /usr/local/lib/python3.10/dist-packages (from typer<0.10.0,>=0.3.0->spacy) (8.1.7)\n",
            "Requirement already satisfied: MarkupSafe>=2.0 in /usr/local/lib/python3.10/dist-packages (from jinja2->spacy) (2.1.3)\n",
            "\u001b[31mERROR: Could not find a version that satisfies the requirement spacy-lang-pt (from versions: none)\u001b[0m\u001b[31m\n",
            "\u001b[0m\u001b[31mERROR: No matching distribution found for spacy-lang-pt\u001b[0m\u001b[31m\n",
            "\u001b[0m"
          ]
        }
      ]
    },
    {
      "cell_type": "code",
      "source": [
        "import spacy\n",
        "import pandas as pd\n",
        "from keras.preprocessing.text import Tokenizer\n",
        "import numpy as np"
      ],
      "metadata": {
        "id": "h1IBNPeJzW0q"
      },
      "execution_count": 2,
      "outputs": []
    },
    {
      "cell_type": "code",
      "source": [
        "\n",
        "\n",
        "spacy.cli.download('pt_core_news_lg')\n",
        "nlp = spacy.load(\"pt_core_news_lg\")\n",
        "\n"
      ],
      "metadata": {
        "colab": {
          "base_uri": "https://localhost:8080/"
        },
        "id": "GxSDyk47nIn1",
        "outputId": "5f132fb8-3327-4805-a659-96b3cef5031f"
      },
      "execution_count": 3,
      "outputs": [
        {
          "output_type": "stream",
          "name": "stdout",
          "text": [
            "\u001b[38;5;2m✔ Download and installation successful\u001b[0m\n",
            "You can now load the package via spacy.load('pt_core_news_lg')\n"
          ]
        }
      ]
    },
    {
      "cell_type": "code",
      "source": [
        "stop_words = nlp.Defaults.stop_words\n",
        "#stop_words"
      ],
      "metadata": {
        "id": "EbVrY4NnxpbU"
      },
      "execution_count": 4,
      "outputs": []
    },
    {
      "cell_type": "markdown",
      "source": [
        "#3.0. Criando as Funções"
      ],
      "metadata": {
        "id": "rU7q0cwftk6M"
      }
    },
    {
      "cell_type": "markdown",
      "source": [
        "A seguir, é possível visualizar as funções criadas a partir das bibliotecas instaladas para auxiliar no processamento de linguagem natural. Cada função foi modularizada de modo a obter uma melhor separação de funções entre cada uma delas e facilitar a testagem de suas funcionalidades posteriormente"
      ],
      "metadata": {
        "id": "TbQqM1Tf5t3k"
      }
    },
    {
      "cell_type": "markdown",
      "source": [
        "## 3.1. toLowerCase( )"
      ],
      "metadata": {
        "id": "ivuP9zPk61aO"
      }
    },
    {
      "cell_type": "markdown",
      "source": [
        "O primeiro passo é padronizar os texto recebidos para garantir o mínimo de variações não relevantes para o entendimento do algorítmo quanto ao significado do conteúdo do texto. Sendo assim, é necessário que todos os caracteres estejam escritos em letra minúscula para evitar que a mesma palavra escrita em minúsculo ou maiúsculo seja considerada duas palavras diferentes pelo algorítimo. Para isso, foi criada a função `toLowerCase()`, que recebe como parâmetro um texto em formato *.txt* e percorre todo esse texto substituindo as letras maiúsculas por minúsculas. Essa substituição ocorre por meio do método nativo da linguagem de programação Python `.lower()`. A execução desse processo pode ser visualizada na célula de código abaixo:"
      ],
      "metadata": {
        "id": "JykF3xNq8UBP"
      }
    },
    {
      "cell_type": "code",
      "source": [
        "def toLowerCase(_news):\n",
        "    return _news.lower()"
      ],
      "metadata": {
        "id": "XX1sWPtQTEvT"
      },
      "execution_count": 5,
      "outputs": []
    },
    {
      "cell_type": "markdown",
      "source": [
        "##3.2. removeStopWords( )"
      ],
      "metadata": {
        "id": "bKvxanjO64I6"
      }
    },
    {
      "cell_type": "markdown",
      "source": [
        "Outro fator que pode comprometer o entendimento do significado textual por parte do algorítimo é a presença de stopwords. Essas são palavras utilizadas somente para conectar estruturas sintáticas, sem apresentar de fato um significado relevante para o texto e portanto não devem ser levadas em consideração durante o aprendizado do algorítimo.\n",
        "<br><br>\n",
        "A biblioteca Spacy possúi por padrão um agrupamento de palavras consideradas stopwords, sendo em sua maioria artigos, preposições e conjunções. Dessa forma, é criado uma estrutura de repetição dentro da função `removeStopWords()` que percorres cada uma das palavras passadas como parâmetro e as compara com as stopwords pré-definidas. Se essas palavras representarem uma stopword, o algorítmo irá desconsiderá-lo e ele não entrará na lista de palavras filtradas nesse processo, que pode ser visualizado na célula de código abaixo:"
      ],
      "metadata": {
        "id": "sXXC-uU-8jZW"
      }
    },
    {
      "cell_type": "code",
      "source": [
        "def removeStopWords(text):\n",
        "    doc = nlp(text)\n",
        "\n",
        "    tokens = [token.text for token in doc if not token.is_stop]\n",
        "    cleaned_text = ' '.join(tokens)\n",
        "\n",
        "    return cleaned_text\n"
      ],
      "metadata": {
        "id": "UtMc-SOtpiDy"
      },
      "execution_count": 6,
      "outputs": []
    },
    {
      "cell_type": "markdown",
      "source": [
        "##3.3. newsTreatment( )"
      ],
      "metadata": {
        "id": "9ZNOxKIL68ge"
      }
    },
    {
      "cell_type": "markdown",
      "source": [
        "Com o intuito de agrupar as funções criadas anteriormente e garantir uma linha de código mais sinteizada, foi criada a função `newsTreatMent()`, que recebe como parâmetro uma lista de notícias obtidas pelo Web Crawler e aplica sobre elas as funções `toLowerCase()` e `removeStopWords()`. Essa função pode ser visualizada na célula de código abaixo:"
      ],
      "metadata": {
        "id": "d1g7yJRv_YMi"
      }
    },
    {
      "cell_type": "code",
      "source": [
        "def newsTreatment(list_of_news):\n",
        "    new_list = []\n",
        "    for reportage in list_of_news:\n",
        "        new_list.append(removeStopWords(toLowerCase(reportage)))\n",
        "\n",
        "    return new_list"
      ],
      "metadata": {
        "id": "L19hYaAS5V4u"
      },
      "execution_count": 7,
      "outputs": []
    },
    {
      "cell_type": "markdown",
      "source": [
        "##3.4. turnToVector( )"
      ],
      "metadata": {
        "id": "UiZJ8kEhyu3b"
      }
    },
    {
      "cell_type": "markdown",
      "source": [
        "O próximo passo a se fazer é separar cada uma das palavras contidas em um texto como tokens, visto que inicialmente todas as palavras lidas pelo algorítmo são uma única *string* sem qualquer conexão ou lógica entre os textos contidos dentro dela.\n",
        "<br><br>\n",
        "Em seguida, é necessário transformar todos os tokens de um único texto em vetores baseados na frequência em que cada um deles aparece ao longo do texto. Assim, posteriormente, será possível comparar a similaridade desses vetores e propor respostas com base nessas comparações.\n",
        "<br><br>\n",
        "Para isso foi criada a função `turnToVector()`, que recebe como parâmetro uma lista de textos e tokeniza cada uma das palavras conitdas neles por meio da função importada `Tokenizer()`. Em seguida, usa outro método importado chamado `.text_to_matrix()` para selecionadar as palavras presentes em cada um dos textos e criar vetores com base na frequência em que aprecem em cada um deles. Essa função pode ser visualizada na célula de código abaixo:"
      ],
      "metadata": {
        "id": "lc1HNeFrAPrM"
      }
    },
    {
      "cell_type": "code",
      "source": [
        "def turnToVector(_list):\n",
        "\n",
        "    ## Step 1: Determine the Vocabulary\n",
        "    tokenizer = Tokenizer()\n",
        "    tokenizer.fit_on_texts(_list)\n",
        "    print(f'Vocabulary: {list(tokenizer.word_index.keys())}')\n",
        "\n",
        "    ## Step 2: Count\n",
        "    vectors = tokenizer.texts_to_matrix(_list, mode='count')\n",
        "\n",
        "    return vectors"
      ],
      "metadata": {
        "id": "ci7NAxhnpz_T"
      },
      "execution_count": 8,
      "outputs": []
    },
    {
      "cell_type": "markdown",
      "source": [
        "##3.5. get_similarity"
      ],
      "metadata": {
        "id": "a8iKlTh93Py7"
      }
    },
    {
      "cell_type": "markdown",
      "source": [
        "A fim de compararmos os textos obtidos e facilitar o aprendizado do algoritimo por meio da similaridade dos vetores que represetam esses textos, foi criada a função `get_similarity()`, que recebe como parâmetro uma lista de vetores e um valor numérico correspondete ao índice desses vetores dentro da lista. Em seguida, é realizado o cálculo de similaridade do cosseno entre entre esses dois vetores e é retornado um valor que varia de 0 a 1, sendo 0 textos completamentes distintos e 1 textos completamente idênticos. A função mencionada pode ser visualizada na célula de código abaixo:"
      ],
      "metadata": {
        "id": "WY8akxRHHaQI"
      }
    },
    {
      "cell_type": "code",
      "source": [
        "def get_similarity(_list,a,b):\n",
        "    vetor1 = np.array(_list[a])\n",
        "    vetor2 = np.array(_list[b])\n",
        "\n",
        "    produto_escalar = np.dot(vetor1, vetor2)\n",
        "    norma_vetor1 = np.linalg.norm(vetor1)\n",
        "    norma_vetor2 = np.linalg.norm(vetor2)\n",
        "\n",
        "    similaridade = produto_escalar / (norma_vetor1 * norma_vetor2)\n",
        "\n",
        "    return similaridade\n"
      ],
      "metadata": {
        "id": "67nJgyUb2Obw"
      },
      "execution_count": 9,
      "outputs": []
    },
    {
      "cell_type": "markdown",
      "source": [
        "##3.6. pipeLine( )"
      ],
      "metadata": {
        "id": "PtGMokY-JZpF"
      }
    },
    {
      "cell_type": "markdown",
      "source": [
        "A fim de sintetizar todas as funções de pré-processamento criadas anteriormente, foi criada uma última função chamada `pipeLine()`. Essa função recebe como parâmetro uma lista de textos em formato *.txt* e submete essa lista aos métodos criados anteriormente. Em seguida, ela retorna uma tabela que contém um comparativo entre cada texto em sua forma original e sua forma tratada, facilitando a transparência do que foi realizado. A função criada pode ser visualizada na célula de código abaixo:"
      ],
      "metadata": {
        "id": "e-VSLNODMnDG"
      }
    },
    {
      "cell_type": "code",
      "source": [
        "def pipeLine(_list):\n",
        "    preProcess = newsTreatment(_list)\n",
        "    vectorization = turnToVector(preProcess)\n",
        "\n",
        "    array = np.array([[_list[0],preProcess[0], vectorization[0] ],\n",
        "                  [ _list[1],preProcess[1], vectorization[1]],\n",
        "                  [ _list[2],preProcess[2], vectorization[2]],\n",
        "                  [ _list[3],preProcess[3], vectorization[3]],\n",
        "                  [ _list[4],preProcess[4], vectorization[4]],\n",
        "                  [ _list[5],preProcess[5], vectorization[5]],\n",
        "                  [ _list[6],preProcess[6], vectorization[6]],\n",
        "                  [ _list[7],preProcess[7], vectorization[7]],\n",
        "                  [ _list[8],preProcess[8], vectorization[8]],\n",
        "                  [ _list[9],preProcess[9], vectorization[9]]\n",
        "                  ])\n",
        "\n",
        "    nomes_colunas = ['Sentença', 'Sentença filtrada', 'Vetor']\n",
        "    nomes_linhas = ['Frase 1', 'Frase 2','Frase 3', 'Frase 4','Frase 5','Frase 6','Frase 7','Frase 8','Frase 9','Frase 10']\n",
        "\n",
        "    df = pd.DataFrame(array, columns=nomes_colunas, index=nomes_linhas)\n",
        "\n",
        "    return df\n"
      ],
      "metadata": {
        "id": "FQ2y6ppG2qQD"
      },
      "execution_count": 10,
      "outputs": []
    },
    {
      "cell_type": "markdown",
      "source": [
        "#4.0. Realização de Testes"
      ],
      "metadata": {
        "id": "uQ5UIvwbtcNI"
      }
    },
    {
      "cell_type": "markdown",
      "source": [
        "Com a finalidade de garantir um melhor desempenho para o algorítmo e validar os processos realizados acima, foram realizados alguns testes unitários para averiguar o pleno funcionamento das funções descritas acima.\n",
        "<br><br>\n",
        "Cada teste possui como nome o prefixo *test* acrescentado ao nome da função a ser testada.\n",
        "<br><br>\n",
        "A verificação de cada teste pode ser vizualizada nas células de código abaixo:"
      ],
      "metadata": {
        "id": "NSmV7-PtOGqK"
      }
    },
    {
      "cell_type": "markdown",
      "source": [
        "##4.1. Teste Função toLowerCase"
      ],
      "metadata": {
        "id": "uVoodnS1vHwc"
      }
    },
    {
      "cell_type": "code",
      "source": [
        "def testLowerCase():\n",
        "    originalText = \"Esse é Um Exemplo de Frase\"\n",
        "    answer = toLowerCase(originalText)\n",
        "\n",
        "    if answer == \"esse é um exemplo de frase\":\n",
        "        return True\n",
        "    else:\n",
        "        return False"
      ],
      "metadata": {
        "id": "IQBxx-NJteUZ"
      },
      "execution_count": 11,
      "outputs": []
    },
    {
      "cell_type": "code",
      "source": [
        "testLowerCase()"
      ],
      "metadata": {
        "colab": {
          "base_uri": "https://localhost:8080/"
        },
        "id": "aI1ySpEcuPap",
        "outputId": "7bdea727-a5ed-41ce-85c5-891de490793d"
      },
      "execution_count": 12,
      "outputs": [
        {
          "output_type": "execute_result",
          "data": {
            "text/plain": [
              "True"
            ]
          },
          "metadata": {},
          "execution_count": 12
        }
      ]
    },
    {
      "cell_type": "markdown",
      "source": [
        "##4.2. Teste Função removeStopWords"
      ],
      "metadata": {
        "id": "R0ew-25_vOn9"
      }
    },
    {
      "cell_type": "code",
      "source": [
        "def testRemoveStopWords():\n",
        "    originalText2 =\"esse é um exemplo de frase\"\n",
        "    answer2 = removeStopWords(originalText2)\n",
        "\n",
        "    if answer2 == \"frase\":\n",
        "        return True\n",
        "    else:\n",
        "        return False\n"
      ],
      "metadata": {
        "id": "xWtJrfyNux0y"
      },
      "execution_count": 13,
      "outputs": []
    },
    {
      "cell_type": "code",
      "source": [
        "testRemoveStopWords()"
      ],
      "metadata": {
        "colab": {
          "base_uri": "https://localhost:8080/"
        },
        "id": "4wKCimkHzHAK",
        "outputId": "69041632-9a51-4d2f-ccba-ad22d5763d7c"
      },
      "execution_count": 14,
      "outputs": [
        {
          "output_type": "execute_result",
          "data": {
            "text/plain": [
              "True"
            ]
          },
          "metadata": {},
          "execution_count": 14
        }
      ]
    },
    {
      "cell_type": "markdown",
      "source": [
        "##4.3. Teste newsTreatment"
      ],
      "metadata": {
        "id": "y7whIuc87BlE"
      }
    },
    {
      "cell_type": "code",
      "source": [
        "def testNewsTreatment():\n",
        "    originalText3 = [\"Essa é a frase 1\",\"Essa é a frase 2\",\"Essa é a frase 3\",\"Essa é a frase 4\",\"Essa é a frase 5\"]\n",
        "    answer3 = newsTreatment(originalText3)\n",
        "\n",
        "    if answer3 == ['frase 1','frase 2','frase 3','frase 4','frase 5']:\n",
        "        return True\n",
        "    else:\n",
        "        return False\n"
      ],
      "metadata": {
        "id": "50qO3FK67LCk"
      },
      "execution_count": 15,
      "outputs": []
    },
    {
      "cell_type": "code",
      "source": [
        "testNewsTreatment()"
      ],
      "metadata": {
        "colab": {
          "base_uri": "https://localhost:8080/"
        },
        "id": "xnDeb6vf-cYH",
        "outputId": "a72f84a8-bcb5-4812-89d8-deecce99a32e"
      },
      "execution_count": 16,
      "outputs": [
        {
          "output_type": "execute_result",
          "data": {
            "text/plain": [
              "True"
            ]
          },
          "metadata": {},
          "execution_count": 16
        }
      ]
    },
    {
      "cell_type": "markdown",
      "source": [
        "##4.4. Teste turnToVector"
      ],
      "metadata": {
        "id": "in75WLX76Znp"
      }
    },
    {
      "cell_type": "code",
      "source": [
        "def testTurnToVector():\n",
        "    originalText4 = [\"Essa é a frase 1\",\"Essa é a frase 2\"]\n",
        "    answer4 = turnToVector(originalText4)\n",
        "    rightAnswer1 = [0., 1., 1., 1., 1., 1., 0.]\n",
        "    rightAnswer2 = [0., 1., 1., 1., 1., 0., 1.]\n",
        "    rightAnswer = []\n",
        "    rightAnswer.append(rightAnswer1)\n",
        "    rightAnswer.append(rightAnswer2)\n",
        "\n",
        "\n",
        "    for i  in range(len(answer4)):\n",
        "        if  set(answer4[i]) != set(rightAnswer[i]):\n",
        "            return False\n",
        "        else:\n",
        "                continue\n",
        "    return True"
      ],
      "metadata": {
        "id": "LTlpGCwr6jEW"
      },
      "execution_count": 17,
      "outputs": []
    },
    {
      "cell_type": "code",
      "source": [
        "testTurnToVector()"
      ],
      "metadata": {
        "colab": {
          "base_uri": "https://localhost:8080/"
        },
        "id": "K-7D3rrw73b2",
        "outputId": "9268e331-2482-49ab-9369-c797851cb109"
      },
      "execution_count": 18,
      "outputs": [
        {
          "output_type": "stream",
          "name": "stdout",
          "text": [
            "Vocabulary: ['essa', 'é', 'a', 'frase', '1', '2']\n"
          ]
        },
        {
          "output_type": "execute_result",
          "data": {
            "text/plain": [
              "True"
            ]
          },
          "metadata": {},
          "execution_count": 18
        }
      ]
    },
    {
      "cell_type": "markdown",
      "source": [
        "##4.5. Teste pipeLine"
      ],
      "metadata": {
        "id": "PTdkw0ZdJO2R"
      }
    },
    {
      "cell_type": "code",
      "source": [
        "def testPipeLine():\n",
        "    originalText5 = [\"Essa é a frase 1\",\"Essa é a frase 2\",\"Essa é a frase 3\",\"Essa é a frase 4\",\"Essa é a frase 5\",\"Essa é a frase 6\",\"Essa é a frase 7\",\"Essa é a frase 8\",\"Essa é a frase 9\",\"Essa é a frase 10\"]\n",
        "    answer5 = pipeLine(originalText5)\n",
        "\n",
        "    print(type(answer5))\n",
        "\n",
        "    if type(answer5) == \"<class 'pandas.core.frame.DataFrame'>\":\n",
        "        return True\n",
        "    else:\n",
        "        return False"
      ],
      "metadata": {
        "id": "VTLM_Ua-JV4a"
      },
      "execution_count": 19,
      "outputs": []
    },
    {
      "cell_type": "code",
      "source": [
        "testPipeLine()"
      ],
      "metadata": {
        "colab": {
          "base_uri": "https://localhost:8080/"
        },
        "id": "MiikAR5SKzez",
        "outputId": "baab36ff-b703-47c4-cf55-155adbdd2ff6"
      },
      "execution_count": 21,
      "outputs": [
        {
          "output_type": "stream",
          "name": "stdout",
          "text": [
            "Vocabulary: ['frase', '1', '2', '3', '4', '5', '6', '7', '8', '9', '10']\n",
            "<class 'pandas.core.frame.DataFrame'>\n"
          ]
        },
        {
          "output_type": "stream",
          "name": "stderr",
          "text": [
            "<ipython-input-10-58f0e796c2cf>:5: VisibleDeprecationWarning: Creating an ndarray from ragged nested sequences (which is a list-or-tuple of lists-or-tuples-or ndarrays with different lengths or shapes) is deprecated. If you meant to do this, you must specify 'dtype=object' when creating the ndarray.\n",
            "  array = np.array([[_list[0],preProcess[0], vectorization[0] ],\n"
          ]
        },
        {
          "output_type": "execute_result",
          "data": {
            "text/plain": [
              "False"
            ]
          },
          "metadata": {},
          "execution_count": 21
        }
      ]
    },
    {
      "cell_type": "markdown",
      "source": [
        "#5.0. Tratamento de dados"
      ],
      "metadata": {
        "id": "BDKzb3HalJxU"
      }
    },
    {
      "cell_type": "markdown",
      "source": [
        "A fim de demonstrar e compreender o funcionamento do algoritimo criado, foi realizado um *case* de exemplo no qual uma série de notícias retiradas do google serão submetidas ao pré processamento descrito em cada uma das funções e no final espera-se obter um comparativo entre essas noticias.\n"
      ],
      "metadata": {
        "id": "V4YT2PpjO_hf"
      }
    },
    {
      "cell_type": "markdown",
      "source": [
        "##5.1. Definição dos textos a serem utilizados"
      ],
      "metadata": {
        "id": "HK2qJF74Q2n4"
      }
    },
    {
      "cell_type": "markdown",
      "source": [
        "Primeiramente, o conteúdo de cada uma das 10 noticias foi armazenado em uma variável."
      ],
      "metadata": {
        "id": "SADWuhZZQ9XQ"
      }
    },
    {
      "cell_type": "code",
      "execution_count": 22,
      "metadata": {
        "id": "Gsw3sDDCm303"
      },
      "outputs": [],
      "source": [
        "news1= \"\"\"Acesse nossa plataforma a maior comunidade de TI do Brasil\n",
        "\n",
        "    Fóruns\n",
        "    Notícias\n",
        "    IT Forum Series\n",
        "    Colunas\n",
        "    Estudos\n",
        "    Vídeos\n",
        "    Podcasts\n",
        "    Revistas\n",
        "\n",
        "HIT\n",
        "\n",
        "Materiais educativos e gratuitos\n",
        "\n",
        "    iforum icon social Anuncie\n",
        "    iforum icon social Envie seu Release\n",
        "    iforum icon social Fale conosco\n",
        "    iforum icon social Revistas\n",
        "    iforum icon social Newsletter\n",
        "\n",
        "Logo IT\n",
        "IT Forum é um produto do grupo IT Mídia saiba mais\n",
        "IT Forum\n",
        "Email\n",
        "Realizado por:\n",
        "\n",
        "    Facebook\n",
        "    linkedin\n",
        "    twitter\n",
        "    telegram\n",
        "    whatsapp\n",
        "    msg\n",
        "\n",
        "    Home > Notícias > Computerworld Brasil > Bradesco amplia parceria com IBM...\n",
        "\n",
        "Bradesco amplia parceria com IBM para explorar criptografia pós-quântica\n",
        "Projeto piloto utilizará tecnologia da IBM que buscará por criptográficos e vulnerabilidades no Open Finance do banco\n",
        "Redação\n",
        "7:58 pm - 01 de agosto de 2023\n",
        "Bradesco\n",
        "Imagem: Shutterstock\n",
        "\n",
        "De olho no futuro da computação quântica, o Bradesco, por meio do seu ecossistema de inovação inovabra, anunciou que ampliará seu relacionamento com a IBM para explorar e avaliar o uso de criptografia quântica segura. Inicialmente, será utilizada a aplicação do Open Finance do banco como projeto piloto para implementar o IBM Quantum Safe.\n",
        "\n",
        "A tecnologia da IBM varre e localiza criptográficos, pendências e vulnerabilidades. Isso permitirá ao Bradesco criar um Inventário de Materiais Criptográficos (CBOM) para melhor planejar, implementar e aplicar na prática a tecnologia de criptografia pós-quântica.\n",
        "\n",
        "O Bradesco lembra que o setor financeiro já utiliza normalmente a criptografia para transações bancárias, certificados digitais, armazenamento dos dados, entre outros. Agora, os especialistas, por meio do IBM Quantum Safe Explorer, ajudarão o banco a identificar potenciais algoritmos criptográficos vulneráveis nos seus sistemas, auxiliando na identificação de aplicações sob risco de ataques usando computação quântica.\n",
        "\n",
        "Com base nessa avaliação, o Bradesco planeja criar uma metodologia para identificar outras aplicações que possam se beneficiar de tecnologias de criptografia pós-quânticas seguras e prepará-las para integrar os algoritmos resistentes a futuros computadores quânticos criptograficamente relevantes.\n",
        "\n",
        "Leia ainda: Totvs e Itaú Unibanco finalizam criação da Techfin\n",
        "\n",
        "“Uma das consequências da computação quântica em larga escala no futuro pode ser seu impacto nos sistemas de proteção de dados. Entendemos que nossa preparação é prioridade neste momento. Afinal, a segurança é inerente à nossa missão como banco”, afirma Cíntia Barcelos, diretora de tecnologia do Bradesco.\n",
        "\n",
        "O Bradesco também anunciou que agora integra o IBM Quantum Network para explorar as aplicações da indústria de computação quântica. Ao aderir à esta rede, o Bradesco passa a ter acesso à expertise e aos softwares quânticos da IBM.\n",
        "\n",
        "Com o movimento, o Bradesco busca ampliar as experimentações com a computação quântica, que vêm sendo realizadas desde 2021, incluindo experimentos em otimização, (distribuição de caixa e otimização de portfólio); forecasting (projeção de variáveis macroeconômicas) e simulação (precificação de derivativos e análise de risco)\n",
        "\n",
        "“À medida que as capacidades da computação quântica avançam, isso pode nos permitir um dia ver uma maior eficiência operacional e a resolução de problemas que atualmente são considerados difíceis para os computadores clássicos. Esperamos que a tecnologia possa ser amplamente utilizada em um período de 5 a 10 anos”, diz Cíntia.\n",
        "\n",
        "O banco também afirma estar investindo em treinamentos científicos para equipar seu time de TI e base de funcionários com o conhecimento necessário para iniciar o planejamento da integração da tecnologia quântica em suas operações.\n",
        "\n",
        "Siga o IT Forum no LinkedIn e fique por dentro de todas as notícias!\n",
        "Tags:\n",
        "Bradesco\n",
        "computação quântica\n",
        "criptografia\n",
        "IBM\n",
        "open finance\n",
        "EM ALTA NO IT FORUM\n",
        "Notícias\n",
        "People’s Choice: conheça os CEOs finalistas do prêmio Executivo de TI 2023\n",
        "Notícias\n",
        "Hackers burlam autenticação multifator e avançam contra contas de CEOs e CFOs\n",
        "Notícias\n",
        "Bruna Zamith revela como é ser cientista de dados na Amazon\n",
        "INSCREVA-SE NA NOSSA NEWSLETTER\n",
        "\n",
        "Notícias relacionadas\n",
        "Computerworld Brasil\n",
        "Conforme a adoção dos dispositivos de realidade virtual aumenta, questões de privacidade podem surgir\n",
        "Notícias\n",
        "TIM passa a oferecer atendimento a partir da busca do Google\n",
        "Notícias\n",
        "Dia da Informática: 6 empresas que marcaram a história da TI no Brasil\n",
        "Notícias\n",
        "CMOs apostam em IA generativa como vantagem competitiva, diz BCG\n",
        "Newsletter de tecnologia para você\n",
        "\n",
        "Os melhores conteúdos do IT Forum, ComputerWorld, CIO e CSO na sua caixa de entrada.\n",
        "\n",
        "IT Forum\n",
        "\n",
        "Fóruns\n",
        "\n",
        "    Todos os Fóruns\n",
        "\n",
        "Notícias\n",
        "\n",
        "    Todas as Notícias\n",
        "    Liderança\n",
        "    Carreira\n",
        "    Negócios\n",
        "    Tendências\n",
        "    Computerworld Brasil\n",
        "    CIO\n",
        "    CSO\n",
        "\n",
        "COLUNAS\n",
        "\n",
        "    Todas as Colunas\n",
        "\n",
        "ESTUDOS\n",
        "\n",
        "    Todos os Estudos\n",
        "\n",
        "VIDEOS\n",
        "\n",
        "    Assistir Vídeos\n",
        "\n",
        "PODCASTS\n",
        "\n",
        "    Escutar Podcasts\n",
        "\n",
        "HIT\n",
        "\n",
        "    Acessar HIT\n",
        "\n",
        "    itforum icon social Anuncie\n",
        "    itforum icon social Envie seu Release\n",
        "    itforum icon social Fale conosco\n",
        "    itforum icon social Revistas\n",
        "    itforum icon social Newsletter\n",
        "\n",
        "Política de privacidade\n",
        "Termos de Uso\n",
        "Copyright 2022 IT MIDIA - Todos os Direitos Reservados\"\"\"\n",
        "#tokens"
      ]
    },
    {
      "cell_type": "code",
      "source": [
        "news2 = \"\"\"Trecho de adutora estoura e 250 mil moradores ficam sem água no Grande Recife, diz Compesa\n",
        "Suspensão do abastecimento afeta localidades do Cabo de Santo Agostinho e de Jaboatão dos Guararapes, desde a noite da segunda-feira (21), segundo a Compesa.\n",
        "Por g1 PE\n",
        "\n",
        "22/08/2023 16h44  Atualizado há 18 minutos\n",
        "\n",
        "Imagem de arquivo mostra pingo de água caindo de torneira — Foto: Alex Rocha/PMPA\n",
        "Imagem de arquivo mostra pingo de água caindo de torneira — Foto: Alex Rocha/PMPA\n",
        "\n",
        "\n",
        "Moradores de duas cidades do Grande Recife estão sem água desde as 23h da segunda-feira (21). Ao todo, são 250 mil pessoas afetadas pela suspensão do abastecimento, segundo a Companhia Pernambucana de Saneamento (Compesa).\n",
        "\n",
        "📲 Compartilhe no WhatsApp\n",
        "\n",
        "As localidades afetadas foram:\n",
        "\n",
        "Pontezinha (Cabo de Santo Agostinho);\n",
        "Curcurana, Guararapes, Barra de Jangada, Candeias e Piedade (Jaboatão dos Guararapes).\n",
        "O motivo foi o estouramento ocorrido em um trecho de 750 milímetros, em ferro fundido, da Adutora de Gurjau, na Avenida Conde da Boa Vista, no bairro de Pontezinha, no Cabo de Santo Agostinho, no Grande Recife.\n",
        "\n",
        "A expectativa inicial da Compesa é que os serviços durem 24 horas, podendo o prazo se estender a depender da complexidade das intervenções.\n",
        "\n",
        "\n",
        "Ainda de acordo com a Compesa, o fechamento dos registros para conter o fluxo da água é o primeiro procedimento para os serviços de reparo. Isso também permite o esvaziamento da adutora para que o conserto do problema seja efetivamente iniciado.\n",
        "\n",
        "A Compesa detalhou como são os serviços de reparo realizados no local:\n",
        "\n",
        "Por se tratar de uma tubulação de grande porte, técnicos mobilizaram equipamentos pesados, materiais e profissionais para recuperar esse trecho da adutora;\n",
        "Após montada a estrutura, os técnicos iniciaram a escavação até alcançar o trecho do tubo danificado e, assim, fechar o diagnóstico sobre os danos causados;\n",
        "O trabalho é acompanhado por técnicos de outras empresas prestadoras de serviço na área;\n",
        "O órgão municipal de trânsito do Cabo de Santo Agostinho foi acionado para ajudar no desvio disciplinar do trânsito;\n",
        "Foi mobilizada uma equipe social para realizar o levantamento dos danos materiais registrados na área por causa do estouramento, para as providências. \"\"\""
      ],
      "metadata": {
        "id": "C8wgT8yQ2NZc"
      },
      "execution_count": 23,
      "outputs": []
    },
    {
      "cell_type": "code",
      "source": [
        "news3 = \"\"\" Mizael Bispo é solto após Justiça conceder progressão para o regime aberto\n",
        "O ex-policial foi condenado a mais de 20 anos de prisão pela morte da ex-namorada Mércia Nakashima em 2010. Ele cumpria pena em um presidio em Tremembé, no interior de SP.\n",
        "Por g1 Vale do Paraíba e Região\n",
        "\n",
        "22/08/2023 16h45  Atualizado há 54 segundos\n",
        "\n",
        "Imagem de arquivo - Mizael Bispo, condenado por matar Mércia Nakashima. — Foto: Nelson Antoine/Fotoarena/Estadão Conteúdo\n",
        "Imagem de arquivo - Mizael Bispo, condenado por matar Mércia Nakashima. — Foto: Nelson Antoine/Fotoarena/Estadão Conteúdo\n",
        "\n",
        "\n",
        "Mizael Bispo, ex-policial condenado a mais de 20 anos de prisão pela morte da ex-namorada Mércia Nakashima, foi solto na tarde desta terça-feira (22), após a Justiça conceder progressão para o regime aberto (entenda mais abaixo). Ele cumpria pena há 13 anos e, atualmente, estava em um presídio em Tremembé, no interior de São Paulo.\n",
        "\n",
        "Compartilhe no Whatsapp\n",
        "Compartilhe no Telegram\n",
        "O g1 apurou que a decisão que concedeu progressão para o regime aberto foi expedida pela 2ª Vara de Execuções Criminais de Taubaté. Com a decisão, Bispo deixou a Penitenciária Dr. José Augusto Salgado, a P2, em Tremembé, por volta das 16h.\n",
        "\n",
        "\n",
        "A informação foi confirmado pelo advogado de defesa de Mizael. Ele informou que Bispo \"cumpriu tudo que a lei estabeleceu e lhe foi concedido a progressão de regime aberto\".\n",
        "\n",
        "Regime aberto\n",
        "No regime aberto, o condenado cumpre pena fora da prisão e pode trabalhar durante o dia. À noite, deve se recolher em endereço autorizado pela Justiça.\n",
        "\n",
        "A legislação determina que o preso se recolha no período noturno em uma casa de albergado - modelo prisional que abriga presos que estão no mesmo regime -, mas o Estado de São Paulo não dispõe desse tipo de unidade prisional. Por isso, na prática, os presos vão para casa.\n",
        "\n",
        "Para não perder o benefício, o condenado precisa seguir algumas regras, como:\n",
        "\n",
        "permanecer no endereço que for designado durante o repouso e nos dias de folga;\n",
        "cumprir os horários combinados para ir e voltar do trabalho;\n",
        "não pode se ausentar da cidade onde reside sem autorização judicial;\n",
        "quando determinado, deve comparecer em juízo, para informar e justificar suas atividades.\n",
        "Mesmo seguindo essas condições básicas, o juiz pode estabelecer outras condições especiais, de acordo com cada caso.\n",
        "\n",
        "O crime\n",
        "Mizael Bispo cumpria pena de 21 anos e 3 meses de prisão no regime semiaberto na Penitenciária 2, em Tremembé, no interior de São Paulo. O benefício do regime semiaberto foi concedido pela Justiça em 2022.\n",
        "\n",
        "\n",
        "Mércia estava desaparecida desde 23 de maio de 2010, quando foi vista pela última vez em Guarulhos, na Grande São Paulo. Seu carro e seu corpo foram encontrados pela Polícia Civil, respectivamente, em 10 e 11 de junho numa represa em Nazaré Paulista, na região metropolitana.\n",
        "\n",
        "Segundo a perícia, a advogada foi baleada e morreu afogada. A vítima tinha 28 anos. A investigação e o Ministério Público acusaram Mizael de matar Mércia por ciúmes e vingança por ela não ter reatado o namoro com ele. De acordo com a acusação, um homem chamado Evandro o ajudou a fugir do local.\n",
        "\n",
        "Mizael e Evandro foram condenados pelos crimes de homicídio doloso qualificado por motivo torpe, meio cruel e recurso que dificultou a defesa de Mércia. Em outras ocasiões, os dois sempre negaram os crimes e se disseram inocentes.\"\"\""
      ],
      "metadata": {
        "id": "4WMCo_Ol2aW7"
      },
      "execution_count": 24,
      "outputs": []
    },
    {
      "cell_type": "code",
      "source": [
        "news4 = \"\"\"Acusados de matar jovem quando ele ia para casa da avó em Rio Branco são absolvidos\n",
        "Henrique Ferreira da Silva, de 20 anos, foi morto em 2016. Decisão foi publicada nesta terça-feira (22).\n",
        "Por g1 AC — Rio Branco\n",
        "\n",
        "22/08/2023 16h44  Atualizado há 21 minutos\n",
        "\n",
        "Acusados de matar jovem quando ele ia para casa da avó em Rio Branco são absolvidos  — Foto: Arquivo pessoal\n",
        "Acusados de matar jovem quando ele ia para casa da avó em Rio Branco são absolvidos — Foto: Arquivo pessoal\n",
        "\n",
        "\n",
        "O Conselho de Sentença do Tribunal do Júri absolveu Saymon Wallace Fonseca do Nascimento e Francisco Gabriel Bastos Velozo pela morte de Henrique Ferreira da Silva, de 20 anos, em 21 de dezembro de 2016. O jovem foi morto a tiros no bairro Bahia Velha, em Rio Branco, quando estava indo para a casa da avó e foi surpreendido por dois homens em uma motocicleta.\n",
        "\n",
        "Leia também:\n",
        "Jovem é executado a tiros quando ia para casa da avó em Rio Branco\n",
        "\"Ele estava a cerca de 10 metros da casa da avó quando foi surpreendido. Uma outra tia dele que estava na casa da avó, ouviu três disparos e tentou correr até lá, mas um primo do Henrique segurou ela. Tinham dois caras na moto, um deles desceu e atirou nas costas do meu sobrinho. Depois que minha irmã viu que eles foram embora, correu até lá e viu que era o Henrique caído no chão\", contou Eliane Silva, tia da vítima, na época do crime.\n",
        "\n",
        "\n",
        "No processo, Saymon Fonseca disse que não teve nenhuma participação nos fatos e que está sendo acusado porque terceiros falaram que foi o autor, mas é mentira. “Disse que o bairro estava em disputa de domínio pelas facções, que foi condenado por integrar facção. Que só ficou sabendo da morte do Henrique em 2020 quando foi acusado.”\n",
        "\n",
        "Já Francisco Velozo também disse que não havia nenhuma participação nos fatos, que conheceu o co-réu do bairro e a vítima do bairro. \"Que não sabia que a vítima colava com facção criminosa, que ficou sabendo aqui na audiência. Que não colava nem integrava facção criminosa. Que acredita que lhe envolveram neste crime porque já foi condenado por outro crime de homicídio. Que não tinha moto. Que a mãe da vítima sabe quem foi. Que escutou comentários que foram dois caras do bairro e um já morreu”, contou no processo. \"\"\""
      ],
      "metadata": {
        "id": "KtBJ5FEQ2mGd"
      },
      "execution_count": 25,
      "outputs": []
    },
    {
      "cell_type": "code",
      "source": [
        "news5= \"\"\"Guarda-vidas de Maricá resgatam pescador e cachorrinho após barco virar em Itaipuaçu\n",
        "Caso aconteceu na tarde de segunda-feira (21), na altura da rua 70. Ninguém ficou ferido.\n",
        "Por Bianca Chaqboudet, g1 — Maricá\n",
        "\n",
        "22/08/2023 16h42  Atualizado há 28 minutos\n",
        "\n",
        "Pescador foi atingido por onda e barco acabou virando em praia de Maricá, mas ele e o cachorrinho que o acompanha na embarcação foram salvos — Foto: Imagens cedida por Jimmy Lopez\n",
        "Pescador foi atingido por onda e barco acabou virando em praia de Maricá, mas ele e o cachorrinho que o acompanha na embarcação foram salvos — Foto: Imagens cedida por Jimmy Lopez\n",
        "\n",
        "\n",
        "Um pescador e o cachorrinho dele foram resgatados na tarde desta segunda-feira (21), em Maricá, na Região Metropolitana do Rio, depois do barco em que eles estavam virar.\n",
        "\n",
        "O acidente aconteceu na altura da rua 70, na Praia de Itaipuaçu.\n",
        "\n",
        "Segundo os guarda-vidas da Defesa Civil, que atuaram no local, o homem tentava entrar no mar quando foi atingido por uma grande onda lateral. Os agentes entraram na água e conseguiram retirar o senhor e o 'feijão', cachorrinho que estava no barco, sem ferimentos.\n",
        "\n",
        "Banhistas que estavam no local se juntaram aos guarda-vidas para resgatar a embarcação, que também não sofreu danos. \"\"\""
      ],
      "metadata": {
        "id": "z9pR56_Y05Kk"
      },
      "execution_count": 26,
      "outputs": []
    },
    {
      "cell_type": "code",
      "source": [
        "news6 = \"\"\"Casos de meningite crescem em AL; conheça os sintomas e saiba como se prevenir\n",
        "Especialista alerta que contágio por bactérias e vírus que causam a doença cresce durante o inverno. SUS oferece vacina gratuitamente nos postos de saúde para crianças, adolescentes e adultos.\n",
        "Por Vivi Leão e Heliana Gonçalves, g1 AL\n",
        "\n",
        "22/08/2023 16h40  Atualizado há 27 minutos\n",
        "\n",
        "Meningite bacteriana — Foto: Royalty Stock Photo/Science Photo Library/Arquivo AFP\n",
        "Meningite bacteriana — Foto: Royalty Stock Photo/Science Photo Library/Arquivo AFP\n",
        "\n",
        "\n",
        "Considerada uma doença endêmica no Brasil, a meningite pode ser confundida com a gripe e, na sua forma grave, pode até matar. Nos seis primeiros meses deste ano, Alagoas registrou 29 casos de meningite (sendo 21 na capital) e 5 mortes, números acima do que foi registrado no mesmo período anterior, quando foram 24 casos e 4 mortes, segundo a Secretaria de Estado da Saúde.\n",
        "\n",
        "📲 Clique aqui para se inscrever e receber no seu WhatsApp as notícias do g1\n",
        "\n",
        "Esse aumento de casos preocupa porque é no inverno que cresce o risco de contágio e essa sazonalidade pode refletir diretamente nos números do segundo semestre. O mais recente caso, ainda em investigação, é de uma criança que faleceu no domingo (20) em Arapiraca.\n",
        "\n",
        "\n",
        "\"O aumento dos casos se deve a vários fatores. Primeiro a variação sazonal, que de tempos em tempos a doença ganha força, todas as doenças infecciosas têm essa característica. Tanto os vírus quanto as bactérias têm momentos que elas se sobressaem e depois diminui a intensidade. Então nós estamos num momento de maior atividade das bactérias e dos vírus que causam meningite\", explicou o médico Fernando Maia, em entrevista ao g1.\n",
        "\n",
        "LEIA TAMBÉM\n",
        "\n",
        "Maceió registra em 6 meses mais da metade do total de casos de meningite de 2022\n",
        "As crianças são a faixa etária mais atingida, principalmente as menores de 5 anos. Dependendo do tipo de meningite, em apenas algumas horas após o início dos sintomas, a pessoa infectada pode apresentar um quadro de bastante gravidade. A meningite bacteriana é responsável pelos quadros mais fatais, como explica Maia.\n",
        "\n",
        "\"A doença meningocócica é um tipo específico de meningite bacteriana e é a mais grave, porque ela pode levar à forma fulminante, a pessoa pode morrer em 24 horas após o início da doença. Ela tem essa capacidade de fazer uma doença muito grave\", explicou o médico.\n",
        "Compartilhe no WhatsApp\n",
        "Compartilhe no Telegram\n",
        "Ao contrário da meningite bacteriana, a viral é mais benigna e pode ser até tratada em casa. Mas a dúvida que paira é como distinguir as duas.\n",
        "\n",
        "\n",
        "\"Os sintomas da meningite geralmente são febre alta e muita dor de cabeça. Isso é comum aos dois tipos. As meningites virais costumam ser mais leves, então a dor de cabeça é menos intensa, a febre não é tão alta e o paciente se recupera mais rápido. Na meningite bacteriana geralmente dá febre muito alta, rigidez da nuca, o pescoço fica meio travado e aparecem manchas escuras na pele\", afirma Maia\n",
        "\n",
        "Transmissão e diagnóstico\n",
        "A meningite é transmitida quando pequenas gotas de saliva da pessoa infectada entram em contato com as mucosas do nariz ou da boca de um indivíduo saudável, seja através do espirro ou da tosse.\n",
        "\n",
        "Na suspeita clínica da meningite, a indicação é a coleta do líquor, líquido que banha o sistema nervoso.\n",
        "\n",
        "Vacinando para prevenir\n",
        "Somente a vacinação pode salvar uma criança contra a meningite — Foto: Divulgação/Agência Brasil\n",
        "Somente a vacinação pode salvar uma criança contra a meningite — Foto: Divulgação/Agência Brasil\n",
        "\n",
        "\n",
        "O SUS oferece quatro tipos de vacina contra meningites bacterianas e qualquer pessoa pode se vacinar, criança, adolescente ou adulto. As vacinas estão disponíveis em todos os postos de saúde de Maceió a qualquer época do ano, não é preciso esperar a campanha nacional (veja lista mais abaixo).\n",
        "\n",
        "No Brasil, existem vacinas para todos os sorotipos de meningite, mas o sorotipo B está apenas no particular e custa, em média, R$ 500 a dose.\n",
        "\n",
        "Dados da Secretaria de Saúde de Maceió (SMS) apontam que a cobertura vacinal contra a meningite no primeiro semestre do ano na capital é de 78,96%, número abaixo da média estipulada pelo Ministério da Saúde, que é de 95%. Lembrando que o esquema vacinal compreende a vacinação em 3 doses: aos 3 meses de idade, aos 5 meses e com 1 ano (dose de reforço).\n",
        "\n",
        "\"Apesar de a vacina estar disponível nos postos de saúde, a gente ainda tem muitas crianças que não estão vacinadas, ou estão com a vacinação incompleta, já que nesse caso tem que ter duas doses para completar o esquema\", ressaltou Fernando Maia.\n",
        "\n",
        "Quais vacinas o SUS oferece?\n",
        "BCG: que protege contra a meningite turberculosa\n",
        "Pentavalente: protege contra as infecções invasivas, entre elas a meningite causada pelo Haemophilus influenzae sorotipo b\n",
        "Meningocócica C: protege contra a doença meningocócica causada pela Neisseria meningitidis sorogrupo C\n",
        "Pneumocócica 10: protege contra as infecções invasivas, entre elas a meningite causada por dez sorotipos do Streptococcus pneumoniae \"\"\""
      ],
      "metadata": {
        "id": "Py40Nznh3x3S"
      },
      "execution_count": 27,
      "outputs": []
    },
    {
      "cell_type": "code",
      "source": [
        "news7 = \"\"\"Jornada Delegada de policiais e bombeiros reforça a Segurança Pública em Sorriso\n",
        "A jornada extra dos policiais militares e bombeiros não resulta em gastos extras ao Governo do Estado. Os valores são pagos pela Administração Municipal de Sorriso.\n",
        "TOPO\n",
        "Por Prefeitura de Sorriso\n",
        "\n",
        "22/08/2023 16h39  Atualizado há 32 minutos\n",
        "\n",
        "\n",
        "Para ar um reforço a mais na Segurança Pública, a Prefeitura Municipal de Sorriso firmou um Termo de Cooperação com o Governo do Estado de Mato Grosso, por meio da Secretaria de Estado de Segurança Pública para a implementação da Jornada Delegada, com o objetivo de ampliar o número de policiais e de bombeiros militares nas ruas. A iniciativa foi apresentada pelo Gabinete de Gestão Integrada (GGI), que conta com representantes de várias forças de segurança como a Polícia Militar (PM), Polícia Judiciária Civil (PJC), Centro Integrado de Operações Aéreas (Ciopaer), Polícia Rodoviária Federal (PRF), Secretaria de Segurança Municipal de Trânsito e Defesa Civil, Conselho Municipal de Segurança Pública (COMSEP), Guarda Municipal e Poder Judiciário de Sorriso.\n",
        "\n",
        "A Jornada Delegada já é realidade para policiais militares desde 2020 e neste ano de 2023 também foi implantada junto ao Corpo de Bombeiros, por meio do Termo de Cooperação 0055/2023. De acordo com a Lei 2.201, de maio de 2013, a jornada delegada pode ser viabilizada para apoio à fiscalização do comércio ilegal e irregular; combate à depredação do patrimônio público; apoio à fiscalização ambiental, de trânsito e licenças; e combate ao fogo. Pela regra, cada beneficiado não pode executar carga horária diária superior a 6 horas, nem tampouco carga horária mensal superior a 50 horas. A jornada extra dos policiais militares e bombeiros não resulta em gastos extras ao Governo do Estado. Os valores são pagos pela Administração Municipal de Sorriso, que conta com uma previsão orçamentária de R$ 700 mil para este ano de 2023.\n",
        "\n",
        "\n",
        "Para o prefeito de Sorriso, Ari Lafin, o aumento do efetivo tanto da Polícia Militar, quanto do Corpo de Bombeiros é um reforço significativo para o combate à criminalidade e no atendimento à população, no que diz respeito ao combate a queimadas e incêndios.\n",
        "\n",
        "A Jornada Delegada já é realidade para policiais militares desde 2020 — Foto: Assessoria\n",
        "A Jornada Delegada já é realidade para policiais militares desde 2020 — Foto: Assessoria\n",
        "\n",
        "O secretário Municipal de Segurança Pública, Trânsito e Defesa Civil, José Carlos Moura diz que a Prefeitura vem investindo recursos para auxiliar todas as forças de segurança do município “Estamos nos empenhando para dar todo aporte necessário, obviamente, que dentro da legalidade. Estamos investindo na Jornada Delegada, tanto para policiais militares, quanto para o Corpo de Bombeiros. Os militares que estão de folga, trabalham para o município e recebem o vencimento referente ao trabalho prestado, mensalmente, diretamente em suas contas-correntes. E isso tem gerado excelentes resultados”.\n",
        "\n",
        "Para o comandante da 10.ª CIBM de Sorriso, capitão Daniel Alves Moura e Silva, a Jornada Delegada representa um incentivo a mais para os integrantes da corporação. “Nos sentimos muito felizes em poder contribuir nas horas de folga e, com isso, receber um complemento de renda, por meio desta parceria com a Prefeitura. Diariamente são quatro militares de serviço, com a Jornada Delegada, conseguimos escalar mais dois militares por dia, ou seja, temos um aumento de 50% no efetivo”.\n",
        "\n",
        "A jornada extra dos policiais militares e bombeiros não resulta em gastos extras ao Governo do Estado. — Foto: Assessoria\n",
        "A jornada extra dos policiais militares e bombeiros não resulta em gastos extras ao Governo do Estado. — Foto: Assessoria\n",
        "\n",
        "De acordo com o comandante do 12º Batalhão da Polícia Militar de Sorriso, tenente-coronel Jorge Almeida, a Polícia Militar tem recebido investimentos tanto da Secretaria de Estado de Segurança Pública, quanto da Prefeitura de Sorriso, por meio de um termo de cooperação técnica para a Jornada Delegada, por meio da qual o município paga o policial militar no seu momento de folga que prestam serviço em ações que o município executa. “Por meio da Jornada Delegada é possível ampliar o quatro de policiais que atuam no dia a dia nas ruas da cidade e nos distritos de Primavera do Norte (Primaverinha), Caravággio e Boa Esperança para proporcionar maior sensação de segurança para nossa população. O município emprega esse valor para que o policial de folga, sirva e proteja nossa sociedade”.\n",
        "\n",
        "Além disso, de acordo com o secretário José Carlos Moura, a Prefeitura ajuda na manutenção das forças de segurança para melhoria do atendimento à população, por meio do COMSEP (Conselho Municipal de Segurança Pública). “Temos um orçamento de aproximadamente 2 milhões de reais do FUNSEP (Fundo Municipal de Segurança Pública) para dar apoio às forças de segurança, no que se refere a mobílias, manutenção de ar-condicionado, material de limpeza, material de expediente, cedência de servidores do município, manutenção de prédios, que muitas vezes pode demorar um pouco e o município faz esse repasse para buscar sanar essas necessidades e para melhor atender as famílias sorrisenses”.\"\"\""
      ],
      "metadata": {
        "id": "BjYRl0M34BwV"
      },
      "execution_count": 28,
      "outputs": []
    },
    {
      "cell_type": "code",
      "source": [
        "news8 = \"\"\" Criança de 2 anos é picada na pálpebra por escorpião enquanto dormia no interior de SP\n",
        "Caso ocorreu no dia 14 de agosto, mas o g1 teve acesso à informação nesta terça-feira (22). Depois de receber atendimento médico, o menino foi liberado.\n",
        "Por g1 Rio Preto e Araçatuba\n",
        "\n",
        "22/08/2023 16h36  Atualizado há 37 minutos\n",
        "\n",
        "Escorpião picou pálpebra de criança em Rio Preto (SP) — Foto: Renata da Costa dos Reis/Arquivo pessoal\n",
        "Escorpião picou pálpebra de criança em Rio Preto (SP) — Foto: Renata da Costa dos Reis/Arquivo pessoal\n",
        "\n",
        "\n",
        "Uma criança de dois anos foi socorrida após ser picada por um escorpião enquanto dormia em São José do Rio Preto (SP). O caso ocorreu no dia 14 de agosto, mas a informação só foi divulgada nesta terça-feira (22).\n",
        "\n",
        "Conforme apurado pelo g1, a mãe acordou com o choro da criança, por volta das 4h, e, quando chegou ao quarto, viu o escorpião na parede.\n",
        "\n",
        "Hospital da Criança e Maternidade (HCM) de São José do Rio Preto (SP) — Foto: Foto: Divulgação\n",
        "Hospital da Criança e Maternidade (HCM) de São José do Rio Preto (SP) — Foto: Foto: Divulgação\n",
        "\n",
        "\n",
        "O menino foi picado na pálpebra. Ele foi socorrido e levado para a Unidade de Pronto Atendimento (UPA) e depois encaminhado ao Hospital da Criança e Maternidade (HCM).\n",
        "\n",
        "Depois de receber atendimento médico, a criança foi liberada e não teve a visão prejudicada. Conforme a assessoria do HCM, não foi necessária a aplicação do soro antiescorpiônico.\"\"\""
      ],
      "metadata": {
        "id": "BpTBCB6m4Z1P"
      },
      "execution_count": 29,
      "outputs": []
    },
    {
      "cell_type": "code",
      "source": [
        "news9 = \"\"\" Inscrições para aulas de espanhol gratuitas na Fatec acabam nesta sexta-feira, em Presidente Prudente\n",
        "Ao todo, são 40 vagas para interessados a partir dos 16 anos, que participarão das aulas presenciais aos sábados, das 9h às 10h30.\n",
        "Por g1 Presidente Prudente\n",
        "\n",
        "22/08/2023 16h47  Atualizado há 27 minutos\n",
        "\n",
        "Inscrições para aulas de espanhol gratuitas na Fatec acabam nesta sexta-feira, em Presidente Prudente (SP) — Foto: Cedida/Secom\n",
        "Inscrições para aulas de espanhol gratuitas na Fatec acabam nesta sexta-feira, em Presidente Prudente (SP) — Foto: Cedida/Secom\n",
        "\n",
        "\n",
        "Seguem até sexta-feira (25) as inscrições para o curso gratuito de língua espanhola oferecido pela Faculdade de Tecnologia do Estado de São Paulo (Fatec), em Presidente Prudente (SP). Podem participar jovens e adultos a partir dos 16 anos.\n",
        "\n",
        "A iniciativa, promovida em parceria com a Coordenadoria Municipal da Juventude, oferece 40 vagas para os interessados, que devem preencher um formulário on-line. As vagas serão oferecidas por ordem de inscrição.\n",
        "\n",
        "O curso tem como objetivo auxiliar o desenvolvimento de competências exigidas pelo mercado de trabalho e em processos seletivos ou para quem deseja viajar e enriquecer o currículo, por meio de conteúdos de nível básico, como conversação, compreensão auditiva, escrita e leitura.\n",
        "\n",
        "\n",
        "As aulas presenciais serão ministradas na sede da Fatec, em Presidente Prudente, a partir deste sábado (26), das 9h às 10h30, pela professora de espanhol da unidade, Silmara Moscatelli.\n",
        "\n",
        "Serviço\n",
        "A Fatec de Presidente Prudente está localizada na Rua Teresina, nº 75, na Vila Paulo Roberto. Para mais informações, acesse o site.\"\"\""
      ],
      "metadata": {
        "id": "_V9zbwyc4mee"
      },
      "execution_count": 31,
      "outputs": []
    },
    {
      "cell_type": "code",
      "source": [
        "news10 = \"\"\"PF abre inquérito para investigar se houve sabotagem em apagão elétrico no país\n",
        "A pedido do governo, Polícia Federal vai investigar razões que levaram à interrupção do fornecimento de energia em todas as regiões brasileiras; investigação vai apurar se houve falha técnica ou humana\n",
        "\n",
        "Macapá no escuro após apagão que afetou estado do Amapá\n",
        "Macapá no escuro após apagão que afetou estado do Amapá\n",
        "Foto: Maksuel Martins/Fotoarena/Estadão Conteúdo (19.nov.2020)\n",
        "\n",
        "Basília Rodrigues\n",
        "\n",
        "22/08/2023 às 17:05\n",
        "Compartilhe:\n",
        "Facebook\n",
        "Twitter\n",
        "Linkedin\n",
        "WhatsApp\n",
        "flipboard\n",
        "Ouvir notícia\n",
        "\n",
        "A Polícia Federal abriu inquérito nesta terça-feira (22) para investigar as causas do apagão de energia elétrica que atingiu 25 estados e o Distrito Federal, na semana passada. A investigação seguirá em sigilo e vai apurar os crimes de sabotagem e atentado contra a segurança de serviço de utilidade pública.\n",
        "\n",
        "A PF atendeu a um pedido feito pelos ministérios da Justiça e de Minas e Energia. A investigação ficará a cargo da Diretoria de Inteligência Policial da PF (DIP), em Brasília.\n",
        "\n",
        "Vídeo: Falha que provocou apagão deve ter ocorrido por excesso de energia no sistema, dizem fontes\n",
        "\n",
        "\n",
        "Apagão: Falha deve ter ocorrido por excesso de energia no sistema, dizem fontes | CNN 360ºApagão: Falha deve ter ocorrido por excesso de energia no sistema, dizem fontes | CNN 360º\n",
        "A partir do inquérito, a polícia poderá ouvir pessoas do setor elétrico e do governo. Uma sobrecarga em linha operacionalizada pela Eletrobras, no Ceará, foi identificada como um dos motivos para o apagão.\n",
        "\n",
        "Entre as hipóteses, há desde a possibilidade de uma falha técnica à ação humana, incluindo a modalidade dolosa, quando há intenção de cometer o crime.\n",
        "\n",
        "De acordo com o governo federal, o ocorrido foi “extremamente raro”. A falha no Sistema Interligado Nacional foi registrada por volta de 8h30. Foi um fato que causou interrupção nas regiões Norte e Nordeste.\n",
        "\n",
        "Leia mais\n",
        "\n",
        "Há sobra de energia no país e apagão foi “erro técnico”, diz Rui Costa\n",
        "Há sobra de energia no país e apagão foi “erro técnico”, diz Rui Costa\n",
        "Apagão e reajuste ampliam artilharia política contra ministro de Minas e Energia, dizem fontes\n",
        "Apagão e reajuste ampliam artilharia política contra ministro de Minas e Energia, dizem fontes\n",
        "Após apagão, Janja faz post citando a privatização da Eletrobras\n",
        "Após apagão, Janja faz post citando a privatização da Eletrobras\n",
        "O apagão se espalhou pelo país devido a uma ação preventiva de proteção do sistema, em que o Operador Nacional do Sistema (ONS) minimizou a carga das regiões Sul, Sudeste e Centro-Oeste, para que não houvesse a interrupção total dessas regiões.\n",
        "\n",
        "O apagão prejudicou cerca de 29 milhões de residências e estabelecimentos comerciais. Em alguns lugares, a falta de luz durou dez minutos, em outros, mais de seis horas.\n",
        "\n",
        "Tópicos\n",
        "Tópicos \"\"\""
      ],
      "metadata": {
        "id": "FFJ8j9Ar4ok4"
      },
      "execution_count": 32,
      "outputs": []
    },
    {
      "cell_type": "markdown",
      "source": [
        "Em seguida, essas variáveis foram agrupadas em uma lista para facilitar a manipulação de todas elas"
      ],
      "metadata": {
        "id": "LVXSKXwHQBwI"
      }
    },
    {
      "cell_type": "code",
      "source": [
        "newsList = [news1,news2,news3,news4,news5,news6,news7,news8,news9,news10]"
      ],
      "metadata": {
        "id": "YtryxXvs5Acu"
      },
      "execution_count": 33,
      "outputs": []
    },
    {
      "cell_type": "markdown",
      "source": [
        "o valor final dessa lista pode ser visualizado a seguir:"
      ],
      "metadata": {
        "id": "i0zoCGJ2Qouh"
      }
    },
    {
      "cell_type": "code",
      "source": [
        "newsTreatment(newsList)"
      ],
      "metadata": {
        "colab": {
          "base_uri": "https://localhost:8080/"
        },
        "id": "av-98qAa5RiJ",
        "outputId": "cb1332e8-c0ac-4047-c79f-f7b72f47daf2"
      },
      "execution_count": 34,
      "outputs": [
        {
          "output_type": "execute_result",
          "data": {
            "text/plain": [
              "['acesse plataforma comunidade ti brasil \\n\\n     fóruns \\n     notícias \\n     it forum series \\n     colunas \\n     estudos \\n     vídeos \\n     podcasts \\n     revistas \\n\\n hit \\n\\n materiais educativos gratuitos \\n\\n     iforum icon social anuncie \\n     iforum icon social envie release \\n     iforum icon social fale conosco \\n     iforum icon social revistas \\n     iforum icon social newsletter \\n\\n it \\n it forum produto it mídia saiba \\n it forum \\n email \\n realizado : \\n\\n     facebook \\n     linkedin \\n     twitter \\n     telegram \\n     whatsapp \\n     msg \\n\\n     home > notícias > computerworld brasil > bradesco amplia parceria ibm ... \\n\\n bradesco amplia parceria ibm explorar criptografia pós-quântica \\n projeto piloto utilizará tecnologia ibm buscará criptográficos vulnerabilidades open finance banco \\n redação \\n 7:58 pm - 01 agosto 2023 \\n bradesco \\n imagem : shutterstock \\n\\n olho futuro computação quântica , bradesco , ecossistema inovação inovabra , anunciou ampliará relacionamento ibm explorar avaliar uso criptografia quântica segura . inicialmente , será utilizada aplicação open finance banco projeto piloto implementar ibm quantum safe . \\n\\n tecnologia ibm varre localiza criptográficos , pendências vulnerabilidades . permitirá bradesco criar inventário materiais criptográficos ( cbom ) melhor planejar , implementar aplicar prática tecnologia criptografia pós-quântica . \\n\\n bradesco lembra setor financeiro utiliza normalmente criptografia transações bancárias , certificados digitais , armazenamento dados , . , especialistas , ibm quantum safe explorer , ajudarão banco identificar potenciais algoritmos criptográficos vulneráveis sistemas , auxiliando identificação aplicações risco ataques usando computação quântica . \\n\\n base avaliação , bradesco planeja criar metodologia identificar aplicações possam beneficiar tecnologias criptografia pós-quânticas seguras prepará-las integrar algoritmos resistentes futuros computadores quânticos criptograficamente relevantes . \\n\\n leia : totvs itaú unibanco finalizam criação techfin \\n\\n “ consequências computação quântica larga escala futuro impacto sistemas proteção dados . entendemos preparação prioridade . afinal , segurança inerente missão banco ” , afirma cíntia barcelos , diretora tecnologia bradesco . \\n\\n bradesco anunciou integra ibm quantum network explorar aplicações indústria computação quântica . aderir rede , bradesco passa acesso expertise softwares quânticos ibm . \\n\\n movimento , bradesco busca ampliar experimentações computação quântica , sendo realizadas 2021 , incluindo experimentos otimização , ( distribuição caixa otimização portfólio ) ; forecasting ( projeção variáveis macroeconômicas ) simulação ( precificação derivativos análise risco ) \\n\\n “ medida capacidades computação quântica avançam , permitir dia eficiência operacional resolução problemas atualmente considerados difíceis computadores clássicos . esperamos tecnologia possa amplamente utilizada período 5 10 anos ” , cíntia . \\n\\n banco afirma investindo treinamentos científicos equipar time ti base funcionários conhecimento necessário planejamento integração tecnologia quântica operações . \\n\\n siga it forum linkedin fique notícias ! \\n tags : \\n bradesco \\n computação quântica \\n criptografia \\n ibm \\n open finance \\n alta it forum \\n notícias \\n people ’s choice : conheça ceos finalistas prêmio executivo ti 2023 \\n notícias \\n hackers burlam autenticação multifator avançam contas ceos cfos \\n notícias \\n bruna zamith revela cientista dados amazon \\n inscreva-se newsletter \\n\\n notícias relacionadas \\n computerworld brasil \\n conforme adoção dispositivos realidade virtual aumenta , questões privacidade surgir \\n notícias \\n tim passa oferecer atendimento busca google \\n notícias \\n dia informática : 6 empresas marcaram história ti brasil \\n notícias \\n cmos apostam ia generativa vantagem competitiva , bcg \\n newsletter tecnologia \\n\\n melhores conteúdos it forum , computerworld , cio cso caixa entrada . \\n\\n it forum \\n\\n fóruns \\n\\n     fóruns \\n\\n notícias \\n\\n     notícias \\n     liderança \\n     carreira \\n     negócios \\n     tendências \\n     computerworld brasil \\n     cio \\n     cso \\n\\n colunas \\n\\n     colunas \\n\\n estudos \\n\\n     estudos \\n\\n videos \\n\\n     assistir vídeos \\n\\n podcasts \\n\\n     escutar podcasts \\n\\n hit \\n\\n     acessar hit \\n\\n     itforum icon social anuncie \\n     itforum icon social envie release \\n     itforum icon social fale conosco \\n     itforum icon social revistas \\n     itforum icon social newsletter \\n\\n política privacidade \\n termos uso \\n copyright 2022 it midia - direitos reservados',\n",
              " 'trecho adutora estoura 250 moradores ficam água recife , compesa \\n suspensão abastecimento afeta localidades cabo santo agostinho jaboatão guararapes , noite segunda-feira ( 21 ) , compesa . \\n g1 pe \\n\\n 22/08/2023 16h44   atualizado há 18 minutos \\n\\n imagem arquivo mostra pingo água caindo torneira — foto : alex rocha / pmpa \\n imagem arquivo mostra pingo água caindo torneira — foto : alex rocha / pmpa \\n\\n\\n moradores cidades recife água 23h segunda-feira ( 21 ) . , 250 pessoas afetadas suspensão abastecimento , companhia pernambucana saneamento ( compesa ) . \\n\\n 📲 compartilhe whatsapp \\n\\n localidades afetadas : \\n\\n pontezinha ( cabo santo agostinho ) ; \\n curcurana , guararapes , barra jangada , candeias piedade ( jaboatão guararapes ) . \\n motivo estouramento ocorrido trecho 750 milímetros , ferro fundido , adutora gurjau , avenida conde vista , bairro pontezinha , cabo santo agostinho , recife . \\n\\n expectativa inicial compesa serviços durem 24 horas , podendo prazo estender depender complexidade intervenções . \\n\\n\\n acordo compesa , fechamento registros conter fluxo água procedimento serviços reparo . permite esvaziamento adutora conserto problema seja efetivamente iniciado . \\n\\n compesa detalhou serviços reparo realizados : \\n\\n tratar tubulação porte , técnicos mobilizaram equipamentos pesados , materiais profissionais recuperar trecho adutora ; \\n montada estrutura , técnicos iniciaram escavação alcançar trecho tubo danificado , , fechar diagnóstico danos causados ; \\n trabalho acompanhado técnicos empresas prestadoras serviço ; \\n órgão municipal trânsito cabo santo agostinho acionado ajudar desvio disciplinar trânsito ; \\n mobilizada equipe social realizar levantamento danos materiais registrados causa estouramento , providências .',\n",
              " '  mizael bispo solto justiça conceder progressão regime aberto \\n ex-policial condenado 20 anos prisão morte ex-namorada mércia nakashima 2010 . cumpria pena presidio tremembé , interior sp . \\n g1 vale paraíba região \\n\\n 22/08/2023 16h45   atualizado há 54 segundos \\n\\n imagem arquivo - mizael bispo , condenado matar mércia nakashima . — foto : nelson antoine / fotoarena / estadão conteúdo \\n imagem arquivo - mizael bispo , condenado matar mércia nakashima . — foto : nelson antoine / fotoarena / estadão conteúdo \\n\\n\\n mizael bispo , ex-policial condenado 20 anos prisão morte ex-namorada mércia nakashima , solto terça-feira ( 22 ) , justiça conceder progressão regime aberto ( entenda abaixo ) . cumpria pena há 13 anos , atualmente , presídio tremembé , interior paulo . \\n\\n compartilhe whatsapp \\n compartilhe telegram \\n g1 apurou decisão concedeu progressão regime aberto expedida 2ª vara execuções criminais taubaté . decisão , bispo deixou penitenciária dr. josé augusto salgado , p2 , tremembé , volta 16h . \\n\\n\\n informação confirmado advogado defesa mizael . informou bispo \" cumpriu lei estabeleceu concedido progressão regime aberto \" . \\n\\n regime aberto \\n regime aberto , condenado cumpre pena prisão trabalhar durante dia . noite , recolher endereço autorizado justiça . \\n\\n legislação determina preso recolha período noturno casa albergado - modelo prisional abriga presos regime - , paulo dispõe unidade prisional . , prática , presos casa . \\n\\n perder benefício , condenado precisa seguir regras , : \\n\\n permanecer endereço designado durante repouso dias folga ; \\n cumprir horários combinados voltar trabalho ; \\n ausentar cidade reside autorização judicial ; \\n determinado , comparecer juízo , informar justificar atividades . \\n seguindo condições básicas , juiz estabelecer condições especiais , acordo caso . \\n\\n crime \\n mizael bispo cumpria pena 21 anos 3 prisão regime semiaberto penitenciária 2 , tremembé , interior paulo . benefício regime semiaberto concedido justiça 2022 . \\n\\n\\n mércia desaparecida 23 maio 2010 , vista última guarulhos , paulo . carro corpo encontrados polícia civil , respectivamente , 10 11 junho represa nazaré paulista , região metropolitana . \\n\\n perícia , advogada baleada morreu afogada . vítima tinha 28 anos . investigação ministério público acusaram mizael matar mércia ciúmes vingança reatado namoro . acordo acusação , homem chamado evandro ajudou fugir . \\n\\n mizael evandro condenados crimes homicídio doloso qualificado motivo torpe , cruel recurso dificultou defesa mércia . ocasiões , negaram crimes disseram inocentes .',\n",
              " 'acusados matar jovem ia casa avó rio branco absolvidos \\n henrique ferreira silva , 20 anos , morto 2016 . decisão publicada terça-feira ( 22 ) . \\n g1 ac — rio branco \\n\\n 22/08/2023 16h44   atualizado há 21 minutos \\n\\n acusados matar jovem ia casa avó rio branco absolvidos   — foto : arquivo pessoal \\n acusados matar jovem ia casa avó rio branco absolvidos — foto : arquivo pessoal \\n\\n\\n sentença tribunal júri absolveu saymon wallace fonseca nascimento francisco gabriel bastos velozo morte henrique ferreira silva , 20 anos , 21 dezembro 2016 . jovem morto tiros bairro bahia velha , rio branco , indo casa avó surpreendido homens motocicleta . \\n\\n leia : \\n jovem executado tiros ia casa avó rio branco \\n \" cerca 10 metros casa avó surpreendido . tia dele casa avó , ouviu disparos tentou correr , primo henrique segurou . tinham caras moto , deles desceu atirou costas sobrinho . irmã viu , correu viu henrique caído chão \" , contou eliane silva , tia vítima , época crime . \\n\\n\\n processo , saymon fonseca disse participação fatos sendo acusado terceiros falaram autor , mentira . “ disse bairro disputa domínio facções , condenado integrar facção . ficou sabendo morte henrique 2020 acusado . ” \\n\\n francisco velozo disse havia participação fatos , conheceu co-réu bairro vítima bairro . \" sabia vítima colava facção criminosa , ficou sabendo audiência . colava integrava facção criminosa . acredita envolveram crime condenado outro crime homicídio . tinha moto . mãe vítima . escutou comentários caras bairro morreu ” , contou processo .',\n",
              " \"guarda-vidas maricá resgatam pescador cachorrinho barco virar itaipuaçu \\n caso aconteceu segunda-feira ( 21 ) , altura rua 70 . ninguém ficou ferido . \\n bianca chaqboudet , g1 — maricá \\n\\n 22/08/2023 16h42   atualizado há 28 minutos \\n\\n pescador atingido onda barco acabou virando praia maricá , cachorrinho acompanha embarcação salvos — foto : imagens cedida jimmy lopez \\n pescador atingido onda barco acabou virando praia maricá , cachorrinho acompanha embarcação salvos — foto : imagens cedida jimmy lopez \\n\\n\\n pescador cachorrinho dele resgatados segunda-feira ( 21 ) , maricá , região metropolitana rio , barco estavam virar . \\n\\n acidente aconteceu altura rua 70 , praia itaipuaçu . \\n\\n guarda-vidas defesa civil , atuaram , homem tentava entrar mar atingido onda lateral . agentes entraram água conseguiram retirar senhor ' feijão ' , cachorrinho barco , ferimentos . \\n\\n banhistas estavam juntaram guarda-vidas resgatar embarcação , sofreu danos .\",\n",
              " 'casos meningite crescem al ; conheça sintomas saiba prevenir \\n especialista alerta contágio bactérias vírus causam doença cresce durante inverno . sus oferece vacina gratuitamente postos saúde crianças , adolescentes adultos . \\n vivi leão heliana gonçalves , g1 al \\n\\n 22/08/2023 16h40   atualizado há 27 minutos \\n\\n meningite bacteriana — foto : royalty stock photo / science photo library / arquivo afp \\n meningite bacteriana — foto : royalty stock photo / science photo library / arquivo afp \\n\\n\\n considerada doença endêmica brasil , meningite confundida gripe , grave , matar . primeiros ano , alagoas registrou 29 casos meningite ( sendo 21 capital ) 5 mortes , acima registrado período anterior , 24 casos 4 mortes , secretaria saúde . \\n\\n 📲 clique inscrever receber whatsapp notícias g1 \\n\\n aumento casos preocupa inverno cresce risco contágio sazonalidade refletir diretamente semestre . recente caso , investigação , criança faleceu domingo ( 20 ) arapiraca . \\n\\n\\n \" aumento casos fatores . variação sazonal , tempos tempos doença ganha força , doenças infecciosas característica . vírus bactérias momentos sobressaem diminui intensidade . estamos atividade bactérias vírus causam meningite \" , explicou médico fernando maia , entrevista g1 . \\n\\n leia \\n\\n maceió registra 6 metade total casos meningite 2022 \\n crianças faixa etária atingida , principalmente menores 5 anos . dependendo meningite , horas início sintomas , pessoa infectada apresentar quadro gravidade . meningite bacteriana responsável quadros fatais , explica maia . \\n\\n \" doença meningocócica específico meningite bacteriana grave , levar fulminante , pessoa morrer 24 horas início doença . capacidade doença grave \" , explicou médico . \\n compartilhe whatsapp \\n compartilhe telegram \\n contrário meningite bacteriana , viral benigna tratada casa . dúvida paira distinguir . \\n\\n\\n \" sintomas meningite geralmente febre alta muita dor cabeça . comum tipos . meningites virais costumam leves , dor cabeça intensa , febre alta paciente recupera rápido . meningite bacteriana geralmente febre alta , rigidez nuca , pescoço fica travado aparecem manchas escuras pele \" , afirma maia \\n\\n transmissão diagnóstico \\n meningite transmitida pequenas gotas saliva pessoa infectada entram contato mucosas nariz boca indivíduo saudável , seja espirro tosse . \\n\\n suspeita clínica meningite , indicação coleta líquor , líquido banha nervoso . \\n\\n vacinando prevenir \\n vacinação salvar criança meningite — foto : divulgação / agência brasil \\n vacinação salvar criança meningite — foto : divulgação / agência brasil \\n\\n\\n sus oferece tipos vacina meningites bacterianas pessoa vacinar , criança , adolescente adulto . vacinas disponíveis postos saúde maceió época ano , preciso esperar campanha nacional ( lista abaixo ) . \\n\\n brasil , existem vacinas sorotipos meningite , sorotipo b particular , média , r$ 500 dose . \\n\\n dados secretaria saúde maceió ( sms ) apontam cobertura vacinal meningite semestre ano capital 78,96 % , abaixo média estipulada ministério saúde , 95 % . lembrando esquema vacinal compreende vacinação 3 doses : 3 idade , 5 1 ano ( dose reforço ) . \\n\\n \" apesar vacina disponível postos saúde , gente muitas crianças vacinadas , vacinação incompleta , caso doses completar esquema \" , ressaltou fernando maia . \\n\\n vacinas sus oferece ? \\n bcg : protege meningite turberculosa \\n pentavalente : protege infecções invasivas , meningite causada haemophilus influenzae sorotipo b \\n meningocócica c : protege doença meningocócica causada neisseria meningitidis sorogrupo c \\n pneumocócica 10 : protege infecções invasivas , meningite causada sorotipos streptococcus pneumoniae',\n",
              " 'jornada delegada policiais bombeiros reforça segurança pública sorriso \\n jornada extra policiais militares bombeiros resulta gastos extras governo . valores pagos administração municipal sorriso . \\n topo \\n prefeitura sorriso \\n\\n 22/08/2023 16h39   atualizado há 32 minutos \\n\\n\\n ar reforço segurança pública , prefeitura municipal sorriso firmou termo cooperação governo mato grosso , secretaria segurança pública implementação jornada delegada , objetivo ampliar policiais bombeiros militares ruas . iniciativa apresentada gabinete gestão integrada ( ggi ) , conta representantes várias forças segurança polícia militar ( pm ) , polícia judiciária civil ( pjc ) , centro integrado operações aéreas ( ciopaer ) , polícia rodoviária federal ( prf ) , secretaria segurança municipal trânsito defesa civil , municipal segurança pública ( comsep ) , guarda municipal judiciário sorriso . \\n\\n jornada delegada realidade policiais militares 2020 ano 2023 implantada junto corpo bombeiros , termo cooperação 0055/2023 . acordo lei 2.201 , maio 2013 , jornada delegada viabilizada fiscalização comércio ilegal irregular ; combate depredação patrimônio público ; fiscalização ambiental , trânsito licenças ; combate fogo . regra , beneficiado executar carga horária diária superior 6 horas , tampouco carga horária mensal superior 50 horas . jornada extra policiais militares bombeiros resulta gastos extras governo . valores pagos administração municipal sorriso , conta previsão orçamentária r$ 700 ano 2023 . \\n\\n\\n prefeito sorriso , ari lafin , aumento efetivo polícia militar , corpo bombeiros reforço significativo combate criminalidade atendimento população , respeito combate queimadas incêndios . \\n\\n jornada delegada realidade policiais militares 2020 — foto : assessoria \\n jornada delegada realidade policiais militares 2020 — foto : assessoria \\n\\n secretário municipal segurança pública , trânsito defesa civil , josé carlos moura prefeitura investindo recursos auxiliar forças segurança município “ estamos empenhando aporte necessário , obviamente , legalidade . estamos investindo jornada delegada , policiais militares , corpo bombeiros . militares folga , trabalham município recebem vencimento referente trabalho prestado , mensalmente , diretamente contas-correntes . gerado excelentes resultados ” . \\n\\n comandante 10.ª cibm sorriso , capitão daniel alves moura silva , jornada delegada representa incentivo integrantes corporação . “ sentimos felizes contribuir horas folga , , receber complemento renda , parceria prefeitura . diariamente militares serviço , jornada delegada , conseguimos escalar militares dia , seja , aumento 50 % efetivo ” . \\n\\n jornada extra policiais militares bombeiros resulta gastos extras governo . — foto : assessoria \\n jornada extra policiais militares bombeiros resulta gastos extras governo . — foto : assessoria \\n\\n acordo comandante 12º batalhão polícia militar sorriso , tenente-coronel jorge almeida , polícia militar recebido investimentos secretaria segurança pública , prefeitura sorriso , termo cooperação técnica jornada delegada , município paga policial militar folga prestam serviço ações município executa . “ jornada delegada ampliar policiais atuam dia dia ruas cidade distritos primavera norte ( primaverinha ) , caravággio esperança proporcionar sensação segurança população . município emprega policial folga , sirva proteja sociedade ” . \\n\\n , acordo secretário josé carlos moura , prefeitura ajuda manutenção forças segurança melhoria atendimento população , comsep ( municipal segurança pública ) . “ orçamento aproximadamente 2 milhões reais funsep ( fundo municipal segurança pública ) forças segurança , refere mobílias , manutenção ar-condicionado , material limpeza , material expediente , cedência servidores município , manutenção prédios , muitas demorar município repasse buscar sanar necessidades melhor atender famílias sorrisenses ” .',\n",
              " '  criança 2 anos picada pálpebra escorpião dormia interior sp \\n caso ocorreu dia 14 agosto , g1 acesso informação terça-feira ( 22 ) . receber atendimento médico , menino liberado . \\n g1 rio preto araçatuba \\n\\n 22/08/2023 16h36   atualizado há 37 minutos \\n\\n escorpião picou pálpebra criança rio preto ( sp ) — foto : renata costa reis / arquivo pessoal \\n escorpião picou pálpebra criança rio preto ( sp ) — foto : renata costa reis / arquivo pessoal \\n\\n\\n criança anos socorrida picada escorpião dormia josé rio preto ( sp ) . caso ocorreu dia 14 agosto , informação divulgada terça-feira ( 22 ) . \\n\\n conforme apurado g1 , mãe acordou choro criança , volta 4h , , chegou , viu escorpião parede . \\n\\n hospital criança maternidade ( hcm ) josé rio preto ( sp ) — foto : foto : divulgação \\n hospital criança maternidade ( hcm ) josé rio preto ( sp ) — foto : foto : divulgação \\n\\n\\n menino picado pálpebra . socorrido levado unidade pronto atendimento ( upa ) encaminhado hospital criança maternidade ( hcm ) . \\n\\n receber atendimento médico , criança liberada visão prejudicada . conforme assessoria hcm , necessária aplicação soro antiescorpiônico .',\n",
              " '  inscrições aulas espanhol gratuitas fatec acabam sexta-feira , presidente prudente \\n , 40 vagas interessados 16 anos , participarão aulas presenciais sábados , 9h 10h30 . \\n g1 presidente prudente \\n\\n 22/08/2023 16h47   atualizado há 27 minutos \\n\\n inscrições aulas espanhol gratuitas fatec acabam sexta-feira , presidente prudente ( sp ) — foto : cedida / secom \\n inscrições aulas espanhol gratuitas fatec acabam sexta-feira , presidente prudente ( sp ) — foto : cedida / secom \\n\\n\\n seguem sexta-feira ( 25 ) inscrições curso gratuito língua espanhola oferecido faculdade tecnologia paulo ( fatec ) , presidente prudente ( sp ) . participar jovens adultos 16 anos . \\n\\n iniciativa , promovida parceria coordenadoria municipal juventude , oferece 40 vagas interessados , preencher formulário on-line . vagas serão oferecidas ordem inscrição . \\n\\n curso objetivo auxiliar desenvolvimento competências exigidas mercado trabalho processos seletivos deseja viajar enriquecer currículo , conteúdos básico , conversação , compreensão auditiva , escrita leitura . \\n\\n\\n aulas presenciais serão ministradas sede fatec , presidente prudente , sábado ( 26 ) , 9h 10h30 , professora espanhol unidade , silmara moscatelli . \\n\\n serviço \\n fatec presidente prudente localizada rua teresina , nº 75 , vila paulo roberto . informações , acesse site .',\n",
              " 'pf abre inquérito investigar houve sabotagem apagão elétrico país \\n pedido governo , polícia federal investigar razões levaram interrupção fornecimento energia regiões brasileiras ; investigação apurar houve falha técnica humana \\n\\n macapá escuro apagão afetou amapá \\n macapá escuro apagão afetou amapá \\n foto : maksuel martins / fotoarena / estadão conteúdo ( 19.nov.2020 ) \\n\\n basília rodrigues \\n\\n 22/08/2023 17:05 \\n compartilhe : \\n facebook \\n twitter \\n linkedin \\n whatsapp \\n flipboard \\n ouvir notícia \\n\\n polícia federal abriu inquérito terça-feira ( 22 ) investigar causas apagão energia elétrica atingiu 25 estados distrito federal , semana passada . investigação seguirá sigilo apurar crimes sabotagem atentado segurança serviço utilidade pública . \\n\\n pf atendeu pedido feito ministérios justiça minas energia . investigação ficará cargo diretoria inteligência policial pf ( dip ) , brasília . \\n\\n vídeo : falha provocou apagão ocorrido excesso energia , fontes \\n\\n\\n apagão : falha ocorrido excesso energia , fontes | cnn 360ºapagão : falha ocorrido excesso energia , fontes | cnn 360º \\n inquérito , polícia ouvir pessoas setor elétrico governo . sobrecarga linha operacionalizada eletrobras , ceará , identificada motivos apagão . \\n\\n hipóteses , há possibilidade falha técnica ação humana , incluindo modalidade dolosa , há intenção cometer crime . \\n\\n acordo governo federal , ocorrido “ extremamente raro ” . falha interligado nacional registrada volta 8h30 . fato causou interrupção regiões norte nordeste . \\n\\n leia \\n\\n há sobra energia país apagão “ erro técnico ” , rui costa \\n há sobra energia país apagão “ erro técnico ” , rui costa \\n apagão reajuste ampliam artilharia política ministro minas energia , fontes \\n apagão reajuste ampliam artilharia política ministro minas energia , fontes \\n apagão , janja post citando privatização eletrobras \\n apagão , janja post citando privatização eletrobras \\n apagão espalhou país devido ação preventiva proteção , operador nacional ( ons ) minimizou carga regiões sul , sudeste centro-oeste , houvesse interrupção total dessas regiões . \\n\\n apagão prejudicou cerca 29 milhões residências estabelecimentos comerciais . lugares , luz durou minutos , , horas . \\n\\n tópicos \\n tópicos']"
            ]
          },
          "metadata": {},
          "execution_count": 34
        }
      ]
    },
    {
      "cell_type": "markdown",
      "source": [
        "##5.2. Submetendo as noticias à pipeline de pré processamento"
      ],
      "metadata": {
        "id": "3sK6c0ymk9Kq"
      }
    },
    {
      "cell_type": "markdown",
      "source": [
        "Em seguida, todas essas notícias serão submetidas à função `pipeLine()`, que abriga as demais funções e realiza todo o pré-processamento dos textos passados como parâmetros."
      ],
      "metadata": {
        "id": "WxhY72ONR0ry"
      }
    },
    {
      "cell_type": "code",
      "source": [
        "treatedNews = pipeLine(newsList)"
      ],
      "metadata": {
        "colab": {
          "base_uri": "https://localhost:8080/"
        },
        "id": "GV6H_qVA5dqw",
        "outputId": "b2270aaa-0c2c-4798-82b7-e1b5748645ea"
      },
      "execution_count": 43,
      "outputs": [
        {
          "output_type": "stream",
          "name": "stdout",
          "text": [
            "Vocabulary: ['foto', '—', 'meningite', 'segurança', 'jornada', 'apagão', '2023', '22', 'notícias', 'anos', 'feira', 'há', 'rio', 'criança', 'bradesco', 'g1', 'militares', 'social', 'quântica', '”', 'municipal', 'delegada', 'policiais', 'it', 'icon', 'ibm', '“', 'arquivo', 'sp', 'casa', 'polícia', 'sorriso', 'energia', 'brasil', '08', 'regime', 'bombeiros', 'pública', 'tecnologia', 'dia', '21', 'atualizado', 'minutos', 'mizael', 'condenado', 'governo', 'forum', 'computação', 'horas', 'acordo', 'bispo', 'mércia', 'matar', 'avó', 'doença', 'município', 'presidente', 'prudente', 'whatsapp', 'criptografia', 'atendimento', 'água', 'compesa', 'compartilhe', 'bairro', 'aberto', 'paulo', 'josé', 'caso', 'branco', 'casos', 'saúde', 'bacteriana', 'ano', 'prefeitura', 'preto', 'fatec', 'falha', 'iforum', 'banco', 'imagem', '10', 'ia', 'itforum', 'ocorrido', 'serviço', 'trânsito', 'justiça', 'policial', '20', 'terça', 'defesa', 'folga', 'crime', 'civil', 'vítima', 'investigação', 'jovem', 'henrique', '2020', 'maricá', 'cachorrinho', 'barco', 'secretaria', 'militar', 'federal', 'assessoria', 'escorpião', 'aulas', 'fontes', 'ti', 'materiais', 'newsletter', 'computerworld', 'parceria', 'criptográficos', 'dados', 'leia', '5', 'alta', 'realidade', 'trecho', 'adutora', 'cabo', 'santo', 'agostinho', 'segunda', 'trabalho', 'progressão', 'ex', 'prisão', 'morte', 'nakashima', 'pena', 'tremembé', 'interior', '2', 'corpo', 'silva', 'pessoal', 'guarda', 'pescador', 'cedida', 'oferece', 'photo', 'receber', 'aumento', 'médico', 'maia', 'pessoa', 'vacinação', 'divulgação', 'protege', 'extra', 'resulta', 'gastos', 'extras', 'forças', 'combate', 'pálpebra', 'costa', 'hcm', 'inscrições', 'espanhol', 'sexta', 'país', 'regiões', 'fóruns', 'colunas', 'estudos', 'podcasts', 'revistas', 'hit', 'linkedin', 'telegram', 'explorar', 'pós', 'open', 'finance', 'agosto', 'quantum', 'aplicações', 'risco', 'afirma', 'ampliar', 'sendo', 'período', 'investindo', 'conforme', '6', 'política', '2022', 'recife', 'guararapes', 'serviços', '24', 'seja', 'técnicos', 'danos', 'cumpria', 'região', 'fotoarena', 'estadão', 'conteúdo', 'abaixo', 'decisão', 'volta', 'informação', 'durante', 'unidade', '3', 'crimes', 'acusados', 'absolvidos', 'viu', 'disse', 'facção', 'ficou', 'vidas', 'rua', 'atingido', 'onda', 'praia', 'embarcação', 'sintomas', 'bactérias', 'vírus', 'sus', 'vacina', 'postos', 'crianças', 'grave', 'estamos', 'maceió', 'meningocócica', 'febre', 'vacinas', 'nacional', 'reforço', 'causada', 'termo', 'cooperação', 'carga', 'população', 'moura', 'técnica', 'manutenção', 'hospital', 'maternidade', 'gratuitas', 'acabam', 'vagas', 'pf', 'inquérito', 'investigar', 'interrupção', 'minas', 'excesso', 'eletrobras', 'acesse', 'vídeos', 'anuncie', 'envie', 'release', 'fale', 'conosco', 'saiba', 'facebook', 'twitter', 'amplia', 'projeto', 'piloto', 'vulnerabilidades', 'pm', 'futuro', 'anunciou', 'uso', 'utilizada', 'aplicação', 'implementar', 'safe', 'criar', 'melhor', 'prática', 'setor', 'identificar', 'algoritmos', 'sistemas', 'base', 'integrar', 'computadores', 'quânticos', 'proteção', 'cíntia', 'passa', 'acesso', 'busca', 'incluindo', 'otimização', 'caixa', 'avançam', 'atualmente', 'necessário', 'operações', 'conheça', 'ceos', 'contas', 'privacidade', 'empresas', 'bcg', 'conteúdos', 'cio', 'cso', '250', 'moradores', 'suspensão', 'abastecimento', 'localidades', 'jaboatão', 'noite', '16h44', 'mostra', 'pingo', 'caindo', 'torneira', 'alex', 'rocha', 'pmpa', 'pessoas', 'afetadas', '📲', 'pontezinha', 'motivo', 'estouramento', 'vista', 'reparo', 'diagnóstico', 'solto', 'conceder', 'namorada', '2010', 'nelson', 'antoine', 'penitenciária', 'lei', 'concedido', 'endereço', 'prisional', 'presos', 'benefício', 'cidade', 'condições', 'semiaberto', 'maio', 'metropolitana', 'morreu', 'tinha', '28', 'ministério', 'público', 'homem', 'evandro', 'homicídio', 'ferreira', 'morto', '2016', 'saymon', 'fonseca', 'francisco', 'velozo', 'tiros', 'surpreendido', 'cerca', 'tia', 'dele', 'caras', 'moto', 'contou', 'época', 'processo', 'participação', 'fatos', 'acusado', 'sabendo', 'colava', 'criminosa', 'mãe', 'virar', 'itaipuaçu', 'aconteceu', 'altura', '70', 'acabou', 'virando', 'acompanha', 'salvos', 'imagens', 'jimmy', 'lopez', 'estavam', \"'\", 'al', 'prevenir', 'contágio', 'causam', 'cresce', 'inverno', 'adultos', '27', 'royalty', 'stock', 'science', 'library', 'afp', '29', 'capital', 'mortes', 'diretamente', 'semestre', 'tempos', 'explicou', 'fernando', 'total', 'início', 'infectada', 'geralmente', 'dor', 'cabeça', 'tipos', 'meningites', 'salvar', 'agência', 'sorotipos', 'sorotipo', 'b', 'média', 'r', 'dose', 'vacinal', 'esquema', 'doses', 'muitas', 'infecções', 'invasivas', 'c', 'valores', 'pagos', 'administração', 'ar', 'objetivo', 'ruas', 'iniciativa', 'conta', 'centro', 'comsep', 'fiscalização', 'horária', 'superior', '50', 'efetivo', 'secretário', 'carlos', 'auxiliar', 'comandante', 'norte', 'milhões', 'material', 'picada', 'dormia', 'ocorreu', '14', 'menino', 'picou', 'renata', 'reis', '40', 'interessados', '16', 'presenciais', '9h', '10h30', 'secom', '25', 'curso', 'serão', 'houve', 'sabotagem', 'elétrico', 'pedido', 'apurar', 'humana', 'macapá', 'escuro', 'afetou', 'amapá', 'ouvir', 'cnn', 'ação', 'sobra', 'erro', 'técnico', 'rui', 'reajuste', 'ampliam', 'artilharia', 'ministro', 'janja', 'post', 'citando', 'privatização', 'tópicos', 'plataforma', 'comunidade', 'series', 'educativos', 'gratuitos', 'produto', 'mídia', 'email', 'realizado', 'msg', 'home', 'utilizará', 'buscará', 'redação', '7', '58', '01', 'shutterstock', 'olho', 'ecossistema', 'inovação', 'inovabra', 'ampliará', 'relacionamento', 'avaliar', 'segura', 'inicialmente', 'será', 'varre', 'localiza', 'pendências', 'permitirá', 'inventário', 'cbom', 'planejar', 'aplicar', 'lembra', 'financeiro', 'utiliza', 'normalmente', 'transações', 'bancárias', 'certificados', 'digitais', 'armazenamento', 'especialistas', 'explorer', 'ajudarão', 'potenciais', 'vulneráveis', 'auxiliando', 'identificação', 'ataques', 'usando', 'avaliação', 'planeja', 'metodologia', 'possam', 'beneficiar', 'tecnologias', 'quânticas', 'seguras', 'prepará', 'las', 'resistentes', 'futuros', 'criptograficamente', 'relevantes', 'totvs', 'itaú', 'unibanco', 'finalizam', 'criação', 'techfin', 'consequências', 'larga', 'escala', 'impacto', 'entendemos', 'preparação', 'prioridade', 'afinal', 'inerente', 'missão', 'barcelos', 'diretora', 'integra', 'network', 'indústria', 'aderir', 'rede', 'expertise', 'softwares', 'movimento', 'experimentações', 'realizadas', '2021', 'experimentos', 'distribuição', 'portfólio', 'forecasting', 'projeção', 'variáveis', 'macroeconômicas', 'simulação', 'precificação', 'derivativos', 'análise', 'medida', 'capacidades', 'permitir', 'eficiência', 'operacional', 'resolução', 'problemas', 'considerados', 'difíceis', 'clássicos', 'esperamos', 'possa', 'amplamente', 'treinamentos', 'científicos', 'equipar', 'time', 'funcionários', 'conhecimento', 'planejamento', 'integração', 'siga', 'fique', 'tags', 'people', '’s', 'choice', 'finalistas', 'prêmio', 'executivo', 'hackers', 'burlam', 'autenticação', 'multifator', 'cfos', 'bruna', 'zamith', 'revela', 'cientista', 'amazon', 'inscreva', 'se', 'relacionadas', 'adoção', 'dispositivos', 'virtual', 'aumenta', 'questões', 'surgir', 'tim', 'oferecer', 'google', 'informática', 'marcaram', 'história', 'cmos', 'apostam', 'generativa', 'vantagem', 'competitiva', 'melhores', 'entrada', 'liderança', 'carreira', 'negócios', 'tendências', 'videos', 'assistir', 'escutar', 'acessar', 'termos', 'copyright', 'midia', 'direitos', 'reservados', 'estoura', 'ficam', 'afeta', 'pe', '18', 'cidades', '23h', 'companhia', 'pernambucana', 'saneamento', 'curcurana', 'barra', 'jangada', 'candeias', 'piedade', '750', 'milímetros', 'ferro', 'fundido', 'gurjau', 'avenida', 'conde', 'expectativa', 'inicial', 'durem', 'podendo', 'prazo', 'estender', 'depender', 'complexidade', 'intervenções', 'fechamento', 'registros', 'conter', 'fluxo', 'procedimento', 'permite', 'esvaziamento', 'conserto', 'problema', 'efetivamente', 'iniciado', 'detalhou', 'realizados', 'tratar', 'tubulação', 'porte', 'mobilizaram', 'equipamentos', 'pesados', 'profissionais', 'recuperar', 'montada', 'estrutura', 'iniciaram', 'escavação', 'alcançar', 'tubo', 'danificado', 'fechar', 'causados', 'acompanhado', 'prestadoras', 'órgão', 'acionado', 'ajudar', 'desvio', 'disciplinar', 'mobilizada', 'equipe', 'realizar', 'levantamento', 'registrados', 'causa', 'providências', 'presidio', 'vale', 'paraíba', '16h45', '54', 'segundos', 'entenda', '13', 'presídio', 'apurou', 'concedeu', 'expedida', '2ª', 'vara', 'execuções', 'criminais', 'taubaté', 'deixou', 'dr', 'augusto', 'salgado', 'p2', '16h', 'confirmado', 'advogado', 'informou', 'cumpriu', 'estabeleceu', 'cumpre', 'trabalhar', 'recolher', 'autorizado', 'legislação', 'determina', 'preso', 'recolha', 'noturno', 'albergado', 'modelo', 'abriga', 'dispõe', 'perder', 'precisa', 'seguir', 'regras', 'permanecer', 'designado', 'repouso', 'dias', 'cumprir', 'horários', 'combinados', 'voltar', 'ausentar', 'reside', 'autorização', 'judicial', 'determinado', 'comparecer', 'juízo', 'informar', 'justificar', 'atividades', 'seguindo', 'básicas', 'juiz', 'estabelecer', 'especiais', 'desaparecida', '23', 'última', 'guarulhos', 'carro', 'encontrados', 'respectivamente', '11', 'junho', 'represa', 'nazaré', 'paulista', 'perícia', 'advogada', 'baleada', 'afogada', 'acusaram', 'ciúmes', 'vingança', 'reatado', 'namoro', 'acusação', 'chamado', 'ajudou', 'fugir', 'condenados', 'doloso', 'qualificado', 'torpe', 'cruel', 'recurso', 'dificultou', 'ocasiões', 'negaram', 'disseram', 'inocentes', 'publicada', 'ac', 'sentença', 'tribunal', 'júri', 'absolveu', 'wallace', 'nascimento', 'gabriel', 'bastos', 'dezembro', 'bahia', 'velha', 'indo', 'homens', 'motocicleta', 'executado', 'metros', 'ouviu', 'disparos', 'tentou', 'correr', 'primo', 'segurou', 'tinham', 'deles', 'desceu', 'atirou', 'costas', 'sobrinho', 'irmã', 'correu', 'caído', 'chão', 'eliane', 'terceiros', 'falaram', 'autor', 'mentira', 'disputa', 'domínio', 'facções', 'havia', 'conheceu', 'co', 'réu', 'sabia', 'audiência', 'integrava', 'acredita', 'envolveram', 'outro', 'escutou', 'comentários', 'resgatam', 'ninguém', 'ferido', 'bianca', 'chaqboudet', '16h42', 'resgatados', 'acidente', 'atuaram', 'tentava', 'entrar', 'mar', 'lateral', 'agentes', 'entraram', 'conseguiram', 'retirar', 'senhor', 'feijão', 'ferimentos', 'banhistas', 'juntaram', 'resgatar', 'sofreu', 'crescem', 'especialista', 'alerta', 'gratuitamente', 'adolescentes', 'vivi', 'leão', 'heliana', 'gonçalves', '16h40', 'considerada', 'endêmica', 'confundida', 'gripe', 'primeiros', 'alagoas', 'registrou', 'acima', 'registrado', 'anterior', '4', 'clique', 'inscrever', 'preocupa', 'sazonalidade', 'refletir', 'recente', 'faleceu', 'domingo', 'arapiraca', 'fatores', 'variação', 'sazonal', 'ganha', 'força', 'doenças', 'infecciosas', 'característica', 'momentos', 'sobressaem', 'diminui', 'intensidade', 'atividade', 'entrevista', 'registra', 'metade', 'faixa', 'etária', 'atingida', 'principalmente', 'menores', 'dependendo', 'apresentar', 'quadro', 'gravidade', 'responsável', 'quadros', 'fatais', 'explica', 'específico', 'levar', 'fulminante', 'morrer', 'capacidade', 'contrário', 'viral', 'benigna', 'tratada', 'dúvida', 'paira', 'distinguir', 'muita', 'comum', 'virais', 'costumam', 'leves', 'intensa', 'paciente', 'recupera', 'rápido', 'rigidez', 'nuca', 'pescoço', 'fica', 'travado', 'aparecem', 'manchas', 'escuras', 'pele', 'transmissão', 'transmitida', 'pequenas', 'gotas', 'saliva', 'entram', 'contato', 'mucosas', 'nariz', 'boca', 'indivíduo', 'saudável', 'espirro', 'tosse', 'suspeita', 'clínica', 'indicação', 'coleta', 'líquor', 'líquido', 'banha', 'nervoso', 'vacinando', 'bacterianas', 'vacinar', 'adolescente', 'adulto', 'disponíveis', 'preciso', 'esperar', 'campanha', 'lista', 'existem', 'particular', '500', 'sms', 'apontam', 'cobertura', '78', '96', 'estipulada', '95', 'lembrando', 'compreende', 'idade', '1', 'apesar', 'disponível', 'gente', 'vacinadas', 'incompleta', 'completar', 'ressaltou', 'turberculosa', 'pentavalente', 'haemophilus', 'influenzae', 'neisseria', 'meningitidis', 'sorogrupo', 'pneumocócica', 'streptococcus', 'pneumoniae', 'reforça', 'topo', '16h39', '32', 'firmou', 'mato', 'grosso', 'implementação', 'apresentada', 'gabinete', 'gestão', 'integrada', 'ggi', 'representantes', 'várias', 'judiciária', 'pjc', 'integrado', 'aéreas', 'ciopaer', 'rodoviária', 'prf', 'judiciário', 'implantada', 'junto', '0055', '201', '2013', 'viabilizada', 'comércio', 'ilegal', 'irregular', 'depredação', 'patrimônio', 'ambiental', 'licenças', 'fogo', 'regra', 'beneficiado', 'executar', 'diária', 'tampouco', 'mensal', 'previsão', 'orçamentária', '700', 'prefeito', 'ari', 'lafin', 'significativo', 'criminalidade', 'respeito', 'queimadas', 'incêndios', 'recursos', 'empenhando', 'aporte', 'obviamente', 'legalidade', 'trabalham', 'recebem', 'vencimento', 'referente', 'prestado', 'mensalmente', 'correntes', 'gerado', 'excelentes', 'resultados', 'ª', 'cibm', 'capitão', 'daniel', 'alves', 'representa', 'incentivo', 'integrantes', 'corporação', 'sentimos', 'felizes', 'contribuir', 'complemento', 'renda', 'diariamente', 'conseguimos', 'escalar', '12º', 'batalhão', 'tenente', 'coronel', 'jorge', 'almeida', 'recebido', 'investimentos', 'paga', 'prestam', 'ações', 'executa', 'atuam', 'distritos', 'primavera', 'primaverinha', 'caravággio', 'esperança', 'proporcionar', 'sensação', 'emprega', 'sirva', 'proteja', 'sociedade', 'ajuda', 'melhoria', 'orçamento', 'aproximadamente', 'reais', 'funsep', 'fundo', 'refere', 'mobílias', 'condicionado', 'limpeza', 'expediente', 'cedência', 'servidores', 'prédios', 'demorar', 'repasse', 'buscar', 'sanar', 'necessidades', 'atender', 'famílias', 'sorrisenses', 'liberado', 'araçatuba', '16h36', '37', 'socorrida', 'divulgada', 'apurado', 'acordou', 'choro', '4h', 'chegou', 'parede', 'picado', 'socorrido', 'levado', 'pronto', 'upa', 'encaminhado', 'liberada', 'visão', 'prejudicada', 'necessária', 'soro', 'antiescorpiônico', 'participarão', 'sábados', '16h47', 'seguem', 'gratuito', 'língua', 'espanhola', 'oferecido', 'faculdade', 'participar', 'jovens', 'promovida', 'coordenadoria', 'juventude', 'preencher', 'formulário', 'on', 'line', 'oferecidas', 'ordem', 'inscrição', 'desenvolvimento', 'competências', 'exigidas', 'mercado', 'processos', 'seletivos', 'deseja', 'viajar', 'enriquecer', 'currículo', 'básico', 'conversação', 'compreensão', 'auditiva', 'escrita', 'leitura', 'ministradas', 'sede', 'sábado', '26', 'professora', 'silmara', 'moscatelli', 'localizada', 'teresina', 'nº', '75', 'vila', 'roberto', 'informações', 'site', 'abre', 'razões', 'levaram', 'fornecimento', 'brasileiras', 'maksuel', 'martins', '19', 'nov', 'basília', 'rodrigues', '17', '05', 'flipboard', 'notícia', 'abriu', 'causas', 'elétrica', 'atingiu', 'estados', 'distrito', 'semana', 'passada', 'seguirá', 'sigilo', 'atentado', 'utilidade', 'atendeu', 'feito', 'ministérios', 'ficará', 'cargo', 'diretoria', 'inteligência', 'dip', 'brasília', 'vídeo', 'provocou', '360ºapagão', '360º', 'sobrecarga', 'linha', 'operacionalizada', 'ceará', 'identificada', 'motivos', 'hipóteses', 'possibilidade', 'modalidade', 'dolosa', 'intenção', 'cometer', 'extremamente', 'raro', 'interligado', 'registrada', '8h30', 'fato', 'causou', 'nordeste', 'espalhou', 'devido', 'preventiva', 'operador', 'ons', 'minimizou', 'sul', 'sudeste', 'oeste', 'houvesse', 'dessas', 'prejudicou', 'residências', 'estabelecimentos', 'comerciais', 'lugares', 'luz', 'durou']\n"
          ]
        },
        {
          "output_type": "stream",
          "name": "stderr",
          "text": [
            "<ipython-input-10-58f0e796c2cf>:5: VisibleDeprecationWarning: Creating an ndarray from ragged nested sequences (which is a list-or-tuple of lists-or-tuples-or ndarrays with different lengths or shapes) is deprecated. If you meant to do this, you must specify 'dtype=object' when creating the ndarray.\n",
            "  array = np.array([[_list[0],preProcess[0], vectorization[0] ],\n"
          ]
        }
      ]
    },
    {
      "cell_type": "markdown",
      "source": [
        "Como próximo passo, é chamada a variável que contém o dataframe responsável por exibir as comparações entre o texto original e sua versão vetorizada após todo o tratamento"
      ],
      "metadata": {
        "id": "TF3-_meKSHGY"
      }
    },
    {
      "cell_type": "code",
      "source": [
        "treatedNews"
      ],
      "metadata": {
        "colab": {
          "base_uri": "https://localhost:8080/",
          "height": 362
        },
        "id": "vXDrBb1bKXMD",
        "outputId": "31c582db-3955-4129-c1a2-f06502e8d5f7"
      },
      "execution_count": 44,
      "outputs": [
        {
          "output_type": "execute_result",
          "data": {
            "text/plain": [
              "                                                   Sentença  \\\n",
              "Frase 1   Acesse nossa plataforma a maior comunidade de ...   \n",
              "Frase 2   Trecho de adutora estoura e 250 mil moradores ...   \n",
              "Frase 3    Mizael Bispo é solto após Justiça conceder pr...   \n",
              "Frase 4   Acusados de matar jovem quando ele ia para cas...   \n",
              "Frase 5   Guarda-vidas de Maricá resgatam pescador e cac...   \n",
              "Frase 6   Casos de meningite crescem em AL; conheça os s...   \n",
              "Frase 7   Jornada Delegada de policiais e bombeiros refo...   \n",
              "Frase 8    Criança de 2 anos é picada na pálpebra por es...   \n",
              "Frase 9    Inscrições para aulas de espanhol gratuitas n...   \n",
              "Frase 10  PF abre inquérito para investigar se houve sab...   \n",
              "\n",
              "                                          Sentença filtrada  \\\n",
              "Frase 1   acesse plataforma comunidade ti brasil \\n\\n   ...   \n",
              "Frase 2   trecho adutora estoura 250 moradores ficam águ...   \n",
              "Frase 3     mizael bispo solto justiça conceder progress...   \n",
              "Frase 4   acusados matar jovem ia casa avó rio branco ab...   \n",
              "Frase 5   guarda-vidas maricá resgatam pescador cachorri...   \n",
              "Frase 6   casos meningite crescem al ; conheça sintomas ...   \n",
              "Frase 7   jornada delegada policiais bombeiros reforça s...   \n",
              "Frase 8     criança 2 anos picada pálpebra escorpião dor...   \n",
              "Frase 9     inscrições aulas espanhol gratuitas fatec ac...   \n",
              "Frase 10  pf abre inquérito investigar houve sabotagem a...   \n",
              "\n",
              "                                                      Vetor  \n",
              "Frase 1   [0.0, 0.0, 0.0, 0.0, 1.0, 0.0, 0.0, 2.0, 0.0, ...  \n",
              "Frase 2   [0.0, 2.0, 2.0, 0.0, 0.0, 0.0, 0.0, 1.0, 1.0, ...  \n",
              "Frase 3   [0.0, 2.0, 2.0, 0.0, 0.0, 0.0, 0.0, 1.0, 2.0, ...  \n",
              "Frase 4   [0.0, 2.0, 3.0, 0.0, 0.0, 0.0, 0.0, 1.0, 2.0, ...  \n",
              "Frase 5   [0.0, 2.0, 3.0, 0.0, 0.0, 0.0, 0.0, 1.0, 1.0, ...  \n",
              "Frase 6   [0.0, 4.0, 4.0, 22.0, 0.0, 0.0, 0.0, 1.0, 1.0,...  \n",
              "Frase 7   [0.0, 4.0, 4.0, 0.0, 14.0, 15.0, 0.0, 4.0, 1.0...  \n",
              "Frase 8   [0.0, 6.0, 4.0, 0.0, 0.0, 0.0, 0.0, 1.0, 3.0, ...  \n",
              "Frase 9   [0.0, 2.0, 2.0, 0.0, 0.0, 0.0, 0.0, 1.0, 1.0, ...  \n",
              "Frase 10  [0.0, 1.0, 0.0, 0.0, 1.0, 0.0, 15.0, 1.0, 2.0,...  "
            ],
            "text/html": [
              "\n",
              "  <div id=\"df-d11eed11-b3b6-4771-9c0d-f85d63a87afe\" class=\"colab-df-container\">\n",
              "    <div>\n",
              "<style scoped>\n",
              "    .dataframe tbody tr th:only-of-type {\n",
              "        vertical-align: middle;\n",
              "    }\n",
              "\n",
              "    .dataframe tbody tr th {\n",
              "        vertical-align: top;\n",
              "    }\n",
              "\n",
              "    .dataframe thead th {\n",
              "        text-align: right;\n",
              "    }\n",
              "</style>\n",
              "<table border=\"1\" class=\"dataframe\">\n",
              "  <thead>\n",
              "    <tr style=\"text-align: right;\">\n",
              "      <th></th>\n",
              "      <th>Sentença</th>\n",
              "      <th>Sentença filtrada</th>\n",
              "      <th>Vetor</th>\n",
              "    </tr>\n",
              "  </thead>\n",
              "  <tbody>\n",
              "    <tr>\n",
              "      <th>Frase 1</th>\n",
              "      <td>Acesse nossa plataforma a maior comunidade de ...</td>\n",
              "      <td>acesse plataforma comunidade ti brasil \\n\\n   ...</td>\n",
              "      <td>[0.0, 0.0, 0.0, 0.0, 1.0, 0.0, 0.0, 2.0, 0.0, ...</td>\n",
              "    </tr>\n",
              "    <tr>\n",
              "      <th>Frase 2</th>\n",
              "      <td>Trecho de adutora estoura e 250 mil moradores ...</td>\n",
              "      <td>trecho adutora estoura 250 moradores ficam águ...</td>\n",
              "      <td>[0.0, 2.0, 2.0, 0.0, 0.0, 0.0, 0.0, 1.0, 1.0, ...</td>\n",
              "    </tr>\n",
              "    <tr>\n",
              "      <th>Frase 3</th>\n",
              "      <td>Mizael Bispo é solto após Justiça conceder pr...</td>\n",
              "      <td>mizael bispo solto justiça conceder progress...</td>\n",
              "      <td>[0.0, 2.0, 2.0, 0.0, 0.0, 0.0, 0.0, 1.0, 2.0, ...</td>\n",
              "    </tr>\n",
              "    <tr>\n",
              "      <th>Frase 4</th>\n",
              "      <td>Acusados de matar jovem quando ele ia para cas...</td>\n",
              "      <td>acusados matar jovem ia casa avó rio branco ab...</td>\n",
              "      <td>[0.0, 2.0, 3.0, 0.0, 0.0, 0.0, 0.0, 1.0, 2.0, ...</td>\n",
              "    </tr>\n",
              "    <tr>\n",
              "      <th>Frase 5</th>\n",
              "      <td>Guarda-vidas de Maricá resgatam pescador e cac...</td>\n",
              "      <td>guarda-vidas maricá resgatam pescador cachorri...</td>\n",
              "      <td>[0.0, 2.0, 3.0, 0.0, 0.0, 0.0, 0.0, 1.0, 1.0, ...</td>\n",
              "    </tr>\n",
              "    <tr>\n",
              "      <th>Frase 6</th>\n",
              "      <td>Casos de meningite crescem em AL; conheça os s...</td>\n",
              "      <td>casos meningite crescem al ; conheça sintomas ...</td>\n",
              "      <td>[0.0, 4.0, 4.0, 22.0, 0.0, 0.0, 0.0, 1.0, 1.0,...</td>\n",
              "    </tr>\n",
              "    <tr>\n",
              "      <th>Frase 7</th>\n",
              "      <td>Jornada Delegada de policiais e bombeiros refo...</td>\n",
              "      <td>jornada delegada policiais bombeiros reforça s...</td>\n",
              "      <td>[0.0, 4.0, 4.0, 0.0, 14.0, 15.0, 0.0, 4.0, 1.0...</td>\n",
              "    </tr>\n",
              "    <tr>\n",
              "      <th>Frase 8</th>\n",
              "      <td>Criança de 2 anos é picada na pálpebra por es...</td>\n",
              "      <td>criança 2 anos picada pálpebra escorpião dor...</td>\n",
              "      <td>[0.0, 6.0, 4.0, 0.0, 0.0, 0.0, 0.0, 1.0, 3.0, ...</td>\n",
              "    </tr>\n",
              "    <tr>\n",
              "      <th>Frase 9</th>\n",
              "      <td>Inscrições para aulas de espanhol gratuitas n...</td>\n",
              "      <td>inscrições aulas espanhol gratuitas fatec ac...</td>\n",
              "      <td>[0.0, 2.0, 2.0, 0.0, 0.0, 0.0, 0.0, 1.0, 1.0, ...</td>\n",
              "    </tr>\n",
              "    <tr>\n",
              "      <th>Frase 10</th>\n",
              "      <td>PF abre inquérito para investigar se houve sab...</td>\n",
              "      <td>pf abre inquérito investigar houve sabotagem a...</td>\n",
              "      <td>[0.0, 1.0, 0.0, 0.0, 1.0, 0.0, 15.0, 1.0, 2.0,...</td>\n",
              "    </tr>\n",
              "  </tbody>\n",
              "</table>\n",
              "</div>\n",
              "    <div class=\"colab-df-buttons\">\n",
              "\n",
              "  <div class=\"colab-df-container\">\n",
              "    <button class=\"colab-df-convert\" onclick=\"convertToInteractive('df-d11eed11-b3b6-4771-9c0d-f85d63a87afe')\"\n",
              "            title=\"Convert this dataframe to an interactive table.\"\n",
              "            style=\"display:none;\">\n",
              "\n",
              "  <svg xmlns=\"http://www.w3.org/2000/svg\" height=\"24px\" viewBox=\"0 -960 960 960\">\n",
              "    <path d=\"M120-120v-720h720v720H120Zm60-500h600v-160H180v160Zm220 220h160v-160H400v160Zm0 220h160v-160H400v160ZM180-400h160v-160H180v160Zm440 0h160v-160H620v160ZM180-180h160v-160H180v160Zm440 0h160v-160H620v160Z\"/>\n",
              "  </svg>\n",
              "    </button>\n",
              "\n",
              "  <style>\n",
              "    .colab-df-container {\n",
              "      display:flex;\n",
              "      gap: 12px;\n",
              "    }\n",
              "\n",
              "    .colab-df-convert {\n",
              "      background-color: #E8F0FE;\n",
              "      border: none;\n",
              "      border-radius: 50%;\n",
              "      cursor: pointer;\n",
              "      display: none;\n",
              "      fill: #1967D2;\n",
              "      height: 32px;\n",
              "      padding: 0 0 0 0;\n",
              "      width: 32px;\n",
              "    }\n",
              "\n",
              "    .colab-df-convert:hover {\n",
              "      background-color: #E2EBFA;\n",
              "      box-shadow: 0px 1px 2px rgba(60, 64, 67, 0.3), 0px 1px 3px 1px rgba(60, 64, 67, 0.15);\n",
              "      fill: #174EA6;\n",
              "    }\n",
              "\n",
              "    .colab-df-buttons div {\n",
              "      margin-bottom: 4px;\n",
              "    }\n",
              "\n",
              "    [theme=dark] .colab-df-convert {\n",
              "      background-color: #3B4455;\n",
              "      fill: #D2E3FC;\n",
              "    }\n",
              "\n",
              "    [theme=dark] .colab-df-convert:hover {\n",
              "      background-color: #434B5C;\n",
              "      box-shadow: 0px 1px 3px 1px rgba(0, 0, 0, 0.15);\n",
              "      filter: drop-shadow(0px 1px 2px rgba(0, 0, 0, 0.3));\n",
              "      fill: #FFFFFF;\n",
              "    }\n",
              "  </style>\n",
              "\n",
              "    <script>\n",
              "      const buttonEl =\n",
              "        document.querySelector('#df-d11eed11-b3b6-4771-9c0d-f85d63a87afe button.colab-df-convert');\n",
              "      buttonEl.style.display =\n",
              "        google.colab.kernel.accessAllowed ? 'block' : 'none';\n",
              "\n",
              "      async function convertToInteractive(key) {\n",
              "        const element = document.querySelector('#df-d11eed11-b3b6-4771-9c0d-f85d63a87afe');\n",
              "        const dataTable =\n",
              "          await google.colab.kernel.invokeFunction('convertToInteractive',\n",
              "                                                    [key], {});\n",
              "        if (!dataTable) return;\n",
              "\n",
              "        const docLinkHtml = 'Like what you see? Visit the ' +\n",
              "          '<a target=\"_blank\" href=https://colab.research.google.com/notebooks/data_table.ipynb>data table notebook</a>'\n",
              "          + ' to learn more about interactive tables.';\n",
              "        element.innerHTML = '';\n",
              "        dataTable['output_type'] = 'display_data';\n",
              "        await google.colab.output.renderOutput(dataTable, element);\n",
              "        const docLink = document.createElement('div');\n",
              "        docLink.innerHTML = docLinkHtml;\n",
              "        element.appendChild(docLink);\n",
              "      }\n",
              "    </script>\n",
              "  </div>\n",
              "\n",
              "\n",
              "<div id=\"df-e3ba6de0-054e-48ae-82e1-0a324abfdb96\">\n",
              "  <button class=\"colab-df-quickchart\" onclick=\"quickchart('df-e3ba6de0-054e-48ae-82e1-0a324abfdb96')\"\n",
              "            title=\"Suggest charts.\"\n",
              "            style=\"display:none;\">\n",
              "\n",
              "<svg xmlns=\"http://www.w3.org/2000/svg\" height=\"24px\"viewBox=\"0 0 24 24\"\n",
              "     width=\"24px\">\n",
              "    <g>\n",
              "        <path d=\"M19 3H5c-1.1 0-2 .9-2 2v14c0 1.1.9 2 2 2h14c1.1 0 2-.9 2-2V5c0-1.1-.9-2-2-2zM9 17H7v-7h2v7zm4 0h-2V7h2v10zm4 0h-2v-4h2v4z\"/>\n",
              "    </g>\n",
              "</svg>\n",
              "  </button>\n",
              "\n",
              "<style>\n",
              "  .colab-df-quickchart {\n",
              "    background-color: #E8F0FE;\n",
              "    border: none;\n",
              "    border-radius: 50%;\n",
              "    cursor: pointer;\n",
              "    display: none;\n",
              "    fill: #1967D2;\n",
              "    height: 32px;\n",
              "    padding: 0 0 0 0;\n",
              "    width: 32px;\n",
              "  }\n",
              "\n",
              "  .colab-df-quickchart:hover {\n",
              "    background-color: #E2EBFA;\n",
              "    box-shadow: 0px 1px 2px rgba(60, 64, 67, 0.3), 0px 1px 3px 1px rgba(60, 64, 67, 0.15);\n",
              "    fill: #174EA6;\n",
              "  }\n",
              "\n",
              "  [theme=dark] .colab-df-quickchart {\n",
              "    background-color: #3B4455;\n",
              "    fill: #D2E3FC;\n",
              "  }\n",
              "\n",
              "  [theme=dark] .colab-df-quickchart:hover {\n",
              "    background-color: #434B5C;\n",
              "    box-shadow: 0px 1px 3px 1px rgba(0, 0, 0, 0.15);\n",
              "    filter: drop-shadow(0px 1px 2px rgba(0, 0, 0, 0.3));\n",
              "    fill: #FFFFFF;\n",
              "  }\n",
              "</style>\n",
              "\n",
              "  <script>\n",
              "    async function quickchart(key) {\n",
              "      const charts = await google.colab.kernel.invokeFunction(\n",
              "          'suggestCharts', [key], {});\n",
              "    }\n",
              "    (() => {\n",
              "      let quickchartButtonEl =\n",
              "        document.querySelector('#df-e3ba6de0-054e-48ae-82e1-0a324abfdb96 button');\n",
              "      quickchartButtonEl.style.display =\n",
              "        google.colab.kernel.accessAllowed ? 'block' : 'none';\n",
              "    })();\n",
              "  </script>\n",
              "</div>\n",
              "    </div>\n",
              "  </div>\n"
            ]
          },
          "metadata": {},
          "execution_count": 44
        }
      ]
    },
    {
      "cell_type": "markdown",
      "source": [
        "##5.3. Comparando as notícias"
      ],
      "metadata": {
        "id": "fWq9rm2ETIFN"
      }
    },
    {
      "cell_type": "markdown",
      "source": [
        "Por fim, é chamada a função `get_similarity()` para comparar as notícias de índice 0 e 1, ou seja, as duas primeiras notícias que aparecem na lista *newsList*"
      ],
      "metadata": {
        "id": "VITv_EQTSmKW"
      }
    },
    {
      "cell_type": "code",
      "source": [
        "get_similarity(treatedNews['Vetor'],0,1)"
      ],
      "metadata": {
        "colab": {
          "base_uri": "https://localhost:8080/"
        },
        "id": "xgIjUv1y21A0",
        "outputId": "c3fcc6fc-b6d1-4be8-d7de-c1a53c445644"
      },
      "execution_count": 47,
      "outputs": [
        {
          "output_type": "execute_result",
          "data": {
            "text/plain": [
              "0.024907894331711502"
            ]
          },
          "metadata": {},
          "execution_count": 47
        }
      ]
    },
    {
      "cell_type": "markdown",
      "source": [
        "Como pode ser visualizado acima, após todo o pré-processamento das notícias e suas transformações em vetores, a similaridade da primeira noticia com a segunda coresponde a um valor de aproximadamente 0,2 ; o que pode ser considerado um valor bem baixo, mas sobretudo esperado visto que ambas as noticias de fato não possuem nenhum assunto em comum, sendo essa ínfima semelhança resultado de possíveis jargões jornalísticos presentes em cada um dos textos"
      ],
      "metadata": {
        "id": "kmQp8w_UTR3c"
      }
    },
    {
      "cell_type": "markdown",
      "source": [
        "#6.0. Conclusão"
      ],
      "metadata": {
        "id": "HJ2lhR33UpNa"
      }
    },
    {
      "cell_type": "markdown",
      "source": [
        "Ao fim do processo, pode-se concluir que o algorítimo possui um desempenho que satisfaz as expectativas esperadas com sua implementação, sendo capaz de tratar, tokenizar, vetorizar e comparar uma sequência de textos passadas a ele. Além disso, todos os teste de cada função validam seu correto funcionamento. Sendo assim, em um primeiro momento, constata-se que o algorítmo desenvolvido é completamente capaz de realizar o Processamento de Linguagem Natural (PLN), e deverá ser implemtendado em futuras entregas junto ao restante da aplicação"
      ],
      "metadata": {
        "id": "ccZsq4pYUrAb"
      }
    }
  ]
}